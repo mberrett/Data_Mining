{
 "cells": [
  {
   "cell_type": "markdown",
   "metadata": {},
   "source": [
    "# Import Data and Necessary Packages"
   ]
  },
  {
   "cell_type": "code",
   "execution_count": 6,
   "metadata": {
    "collapsed": false
   },
   "outputs": [],
   "source": [
    "import pandas as pd, numpy as np, matplotlib.pyplot as plt, math"
   ]
  },
  {
   "cell_type": "code",
   "execution_count": 7,
   "metadata": {
    "collapsed": false
   },
   "outputs": [],
   "source": [
    "train = pd.read_csv('spam_train.csv')\n",
    "f_train = train.iloc[:,:57]\n",
    "t_train = train.iloc[:,-1]"
   ]
  },
  {
   "cell_type": "code",
   "execution_count": 8,
   "metadata": {
    "collapsed": false
   },
   "outputs": [],
   "source": [
    "test = pd.read_csv('spam_test.csv', index_col = 0)\n",
    "f_test = test.iloc[:,:57]\n",
    "t_test = test.iloc[:,-1]"
   ]
  },
  {
   "cell_type": "markdown",
   "metadata": {
    "collapsed": false
   },
   "source": [
    "### Z-Score Normalized Features"
   ]
  },
  {
   "cell_type": "code",
   "execution_count": 9,
   "metadata": {
    "collapsed": false
   },
   "outputs": [],
   "source": [
    "norm_f_train = (f_train - f_train.mean()) / f_train.std()\n",
    "norm_f_test = (f_test - f_train.mean()) / f_train.std()"
   ]
  },
  {
   "cell_type": "markdown",
   "metadata": {},
   "source": [
    "# Functions"
   ]
  },
  {
   "cell_type": "markdown",
   "metadata": {},
   "source": [
    "### Accuracy"
   ]
  },
  {
   "cell_type": "code",
   "execution_count": 10,
   "metadata": {
    "collapsed": true
   },
   "outputs": [],
   "source": [
    "def KNN_accuracy(pred_X, test_data_y):\n",
    "    \n",
    "    \"\"\"\n",
    "    Takes in predicted and actual values for test instances.\n",
    "    Returns an accuracy score.\n",
    "    \"\"\"\n",
    "    \n",
    "    test_target = np.array(t_test)\n",
    "    pred_target = np.array(pred_X)\n",
    "    \n",
    "    accuracy_score = 0\n",
    "    \n",
    "    for i in range(len(pred_X)):\n",
    "        if test_target[i] == pred_target[i]:\n",
    "            accuracy_score = accuracy_score + 1\n",
    "        else:\n",
    "            accuracy_score = accuracy_score + 0\n",
    "        \n",
    "    return (accuracy_score / len(pred_X))"
   ]
  },
  {
   "cell_type": "markdown",
   "metadata": {},
   "source": [
    "### Majority Vote"
   ]
  },
  {
   "cell_type": "code",
   "execution_count": 11,
   "metadata": {
    "collapsed": true
   },
   "outputs": [],
   "source": [
    "def majority_vote(categories_list):\n",
    "    \n",
    "    \"\"\"\n",
    "    Takes in a list of votes of length k.\n",
    "    Returns the value that consitutes the majority.\n",
    "    \"\"\"\n",
    "    \n",
    "    ones = categories_list.count(1)\n",
    "    zeroes = categories_list.count(0)\n",
    "\n",
    "    if ones > zeroes:\n",
    "        result = 1\n",
    "    else:\n",
    "        result = 0\n",
    "    \n",
    "    return result"
   ]
  },
  {
   "cell_type": "markdown",
   "metadata": {},
   "source": [
    "### Predict Instance"
   ]
  },
  {
   "cell_type": "code",
   "execution_count": 12,
   "metadata": {
    "collapsed": false
   },
   "outputs": [],
   "source": [
    "def predict_instance(X_train, y_train, test_instance, k, n):\n",
    "    \n",
    "    \"\"\"\n",
    "    Takes in training features, training targets, testing features,\n",
    "    a value for k, and a value for n, an index value \n",
    "    that determines the testing instance against which \n",
    "    the training instances are measured in terms of Eucledian distance.\n",
    "    \n",
    "    Sorts the list of distances in ascending order,\n",
    "    keeping only the first k of the them in a new list,\n",
    "    with which it computes a majority vote. \n",
    "    \n",
    "    Returns the result of the majority vote. \n",
    "    \"\"\"\n",
    "    \n",
    "    distances = []\n",
    "    targets = []\n",
    "    \n",
    "    # Get the distances for one instance\n",
    "    test = np.array(y_train)\n",
    "    train = np.array(X_train)\n",
    "    instance = np.array(test_instance)\n",
    "    \n",
    "    #1st for loop\n",
    "    for i in range(len(train)):\n",
    "    \n",
    "        dist = np.sqrt(np.sum(np.square(instance[n] - train[i])))\n",
    "        distances.append([dist,i])\n",
    "     \n",
    "    distances = sorted(distances)\n",
    "    \n",
    "    #2nd for loop\n",
    "    for i in range(k):\n",
    "        index = distances[i][1]\n",
    "        targets.append(y_train[index])\n",
    "    \n",
    "    # majority vote\n",
    "    return majority_vote(targets)\n"
   ]
  },
  {
   "cell_type": "markdown",
   "metadata": {},
   "source": [
    "# KNN Classifier"
   ]
  },
  {
   "cell_type": "code",
   "execution_count": 13,
   "metadata": {
    "collapsed": true
   },
   "outputs": [],
   "source": [
    "def KNN_Classifier(X_train, y_train, X_test, k):\n",
    "    \n",
    "    \"\"\"\n",
    "    Returns an array of predicted values for a testing \n",
    "    \"\"\"\n",
    "    \n",
    "    pred_array = []\n",
    "    for x in range(len(X_test)):\n",
    "        val = predict_instance(X_train, t_train, X_test, k, x)\n",
    "        pred_array.append(val)\n",
    "    \n",
    "    return pred_array"
   ]
  },
  {
   "cell_type": "markdown",
   "metadata": {},
   "source": [
    "# Questions 1.a.b"
   ]
  },
  {
   "cell_type": "markdown",
   "metadata": {},
   "source": [
    "# $K = 1$"
   ]
  },
  {
   "cell_type": "code",
   "execution_count": 14,
   "metadata": {
    "collapsed": false
   },
   "outputs": [],
   "source": [
    "pred_K1 = KNN_Classifier(f_train, t_train, f_test, 1)"
   ]
  },
  {
   "cell_type": "code",
   "execution_count": 15,
   "metadata": {
    "collapsed": false
   },
   "outputs": [
    {
     "data": {
      "text/plain": [
       "0.7522816166883963"
      ]
     },
     "execution_count": 15,
     "metadata": {},
     "output_type": "execute_result"
    }
   ],
   "source": [
    "KNN_accuracy(pred_K1, t_test)"
   ]
  },
  {
   "cell_type": "markdown",
   "metadata": {},
   "source": [
    "### Normalized"
   ]
  },
  {
   "cell_type": "code",
   "execution_count": 16,
   "metadata": {
    "collapsed": false
   },
   "outputs": [],
   "source": [
    "norm_K1 = KNN_Classifier(norm_f_train, t_train, norm_f_test, 1)"
   ]
  },
  {
   "cell_type": "code",
   "execution_count": 17,
   "metadata": {
    "collapsed": false
   },
   "outputs": [
    {
     "data": {
      "text/plain": [
       "0.8561495002172969"
      ]
     },
     "execution_count": 17,
     "metadata": {},
     "output_type": "execute_result"
    }
   ],
   "source": [
    "KNN_accuracy(norm_K1, t_test)"
   ]
  },
  {
   "cell_type": "markdown",
   "metadata": {},
   "source": [
    "# $K = 5$"
   ]
  },
  {
   "cell_type": "code",
   "execution_count": 18,
   "metadata": {
    "collapsed": false
   },
   "outputs": [],
   "source": [
    "pred_K5 = KNN_Classifier(f_train, t_train, f_test, 5)"
   ]
  },
  {
   "cell_type": "code",
   "execution_count": 19,
   "metadata": {
    "collapsed": false
   },
   "outputs": [
    {
     "data": {
      "text/plain": [
       "0.7548891786179922"
      ]
     },
     "execution_count": 19,
     "metadata": {},
     "output_type": "execute_result"
    }
   ],
   "source": [
    "KNN_accuracy(pred_K5, t_test)"
   ]
  },
  {
   "cell_type": "markdown",
   "metadata": {},
   "source": [
    "### Normalized $K = 5$"
   ]
  },
  {
   "cell_type": "code",
   "execution_count": 20,
   "metadata": {
    "collapsed": true
   },
   "outputs": [],
   "source": [
    "norm_K5 = KNN_Classifier(norm_f_train, t_train, norm_f_test, 5)"
   ]
  },
  {
   "cell_type": "code",
   "execution_count": 21,
   "metadata": {
    "collapsed": false
   },
   "outputs": [
    {
     "data": {
      "text/plain": [
       "0.8700564971751412"
      ]
     },
     "execution_count": 21,
     "metadata": {},
     "output_type": "execute_result"
    }
   ],
   "source": [
    "KNN_accuracy(norm_K5, t_test)"
   ]
  },
  {
   "cell_type": "markdown",
   "metadata": {
    "collapsed": true
   },
   "source": [
    "# $K = 11$"
   ]
  },
  {
   "cell_type": "code",
   "execution_count": 22,
   "metadata": {
    "collapsed": true
   },
   "outputs": [],
   "source": [
    "pred_K11 = KNN_Classifier(f_train, t_train, f_test, 11)"
   ]
  },
  {
   "cell_type": "code",
   "execution_count": 23,
   "metadata": {
    "collapsed": false
   },
   "outputs": [
    {
     "data": {
      "text/plain": [
       "0.7648848326814428"
      ]
     },
     "execution_count": 23,
     "metadata": {},
     "output_type": "execute_result"
    }
   ],
   "source": [
    "KNN_accuracy(pred_K11, t_test)"
   ]
  },
  {
   "cell_type": "markdown",
   "metadata": {},
   "source": [
    "### Normalized $K = 11$"
   ]
  },
  {
   "cell_type": "code",
   "execution_count": 24,
   "metadata": {
    "collapsed": true
   },
   "outputs": [],
   "source": [
    "norm_K11 = KNN_Classifier(norm_f_train, t_train, norm_f_test, 11)"
   ]
  },
  {
   "cell_type": "code",
   "execution_count": 25,
   "metadata": {
    "collapsed": false
   },
   "outputs": [
    {
     "data": {
      "text/plain": [
       "0.8791829639287266"
      ]
     },
     "execution_count": 25,
     "metadata": {},
     "output_type": "execute_result"
    }
   ],
   "source": [
    "KNN_accuracy(norm_K11, t_test)"
   ]
  },
  {
   "cell_type": "markdown",
   "metadata": {},
   "source": [
    "# $K = 21$"
   ]
  },
  {
   "cell_type": "code",
   "execution_count": 26,
   "metadata": {
    "collapsed": true
   },
   "outputs": [],
   "source": [
    "pred_K21 = KNN_Classifier(f_train, t_train, f_test, 21)"
   ]
  },
  {
   "cell_type": "code",
   "execution_count": 27,
   "metadata": {
    "collapsed": false
   },
   "outputs": [
    {
     "data": {
      "text/plain": [
       "0.7466318991742721"
      ]
     },
     "execution_count": 27,
     "metadata": {},
     "output_type": "execute_result"
    }
   ],
   "source": [
    "KNN_accuracy(pred_K21, t_test)"
   ]
  },
  {
   "cell_type": "markdown",
   "metadata": {},
   "source": [
    "### Normalized $K = 21$"
   ]
  },
  {
   "cell_type": "code",
   "execution_count": 28,
   "metadata": {
    "collapsed": true
   },
   "outputs": [],
   "source": [
    "norm_K21 = KNN_Classifier(norm_f_train, t_train, norm_f_test, 21)"
   ]
  },
  {
   "cell_type": "code",
   "execution_count": 29,
   "metadata": {
    "collapsed": false
   },
   "outputs": [
    {
     "data": {
      "text/plain": [
       "0.8843980877879183"
      ]
     },
     "execution_count": 29,
     "metadata": {},
     "output_type": "execute_result"
    }
   ],
   "source": [
    "KNN_accuracy(norm_K21, t_test)"
   ]
  },
  {
   "cell_type": "markdown",
   "metadata": {},
   "source": [
    "# $K = 41$"
   ]
  },
  {
   "cell_type": "code",
   "execution_count": 30,
   "metadata": {
    "collapsed": true
   },
   "outputs": [],
   "source": [
    "pred_K41 = KNN_Classifier(f_train, t_train, f_test, 41)"
   ]
  },
  {
   "cell_type": "code",
   "execution_count": 31,
   "metadata": {
    "collapsed": false
   },
   "outputs": [
    {
     "data": {
      "text/plain": [
       "0.7522816166883963"
      ]
     },
     "execution_count": 31,
     "metadata": {},
     "output_type": "execute_result"
    }
   ],
   "source": [
    "KNN_accuracy(pred_K41, t_test)"
   ]
  },
  {
   "cell_type": "markdown",
   "metadata": {},
   "source": [
    "### Normalized $K = 41$"
   ]
  },
  {
   "cell_type": "code",
   "execution_count": 32,
   "metadata": {
    "collapsed": true
   },
   "outputs": [],
   "source": [
    "norm_K41 = KNN_Classifier(norm_f_train, t_train, norm_f_test, 41)"
   ]
  },
  {
   "cell_type": "code",
   "execution_count": 33,
   "metadata": {
    "collapsed": false
   },
   "outputs": [
    {
     "data": {
      "text/plain": [
       "0.8852672750977836"
      ]
     },
     "execution_count": 33,
     "metadata": {},
     "output_type": "execute_result"
    }
   ],
   "source": [
    "KNN_accuracy(norm_K41, t_test)"
   ]
  },
  {
   "cell_type": "markdown",
   "metadata": {},
   "source": [
    "# $K = 61$"
   ]
  },
  {
   "cell_type": "code",
   "execution_count": 34,
   "metadata": {
    "collapsed": true
   },
   "outputs": [],
   "source": [
    "pred_K61 = KNN_Classifier(f_train, t_train, f_test, 61)"
   ]
  },
  {
   "cell_type": "code",
   "execution_count": 35,
   "metadata": {
    "collapsed": false
   },
   "outputs": [
    {
     "data": {
      "text/plain": [
       "0.7375054324206867"
      ]
     },
     "execution_count": 35,
     "metadata": {},
     "output_type": "execute_result"
    }
   ],
   "source": [
    "KNN_accuracy(pred_K61, t_test)"
   ]
  },
  {
   "cell_type": "markdown",
   "metadata": {},
   "source": [
    "### Normalized $K = 61$"
   ]
  },
  {
   "cell_type": "code",
   "execution_count": 36,
   "metadata": {
    "collapsed": true
   },
   "outputs": [],
   "source": [
    "norm_K61 = KNN_Classifier(norm_f_train, t_train, norm_f_test, 61)"
   ]
  },
  {
   "cell_type": "code",
   "execution_count": 37,
   "metadata": {
    "collapsed": false
   },
   "outputs": [
    {
     "data": {
      "text/plain": [
       "0.8826597131681877"
      ]
     },
     "execution_count": 37,
     "metadata": {},
     "output_type": "execute_result"
    }
   ],
   "source": [
    "KNN_accuracy(norm_K61, t_test)"
   ]
  },
  {
   "cell_type": "markdown",
   "metadata": {},
   "source": [
    "# $K = 81$"
   ]
  },
  {
   "cell_type": "code",
   "execution_count": 38,
   "metadata": {
    "collapsed": true
   },
   "outputs": [],
   "source": [
    "pred_K81 = KNN_Classifier(f_train, t_train, f_test, 81)"
   ]
  },
  {
   "cell_type": "code",
   "execution_count": 39,
   "metadata": {
    "collapsed": false
   },
   "outputs": [
    {
     "data": {
      "text/plain": [
       "0.7266405910473707"
      ]
     },
     "execution_count": 39,
     "metadata": {},
     "output_type": "execute_result"
    }
   ],
   "source": [
    "KNN_accuracy(pred_K81, t_test)"
   ]
  },
  {
   "cell_type": "markdown",
   "metadata": {},
   "source": [
    "### Normalized $K = 81$"
   ]
  },
  {
   "cell_type": "code",
   "execution_count": 40,
   "metadata": {
    "collapsed": true
   },
   "outputs": [],
   "source": [
    "norm_K81 = KNN_Classifier(norm_f_train, t_train, norm_f_test, 81)"
   ]
  },
  {
   "cell_type": "code",
   "execution_count": 41,
   "metadata": {
    "collapsed": false
   },
   "outputs": [
    {
     "data": {
      "text/plain": [
       "0.877444589308996"
      ]
     },
     "execution_count": 41,
     "metadata": {},
     "output_type": "execute_result"
    }
   ],
   "source": [
    "KNN_accuracy(norm_K81, t_test)"
   ]
  },
  {
   "cell_type": "markdown",
   "metadata": {},
   "source": [
    "# $K = 101$"
   ]
  },
  {
   "cell_type": "code",
   "execution_count": 42,
   "metadata": {
    "collapsed": true
   },
   "outputs": [],
   "source": [
    "pred_K101 = KNN_Classifier(f_train, t_train, f_test, 101)"
   ]
  },
  {
   "cell_type": "code",
   "execution_count": 43,
   "metadata": {
    "collapsed": false
   },
   "outputs": [
    {
     "data": {
      "text/plain": [
       "0.7288135593220338"
      ]
     },
     "execution_count": 43,
     "metadata": {},
     "output_type": "execute_result"
    }
   ],
   "source": [
    "KNN_accuracy(pred_K101, t_test)"
   ]
  },
  {
   "cell_type": "markdown",
   "metadata": {},
   "source": [
    "### Normalized $K = 101$"
   ]
  },
  {
   "cell_type": "code",
   "execution_count": 44,
   "metadata": {
    "collapsed": true
   },
   "outputs": [],
   "source": [
    "norm_K101 = KNN_Classifier(norm_f_train, t_train, norm_f_test, 101)"
   ]
  },
  {
   "cell_type": "code",
   "execution_count": 45,
   "metadata": {
    "collapsed": false
   },
   "outputs": [
    {
     "data": {
      "text/plain": [
       "0.8752716210343329"
      ]
     },
     "execution_count": 45,
     "metadata": {},
     "output_type": "execute_result"
    }
   ],
   "source": [
    "KNN_accuracy(norm_K101, t_test)"
   ]
  },
  {
   "cell_type": "markdown",
   "metadata": {},
   "source": [
    "# $K = 201$"
   ]
  },
  {
   "cell_type": "code",
   "execution_count": 46,
   "metadata": {
    "collapsed": true
   },
   "outputs": [],
   "source": [
    "pred_K201 = KNN_Classifier(f_train, t_train, f_test, 201)"
   ]
  },
  {
   "cell_type": "code",
   "execution_count": 47,
   "metadata": {
    "collapsed": false
   },
   "outputs": [
    {
     "data": {
      "text/plain": [
       "0.7314211212516297"
      ]
     },
     "execution_count": 47,
     "metadata": {},
     "output_type": "execute_result"
    }
   ],
   "source": [
    "KNN_accuracy(pred_K201, t_test)"
   ]
  },
  {
   "cell_type": "markdown",
   "metadata": {},
   "source": [
    "### Normalized $K = 201$"
   ]
  },
  {
   "cell_type": "code",
   "execution_count": 48,
   "metadata": {
    "collapsed": true
   },
   "outputs": [],
   "source": [
    "norm_K201 = KNN_Classifier(norm_f_train, t_train, norm_f_test, 201)"
   ]
  },
  {
   "cell_type": "code",
   "execution_count": 49,
   "metadata": {
    "collapsed": false
   },
   "outputs": [
    {
     "data": {
      "text/plain": [
       "0.8600608431116906"
      ]
     },
     "execution_count": 49,
     "metadata": {},
     "output_type": "execute_result"
    }
   ],
   "source": [
    "KNN_accuracy(norm_K201, t_test)"
   ]
  },
  {
   "cell_type": "markdown",
   "metadata": {},
   "source": [
    "# $K = 401$"
   ]
  },
  {
   "cell_type": "code",
   "execution_count": 50,
   "metadata": {
    "collapsed": true
   },
   "outputs": [],
   "source": [
    "pred_K401 = KNN_Classifier(f_train, t_train, f_test, 401)"
   ]
  },
  {
   "cell_type": "code",
   "execution_count": 51,
   "metadata": {
    "collapsed": false
   },
   "outputs": [
    {
     "data": {
      "text/plain": [
       "0.7196870925684485"
      ]
     },
     "execution_count": 51,
     "metadata": {},
     "output_type": "execute_result"
    }
   ],
   "source": [
    "KNN_accuracy(pred_K401, t_test)"
   ]
  },
  {
   "cell_type": "markdown",
   "metadata": {},
   "source": [
    "### Normalized $K = 401$"
   ]
  },
  {
   "cell_type": "code",
   "execution_count": 52,
   "metadata": {
    "collapsed": true
   },
   "outputs": [],
   "source": [
    "norm_K401 = KNN_Classifier(norm_f_train, t_train, norm_f_test, 401)"
   ]
  },
  {
   "cell_type": "code",
   "execution_count": 53,
   "metadata": {
    "collapsed": false
   },
   "outputs": [
    {
     "data": {
      "text/plain": [
       "0.8396349413298566"
      ]
     },
     "execution_count": 53,
     "metadata": {},
     "output_type": "execute_result"
    }
   ],
   "source": [
    "KNN_accuracy(norm_K401, t_test)"
   ]
  },
  {
   "cell_type": "markdown",
   "metadata": {},
   "source": [
    "# Question 1.c"
   ]
  },
  {
   "cell_type": "code",
   "execution_count": 58,
   "metadata": {
    "collapsed": true
   },
   "outputs": [],
   "source": [
    "idslist = list()\n",
    "for i in range(50+1):\n",
    "    idslist.append(\"t\" + str(i))\n",
    "    \n",
    "ids = idslist[1:]"
   ]
  },
  {
   "cell_type": "code",
   "execution_count": 59,
   "metadata": {
    "collapsed": false
   },
   "outputs": [],
   "source": [
    "k1 = np.array(norm_K1[:50])\n",
    "k5 = np.array(norm_K5[:50])\n",
    "k11 = np.array(norm_K11[:50])\n",
    "k21 = np.array(norm_K21[:50])\n",
    "k41 = np.array(norm_K41[:50])\n",
    "k61 = np.array(norm_K61[:50])\n",
    "k81 = np.array(norm_K81[:50])\n",
    "k101 = np.array(norm_K101[:50])\n",
    "k201 = np.array(norm_K201[:50])\n",
    "k401 = np.array(norm_K401[:50])"
   ]
  },
  {
   "cell_type": "code",
   "execution_count": 60,
   "metadata": {
    "collapsed": false
   },
   "outputs": [],
   "source": [
    "k1 = np.where(k1 == 1, 'spam', 'no')\n",
    "k5 = np.where(k5 == 1, 'spam', 'no')\n",
    "k11 = np.where(k11 == 1, 'spam', 'no')\n",
    "k21 = np.where(k21 == 1, 'spam', 'no')\n",
    "k41 = np.where(k41 == 1, 'spam', 'no')\n",
    "k61 = np.where(k61 == 1, 'spam', 'no')\n",
    "k81 = np.where(k81 == 1, 'spam', 'no')\n",
    "k101 = np.where(k101 == 1, 'spam', 'no')\n",
    "k201 = np.where(k201 == 1, 'spam', 'no')\n",
    "k401 = np.where(k401 == 1, 'spam', 'no')"
   ]
  },
  {
   "cell_type": "markdown",
   "metadata": {},
   "source": [
    "# Output for 1.c"
   ]
  },
  {
   "cell_type": "code",
   "execution_count": 61,
   "metadata": {
    "collapsed": false
   },
   "outputs": [
    {
     "name": "stdout",
     "output_type": "stream",
     "text": [
      "t1 spam spam spam spam spam spam spam spam no no\n",
      "t2 spam spam spam spam spam spam spam spam no no\n",
      "t3 spam spam spam spam spam spam spam spam spam spam\n",
      "t4 spam spam spam spam spam spam spam spam spam spam\n",
      "t5 spam spam spam spam spam spam spam spam spam spam\n",
      "t6 spam spam no spam no no no no spam spam\n",
      "t7 spam no no no no no no no no no\n",
      "t8 spam spam spam spam spam spam spam spam spam spam\n",
      "t9 spam spam spam spam spam spam spam spam spam spam\n",
      "t10 spam spam spam spam spam spam spam spam spam spam\n",
      "t11 spam spam spam spam spam spam spam spam spam spam\n",
      "t12 spam spam spam spam spam spam spam spam spam spam\n",
      "t13 spam spam spam spam spam spam spam no no no\n",
      "t14 spam spam spam spam spam spam spam spam no no\n",
      "t15 spam spam spam spam spam spam spam spam spam spam\n",
      "t16 spam spam spam spam spam spam spam spam spam spam\n",
      "t17 spam spam spam spam spam spam spam spam spam spam\n",
      "t18 spam spam spam spam spam spam spam spam spam no\n",
      "t19 spam spam spam spam spam spam spam spam spam spam\n",
      "t20 no spam spam spam spam spam spam spam spam spam\n",
      "t21 spam spam spam spam spam spam spam spam spam spam\n",
      "t22 spam spam spam spam spam spam spam no no no\n",
      "t23 spam spam spam spam spam spam spam spam spam spam\n",
      "t24 no spam spam spam spam spam spam spam spam spam\n",
      "t25 spam spam spam spam spam spam spam spam spam spam\n",
      "t26 spam spam spam spam spam spam spam spam spam spam\n",
      "t27 spam spam spam spam spam spam spam spam spam spam\n",
      "t28 spam spam spam spam spam spam spam spam spam spam\n",
      "t29 spam spam spam spam spam spam spam spam no no\n",
      "t30 spam spam spam spam no no no no no no\n",
      "t31 spam no no no no no no no no no\n",
      "t32 spam spam spam spam spam spam spam spam no no\n",
      "t33 spam spam spam spam spam no no no no no\n",
      "t34 spam spam spam spam spam no no no no no\n",
      "t35 spam spam spam spam spam spam spam spam spam spam\n",
      "t36 spam spam spam spam spam spam spam spam spam spam\n",
      "t37 spam spam spam spam spam spam spam spam spam spam\n",
      "t38 spam spam spam spam spam spam spam spam spam spam\n",
      "t39 spam spam spam spam spam spam spam spam spam spam\n",
      "t40 no no no no no no no no no no\n",
      "t41 no no no no no no no no no no\n",
      "t42 spam spam spam spam spam spam spam spam no no\n",
      "t43 no no no no no no no no no no\n",
      "t44 no no no no no no no no no no\n",
      "t45 spam spam spam spam spam spam spam spam spam spam\n",
      "t46 spam spam spam spam spam spam spam spam spam spam\n",
      "t47 spam spam spam spam spam spam spam spam spam spam\n",
      "t48 spam spam spam spam spam spam spam spam spam spam\n",
      "t49 spam spam spam spam spam spam spam spam spam spam\n",
      "t50 spam spam spam spam spam spam spam spam spam spam\n"
     ]
    }
   ],
   "source": [
    "for i in range(50):\n",
    "    print(ids[i], k1[i], k5[i], k11[i], k21[i], k41[i], k61[i], k81[i],\n",
    "         k101[i], k201[i], k401[i])"
   ]
  },
  {
   "cell_type": "code",
   "execution_count": null,
   "metadata": {
    "collapsed": true
   },
   "outputs": [],
   "source": []
  }
 ],
 "metadata": {
  "kernelspec": {
   "display_name": "Python 3",
   "language": "python",
   "name": "python3"
  },
  "language_info": {
   "codemirror_mode": {
    "name": "ipython",
    "version": 3
   },
   "file_extension": ".py",
   "mimetype": "text/x-python",
   "name": "python",
   "nbconvert_exporter": "python",
   "pygments_lexer": "ipython3",
   "version": "3.6.0"
  }
 },
 "nbformat": 4,
 "nbformat_minor": 2
}
