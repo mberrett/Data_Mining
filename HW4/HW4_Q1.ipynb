{
 "cells": [
  {
   "cell_type": "markdown",
   "metadata": {},
   "source": [
    "# KNN Cluster"
   ]
  },
  {
   "cell_type": "markdown",
   "metadata": {},
   "source": [
    "# Import data and libraries"
   ]
  },
  {
   "cell_type": "code",
   "execution_count": 1,
   "metadata": {
    "collapsed": true
   },
   "outputs": [],
   "source": [
    "import pandas as pd, numpy as np, warnings\n",
    "from scipy.io import arff"
   ]
  },
  {
   "cell_type": "code",
   "execution_count": 2,
   "metadata": {
    "collapsed": false
   },
   "outputs": [
    {
     "data": {
      "text/html": [
       "<div>\n",
       "<table border=\"1\" class=\"dataframe\">\n",
       "  <thead>\n",
       "    <tr style=\"text-align: right;\">\n",
       "      <th></th>\n",
       "      <th>region-centroid-col</th>\n",
       "      <th>region-centroid-row</th>\n",
       "      <th>region-pixel-count</th>\n",
       "      <th>short-line-density-5</th>\n",
       "      <th>short-line-density-2</th>\n",
       "      <th>vedge-mean</th>\n",
       "      <th>vegde-sd</th>\n",
       "      <th>hedge-mean</th>\n",
       "      <th>hedge-sd</th>\n",
       "      <th>intensity-mean</th>\n",
       "      <th>rawred-mean</th>\n",
       "      <th>rawblue-mean</th>\n",
       "      <th>rawgreen-mean</th>\n",
       "      <th>exred-mean</th>\n",
       "      <th>exblue-mean</th>\n",
       "      <th>exgreen-mean</th>\n",
       "      <th>value-mean</th>\n",
       "      <th>saturation-mean</th>\n",
       "      <th>hue-mean</th>\n",
       "      <th>class</th>\n",
       "    </tr>\n",
       "  </thead>\n",
       "  <tbody>\n",
       "    <tr>\n",
       "      <th>0</th>\n",
       "      <td>218.0</td>\n",
       "      <td>178.0</td>\n",
       "      <td>9.0</td>\n",
       "      <td>0.111111</td>\n",
       "      <td>0.0</td>\n",
       "      <td>0.833333</td>\n",
       "      <td>0.547722</td>\n",
       "      <td>1.111110</td>\n",
       "      <td>0.544331</td>\n",
       "      <td>59.629600</td>\n",
       "      <td>52.4444</td>\n",
       "      <td>75.22220</td>\n",
       "      <td>51.222200</td>\n",
       "      <td>-21.55560</td>\n",
       "      <td>46.7778</td>\n",
       "      <td>-25.22220</td>\n",
       "      <td>75.22220</td>\n",
       "      <td>0.318996</td>\n",
       "      <td>-2.04055</td>\n",
       "      <td>b'path'</td>\n",
       "    </tr>\n",
       "    <tr>\n",
       "      <th>1</th>\n",
       "      <td>113.0</td>\n",
       "      <td>130.0</td>\n",
       "      <td>9.0</td>\n",
       "      <td>0.000000</td>\n",
       "      <td>0.0</td>\n",
       "      <td>0.277778</td>\n",
       "      <td>0.250924</td>\n",
       "      <td>0.333333</td>\n",
       "      <td>0.365148</td>\n",
       "      <td>0.888889</td>\n",
       "      <td>0.0000</td>\n",
       "      <td>2.55556</td>\n",
       "      <td>0.111111</td>\n",
       "      <td>-2.66667</td>\n",
       "      <td>5.0000</td>\n",
       "      <td>-2.33333</td>\n",
       "      <td>2.55556</td>\n",
       "      <td>1.000000</td>\n",
       "      <td>-2.12325</td>\n",
       "      <td>b'foliage'</td>\n",
       "    </tr>\n",
       "    <tr>\n",
       "      <th>2</th>\n",
       "      <td>202.0</td>\n",
       "      <td>41.0</td>\n",
       "      <td>9.0</td>\n",
       "      <td>0.000000</td>\n",
       "      <td>0.0</td>\n",
       "      <td>0.944448</td>\n",
       "      <td>0.772202</td>\n",
       "      <td>1.111110</td>\n",
       "      <td>1.025600</td>\n",
       "      <td>123.037000</td>\n",
       "      <td>111.8890</td>\n",
       "      <td>139.77800</td>\n",
       "      <td>117.444000</td>\n",
       "      <td>-33.44440</td>\n",
       "      <td>50.2222</td>\n",
       "      <td>-16.77780</td>\n",
       "      <td>139.77800</td>\n",
       "      <td>0.199347</td>\n",
       "      <td>-2.29992</td>\n",
       "      <td>b'sky'</td>\n",
       "    </tr>\n",
       "    <tr>\n",
       "      <th>3</th>\n",
       "      <td>32.0</td>\n",
       "      <td>173.0</td>\n",
       "      <td>9.0</td>\n",
       "      <td>0.000000</td>\n",
       "      <td>0.0</td>\n",
       "      <td>1.722220</td>\n",
       "      <td>1.781590</td>\n",
       "      <td>9.000000</td>\n",
       "      <td>6.749490</td>\n",
       "      <td>43.592600</td>\n",
       "      <td>39.5556</td>\n",
       "      <td>52.88890</td>\n",
       "      <td>38.333300</td>\n",
       "      <td>-12.11110</td>\n",
       "      <td>27.8889</td>\n",
       "      <td>-15.77780</td>\n",
       "      <td>52.88890</td>\n",
       "      <td>0.266914</td>\n",
       "      <td>-1.99886</td>\n",
       "      <td>b'path'</td>\n",
       "    </tr>\n",
       "    <tr>\n",
       "      <th>4</th>\n",
       "      <td>61.0</td>\n",
       "      <td>197.0</td>\n",
       "      <td>9.0</td>\n",
       "      <td>0.000000</td>\n",
       "      <td>0.0</td>\n",
       "      <td>1.444440</td>\n",
       "      <td>1.515350</td>\n",
       "      <td>2.611110</td>\n",
       "      <td>1.925460</td>\n",
       "      <td>49.592600</td>\n",
       "      <td>44.2222</td>\n",
       "      <td>61.55560</td>\n",
       "      <td>43.000000</td>\n",
       "      <td>-16.11110</td>\n",
       "      <td>35.8889</td>\n",
       "      <td>-19.77780</td>\n",
       "      <td>61.55560</td>\n",
       "      <td>0.302925</td>\n",
       "      <td>-2.02227</td>\n",
       "      <td>b'path'</td>\n",
       "    </tr>\n",
       "  </tbody>\n",
       "</table>\n",
       "</div>"
      ],
      "text/plain": [
       "   region-centroid-col  region-centroid-row  region-pixel-count  \\\n",
       "0                218.0                178.0                 9.0   \n",
       "1                113.0                130.0                 9.0   \n",
       "2                202.0                 41.0                 9.0   \n",
       "3                 32.0                173.0                 9.0   \n",
       "4                 61.0                197.0                 9.0   \n",
       "\n",
       "   short-line-density-5  short-line-density-2  vedge-mean  vegde-sd  \\\n",
       "0              0.111111                   0.0    0.833333  0.547722   \n",
       "1              0.000000                   0.0    0.277778  0.250924   \n",
       "2              0.000000                   0.0    0.944448  0.772202   \n",
       "3              0.000000                   0.0    1.722220  1.781590   \n",
       "4              0.000000                   0.0    1.444440  1.515350   \n",
       "\n",
       "   hedge-mean  hedge-sd  intensity-mean  rawred-mean  rawblue-mean  \\\n",
       "0    1.111110  0.544331       59.629600      52.4444      75.22220   \n",
       "1    0.333333  0.365148        0.888889       0.0000       2.55556   \n",
       "2    1.111110  1.025600      123.037000     111.8890     139.77800   \n",
       "3    9.000000  6.749490       43.592600      39.5556      52.88890   \n",
       "4    2.611110  1.925460       49.592600      44.2222      61.55560   \n",
       "\n",
       "   rawgreen-mean  exred-mean  exblue-mean  exgreen-mean  value-mean  \\\n",
       "0      51.222200   -21.55560      46.7778     -25.22220    75.22220   \n",
       "1       0.111111    -2.66667       5.0000      -2.33333     2.55556   \n",
       "2     117.444000   -33.44440      50.2222     -16.77780   139.77800   \n",
       "3      38.333300   -12.11110      27.8889     -15.77780    52.88890   \n",
       "4      43.000000   -16.11110      35.8889     -19.77780    61.55560   \n",
       "\n",
       "   saturation-mean  hue-mean       class  \n",
       "0         0.318996  -2.04055     b'path'  \n",
       "1         1.000000  -2.12325  b'foliage'  \n",
       "2         0.199347  -2.29992      b'sky'  \n",
       "3         0.266914  -1.99886     b'path'  \n",
       "4         0.302925  -2.02227     b'path'  "
      ]
     },
     "execution_count": 2,
     "metadata": {},
     "output_type": "execute_result"
    }
   ],
   "source": [
    "data = arff.loadarff('segment.arff')\n",
    "df = pd.DataFrame(data[0])\n",
    "df.head()"
   ]
  },
  {
   "cell_type": "markdown",
   "metadata": {},
   "source": [
    "# Z-score normalize"
   ]
  },
  {
   "cell_type": "code",
   "execution_count": 3,
   "metadata": {
    "collapsed": false
   },
   "outputs": [
    {
     "data": {
      "text/html": [
       "<div>\n",
       "<table border=\"1\" class=\"dataframe\">\n",
       "  <thead>\n",
       "    <tr style=\"text-align: right;\">\n",
       "      <th></th>\n",
       "      <th>region-centroid-col</th>\n",
       "      <th>region-centroid-row</th>\n",
       "      <th>region-pixel-count</th>\n",
       "      <th>short-line-density-5</th>\n",
       "      <th>short-line-density-2</th>\n",
       "      <th>vedge-mean</th>\n",
       "      <th>vegde-sd</th>\n",
       "      <th>hedge-mean</th>\n",
       "      <th>hedge-sd</th>\n",
       "      <th>intensity-mean</th>\n",
       "      <th>rawred-mean</th>\n",
       "      <th>rawblue-mean</th>\n",
       "      <th>rawgreen-mean</th>\n",
       "      <th>exred-mean</th>\n",
       "      <th>exblue-mean</th>\n",
       "      <th>exgreen-mean</th>\n",
       "      <th>value-mean</th>\n",
       "      <th>saturation-mean</th>\n",
       "      <th>hue-mean</th>\n",
       "    </tr>\n",
       "  </thead>\n",
       "  <tbody>\n",
       "    <tr>\n",
       "      <th>0</th>\n",
       "      <td>1.275912</td>\n",
       "      <td>0.949531</td>\n",
       "      <td>0.0</td>\n",
       "      <td>2.410147</td>\n",
       "      <td>-0.19451</td>\n",
       "      <td>-0.392976</td>\n",
       "      <td>-0.115095</td>\n",
       "      <td>-0.363873</td>\n",
       "      <td>-0.130916</td>\n",
       "      <td>0.591412</td>\n",
       "      <td>0.560071</td>\n",
       "      <td>0.712983</td>\n",
       "      <td>0.469592</td>\n",
       "      <td>-0.765286</td>\n",
       "      <td>1.296198</td>\n",
       "      <td>-1.428735</td>\n",
       "      <td>0.700920</td>\n",
       "      <td>-0.472591</td>\n",
       "      <td>-0.438515</td>\n",
       "    </tr>\n",
       "    <tr>\n",
       "      <th>1</th>\n",
       "      <td>-0.163301</td>\n",
       "      <td>0.114514</td>\n",
       "      <td>0.0</td>\n",
       "      <td>-0.356970</td>\n",
       "      <td>-0.19451</td>\n",
       "      <td>-0.598820</td>\n",
       "      <td>-0.121713</td>\n",
       "      <td>-0.579319</td>\n",
       "      <td>-0.133963</td>\n",
       "      <td>-0.947253</td>\n",
       "      <td>-0.936767</td>\n",
       "      <td>-0.956461</td>\n",
       "      <td>-0.935919</td>\n",
       "      <td>0.865381</td>\n",
       "      <td>-0.838392</td>\n",
       "      <td>0.552706</td>\n",
       "      <td>-0.992082</td>\n",
       "      <td>2.510221</td>\n",
       "      <td>-0.492031</td>\n",
       "    </tr>\n",
       "    <tr>\n",
       "      <th>2</th>\n",
       "      <td>1.056604</td>\n",
       "      <td>-1.433747</td>\n",
       "      <td>0.0</td>\n",
       "      <td>-0.356970</td>\n",
       "      <td>-0.19451</td>\n",
       "      <td>-0.351806</td>\n",
       "      <td>-0.110089</td>\n",
       "      <td>-0.363873</td>\n",
       "      <td>-0.122733</td>\n",
       "      <td>2.252318</td>\n",
       "      <td>2.256706</td>\n",
       "      <td>2.196088</td>\n",
       "      <td>2.290634</td>\n",
       "      <td>-1.791637</td>\n",
       "      <td>1.472186</td>\n",
       "      <td>-0.697721</td>\n",
       "      <td>2.204955</td>\n",
       "      <td>-0.996656</td>\n",
       "      <td>-0.606356</td>\n",
       "    </tr>\n",
       "    <tr>\n",
       "      <th>3</th>\n",
       "      <td>-1.273551</td>\n",
       "      <td>0.862550</td>\n",
       "      <td>0.0</td>\n",
       "      <td>-0.356970</td>\n",
       "      <td>-0.19451</td>\n",
       "      <td>-0.063626</td>\n",
       "      <td>-0.087582</td>\n",
       "      <td>1.821364</td>\n",
       "      <td>-0.025407</td>\n",
       "      <td>0.171336</td>\n",
       "      <td>0.192206</td>\n",
       "      <td>0.199897</td>\n",
       "      <td>0.115158</td>\n",
       "      <td>0.050050</td>\n",
       "      <td>0.331091</td>\n",
       "      <td>-0.611153</td>\n",
       "      <td>0.180594</td>\n",
       "      <td>-0.700711</td>\n",
       "      <td>-0.411537</td>\n",
       "    </tr>\n",
       "    <tr>\n",
       "      <th>4</th>\n",
       "      <td>-0.876054</td>\n",
       "      <td>1.280058</td>\n",
       "      <td>0.0</td>\n",
       "      <td>-0.356970</td>\n",
       "      <td>-0.19451</td>\n",
       "      <td>-0.166549</td>\n",
       "      <td>-0.093518</td>\n",
       "      <td>0.051629</td>\n",
       "      <td>-0.107432</td>\n",
       "      <td>0.328501</td>\n",
       "      <td>0.325398</td>\n",
       "      <td>0.399006</td>\n",
       "      <td>0.243488</td>\n",
       "      <td>-0.295267</td>\n",
       "      <td>0.739842</td>\n",
       "      <td>-0.957424</td>\n",
       "      <td>0.382513</td>\n",
       "      <td>-0.542982</td>\n",
       "      <td>-0.426686</td>\n",
       "    </tr>\n",
       "  </tbody>\n",
       "</table>\n",
       "</div>"
      ],
      "text/plain": [
       "   region-centroid-col  region-centroid-row  region-pixel-count  \\\n",
       "0             1.275912             0.949531                 0.0   \n",
       "1            -0.163301             0.114514                 0.0   \n",
       "2             1.056604            -1.433747                 0.0   \n",
       "3            -1.273551             0.862550                 0.0   \n",
       "4            -0.876054             1.280058                 0.0   \n",
       "\n",
       "   short-line-density-5  short-line-density-2  vedge-mean  vegde-sd  \\\n",
       "0              2.410147              -0.19451   -0.392976 -0.115095   \n",
       "1             -0.356970              -0.19451   -0.598820 -0.121713   \n",
       "2             -0.356970              -0.19451   -0.351806 -0.110089   \n",
       "3             -0.356970              -0.19451   -0.063626 -0.087582   \n",
       "4             -0.356970              -0.19451   -0.166549 -0.093518   \n",
       "\n",
       "   hedge-mean  hedge-sd  intensity-mean  rawred-mean  rawblue-mean  \\\n",
       "0   -0.363873 -0.130916        0.591412     0.560071      0.712983   \n",
       "1   -0.579319 -0.133963       -0.947253    -0.936767     -0.956461   \n",
       "2   -0.363873 -0.122733        2.252318     2.256706      2.196088   \n",
       "3    1.821364 -0.025407        0.171336     0.192206      0.199897   \n",
       "4    0.051629 -0.107432        0.328501     0.325398      0.399006   \n",
       "\n",
       "   rawgreen-mean  exred-mean  exblue-mean  exgreen-mean  value-mean  \\\n",
       "0       0.469592   -0.765286     1.296198     -1.428735    0.700920   \n",
       "1      -0.935919    0.865381    -0.838392      0.552706   -0.992082   \n",
       "2       2.290634   -1.791637     1.472186     -0.697721    2.204955   \n",
       "3       0.115158    0.050050     0.331091     -0.611153    0.180594   \n",
       "4       0.243488   -0.295267     0.739842     -0.957424    0.382513   \n",
       "\n",
       "   saturation-mean  hue-mean  \n",
       "0        -0.472591 -0.438515  \n",
       "1         2.510221 -0.492031  \n",
       "2        -0.996656 -0.606356  \n",
       "3        -0.700711 -0.411537  \n",
       "4        -0.542982 -0.426686  "
      ]
     },
     "execution_count": 3,
     "metadata": {},
     "output_type": "execute_result"
    }
   ],
   "source": [
    "X = df.iloc[:,:-1]\n",
    "X = (X - X.mean()) / X.std()\n",
    "X.replace(np.NaN, 0, inplace=True)\n",
    "X.head()"
   ]
  },
  {
   "cell_type": "code",
   "execution_count": 4,
   "metadata": {
    "collapsed": false
   },
   "outputs": [
    {
     "data": {
      "text/plain": [
       "b'grass'        330\n",
       "b'sky'          330\n",
       "b'foliage'      330\n",
       "b'window'       330\n",
       "b'brickface'    330\n",
       "b'path'         330\n",
       "b'cement'       330\n",
       "Name: class, dtype: int64"
      ]
     },
     "execution_count": 4,
     "metadata": {},
     "output_type": "execute_result"
    }
   ],
   "source": [
    "y = df.iloc[:,-1]\n",
    "y.value_counts()"
   ]
  },
  {
   "cell_type": "markdown",
   "metadata": {},
   "source": [
    "# Centroid Indexes"
   ]
  },
  {
   "cell_type": "code",
   "execution_count": 5,
   "metadata": {
    "collapsed": true
   },
   "outputs": [],
   "source": [
    "centroid_points_or = [775, 1020, 200, 127, 329, 1626, 1515, 651, 658, 328, 1160, 108, 422, 88, \n",
    "                   105, 261, 212, 1941, 1724, 704, 1469, 635, 867, 1187, 445, 222, 1283, \n",
    "                   1288, 1766, 1168, 566, 1812, 214, 53, 423, 50, 705, 1284, 1356, 996, \n",
    "                   1084, 1956, 254, 711, 1997, 1378, 827, 1875, 424, 1790, 633, 208, 1670, \n",
    "                   1517, 1902, 1476, 1716, 1709, 264, 1, 371, 758, 332, 542, 672, 483, 65, \n",
    "                   92, 400, 1079, 1281, 145, 1410, 664, 155, 166, 1900, 1134, 1462, 954, 1818,\n",
    "                   1679, 832, 1627, 1760, 1330, 913, 234, 1635, 1078, 640, 833, 392, 1425, 610,\n",
    "                   1353, 1772, 908, 1964, 1260, 784, 520, 1363, 544, 426, 1146, 987, 612, 1685,\n",
    "                   1121, 1740, 287, 1383, 1923, 1665, 19, 1239, 251, 309, 245, 384, 1306, 786, \n",
    "                   1814, 7, 1203, 1068, 1493, 859, 233, 1846, 1119, 469, 1869, 609, 385, \n",
    "                   1182, 1949, 1622, 719, 643, 1692, 1389, 120, 1034, 805, 266, 339,\n",
    " 826, 530, 1173, 802, 1495, 504, 1241, 427, 1555, 1597, 692, 178, 774, 1623, 1641, 661,\n",
    " 1242, 1757, 553, 1377, 1419, 306, 1838, 211, 356, 541, 1455, 741, 583, 1464, 209, 1615,\n",
    " 475, 1903, 555, 1046, 379, 1938, 417, 1747, 342, 1148, 1697, 1785, 298, 1485, 945, 1097, \n",
    " 207, 857, 1758, 1390, 172, 587, 455, 1690, 1277, 345, 1166, 1367, 1858, 1427, 1434, 953, \n",
    " 1992, 1140, 137, 64, 1448, 991, 1312, 1628, 167, 1042, 1887, 1825, 249, 240, 524, 1098, \n",
    " 311, 337, 220, 1913, 727, 1659, 1321, 130, 1904, 561, 1270, 1250, 613, 152, 1440, 473, \n",
    " 1834, 1387, 1656, 1028, 1106, 829, 1591, 1699, 1674, 947, 77, 468, 997, 611, 1776, 123, \n",
    " 979, 1471, 1300, 1007, 1443, 164, 1881, 1935, 280, 442, 1588, 1033, 79, 1686, 854, 257, \n",
    " 1460, 1380, 495, 1701, 1611, 804, 1609, 975, 1181, 582, 816, 1770, 663, 737, 1810, 523, \n",
    " 1243, 944, 1959, 78, 675, 135, 1381, 1472]"
   ]
  },
  {
   "cell_type": "code",
   "execution_count": 6,
   "metadata": {
    "collapsed": false
   },
   "outputs": [],
   "source": [
    "centroid_points = [x-1 for x in centroid_points_or]"
   ]
  },
  {
   "cell_type": "markdown",
   "metadata": {},
   "source": [
    "# Create centroid list"
   ]
  },
  {
   "cell_type": "code",
   "execution_count": 7,
   "metadata": {
    "collapsed": false
   },
   "outputs": [],
   "source": [
    "def k_means(k):\n",
    "    \n",
    "    '''Returns 25 random index sets\n",
    "    of k centroids each'''\n",
    "    \n",
    "    centroid_list = []\n",
    "    for i in range(60):\n",
    "        if i > 24:\n",
    "            break\n",
    "        else:\n",
    "            start = i*k\n",
    "            end = ((i+1)*k)\n",
    "            centroid_list.append(centroid_points[start:end])\n",
    "    return centroid_list\n"
   ]
  },
  {
   "cell_type": "markdown",
   "metadata": {},
   "source": [
    "# Centroid Creation"
   ]
  },
  {
   "cell_type": "code",
   "execution_count": 8,
   "metadata": {
    "collapsed": false
   },
   "outputs": [],
   "source": [
    "def assign_centroid(n,k):\n",
    "   \n",
    "    '''\n",
    "    Returns list of intial k centroids\n",
    "    based on a list of random indices (subset n)\n",
    "    \n",
    "    n determines which of the 25 subsets of random indices is returned\n",
    "    k determines how many k centroids are generated\n",
    "    '''\n",
    "    end = k  \n",
    "    centroid_list = k_means(k)\n",
    "    \n",
    "    a = 0\n",
    "    b = 0 \n",
    "    c = 0\n",
    "    d = 0\n",
    "    e = 0\n",
    "    f = 0\n",
    "    g = 0\n",
    "    h = 0\n",
    "    i = 0\n",
    "    j = 0\n",
    "    k = 0\n",
    "    l = 0\n",
    "    \n",
    "    try:\n",
    "        a = X.iloc[centroid_list[n],:].iloc[0]\n",
    "        b = X.iloc[centroid_list[n],:].iloc[1]\n",
    "        c = X.iloc[centroid_list[n],:].iloc[2]\n",
    "        d = X.iloc[centroid_list[n],:].iloc[3]\n",
    "        e = X.iloc[centroid_list[n],:].iloc[4]\n",
    "        f = X.iloc[centroid_list[n],:].iloc[5]\n",
    "        g = X.iloc[centroid_list[n],:].iloc[6]\n",
    "        h = X.iloc[centroid_list[n],:].iloc[7]\n",
    "        i = X.iloc[centroid_list[n],:].iloc[8]\n",
    "        j = X.iloc[centroid_list[n],:].iloc[9]\n",
    "        k = X.iloc[centroid_list[n],:].iloc[10]\n",
    "        l = X.iloc[centroid_list[n],:].iloc[11]\n",
    "    \n",
    "        centroids = [a,b,c,d,e,f,g,h,i,j,k,l]\n",
    "        \n",
    "    \n",
    "    except:\n",
    "        \n",
    "        \n",
    "        centroids = [a,b,c,d,e,f,g,h,i,j,k,l]\n",
    "    \n",
    "    return centroids[:end]\n",
    "    "
   ]
  },
  {
   "cell_type": "markdown",
   "metadata": {},
   "source": [
    "# Class Membership"
   ]
  },
  {
   "cell_type": "code",
   "execution_count": 9,
   "metadata": {
    "collapsed": false
   },
   "outputs": [],
   "source": [
    "def class_membership(X, centroids, k):\n",
    "   \n",
    "    end = k\n",
    "    centroid_class = []\n",
    "    \n",
    "    a_dist = 1000\n",
    "    b_dist = 1000\n",
    "    c_dist = 1000\n",
    "    d_dist = 1000\n",
    "    e_dist = 1000\n",
    "    f_dist = 1000\n",
    "    g_dist = 1000\n",
    "    h_dist = 1000\n",
    "    i_dist = 1000\n",
    "    j_dist = 1000\n",
    "    k_dist = 1000\n",
    "    l_dist = 1000\n",
    "    \n",
    "    for i in range(len(X)):\n",
    "       \n",
    "        try:\n",
    "            a_dist = np.sqrt(np.sum(np.square(centroids[0] - X.iloc[i,:])))\n",
    "            b_dist = np.sqrt(np.sum(np.square(centroids[1] - X.iloc[i,:])))\n",
    "            c_dist = np.sqrt(np.sum(np.square(centroids[2] - X.iloc[i,:])))\n",
    "            d_dist = np.sqrt(np.sum(np.square(centroids[3] - X.iloc[i,:])))\n",
    "            e_dist = np.sqrt(np.sum(np.square(centroids[4] - X.iloc[i,:])))\n",
    "            f_dist = np.sqrt(np.sum(np.square(centroids[5] - X.iloc[i,:])))\n",
    "            g_dist = np.sqrt(np.sum(np.square(centroids[6] - X.iloc[i,:])))\n",
    "            h_dist = np.sqrt(np.sum(np.square(centroids[7] - X.iloc[i,:])))\n",
    "            i_dist = np.sqrt(np.sum(np.square(centroids[8] - X.iloc[i,:])))\n",
    "            j_dist = np.sqrt(np.sum(np.square(centroids[9] - X.iloc[i,:])))\n",
    "            k_dist = np.sqrt(np.sum(np.square(centroids[10] - X.iloc[i,:])))\n",
    "            l_dist = np.sqrt(np.sum(np.square(centroids[11] - X.iloc[i,:])))\n",
    "        \n",
    "            res = np.min([a_dist, b_dist, c_dist, d_dist, e_dist,\n",
    "                             f_dist, g_dist, h_dist, i_dist, j_dist, \n",
    "                             k_dist, l_dist])\n",
    "            \n",
    "            if res == a_dist:\n",
    "                cen = 'a'\n",
    "            if res == b_dist:\n",
    "                cen = 'b'\n",
    "            if res == c_dist:\n",
    "                cen = 'c'    \n",
    "            if res == d_dist:\n",
    "                cen = 'd'\n",
    "            if res == e_dist:\n",
    "                cen = 'e'\n",
    "            if res == f_dist:\n",
    "                cen = 'f'\n",
    "            if res == g_dist:\n",
    "                cen = 'g'\n",
    "            if res == h_dist:\n",
    "                cen = 'h'\n",
    "            if res == i_dist:\n",
    "                cen = 'i'\n",
    "            if res == j_dist:\n",
    "                cen = 'j'\n",
    "            if res == k_dist:\n",
    "                cen = 'k'\n",
    "            if res == l_dist:\n",
    "                cen = 'l'\n",
    "                \n",
    "            centroid_class.append(cen)\n",
    "            \n",
    "        except:\n",
    "            \n",
    "            distances = [a_dist, b_dist, c_dist, d_dist, e_dist,\n",
    "                             f_dist, g_dist, h_dist, i_dist, j_dist, \n",
    "                             k_dist, l_dist]\n",
    "            \n",
    "            dist_sub = distances[:k]\n",
    "\n",
    "            res = np.min(dist_sub)\n",
    "\n",
    "            if res == a_dist:\n",
    "                cen = 'a'\n",
    "            if res == b_dist:\n",
    "                cen = 'b'\n",
    "            if res == c_dist:\n",
    "                cen = 'c'   \n",
    "            if res == d_dist:\n",
    "                cen = 'd'\n",
    "            if res == e_dist:\n",
    "                cen = 'e'\n",
    "            if res == f_dist:\n",
    "                cen = 'f'\n",
    "            if res == g_dist:\n",
    "                cen = 'g'\n",
    "            if res == h_dist:\n",
    "                cen = 'h'\n",
    "            if res == i_dist:\n",
    "                cen = 'i'\n",
    "            if res == j_dist:\n",
    "                cen = 'j'\n",
    "            if res == k_dist:\n",
    "                cen = 'k'\n",
    "            if res == l_dist:\n",
    "                cen = 'l'\n",
    "\n",
    "            centroid_class.append(cen)\n",
    "            \n",
    "    return pd.Series(centroid_class)"
   ]
  },
  {
   "cell_type": "markdown",
   "metadata": {},
   "source": [
    "# Define new centroids based on class member average"
   ]
  },
  {
   "cell_type": "code",
   "execution_count": 10,
   "metadata": {
    "collapsed": false
   },
   "outputs": [],
   "source": [
    "def center_centroid(X, run, k):\n",
    "    \n",
    "    end = k\n",
    "    new_a = 0\n",
    "    new_b = 0\n",
    "    new_c = 0\n",
    "    new_d = 0\n",
    "    new_e = 0\n",
    "    new_f = 0\n",
    "    new_g = 0\n",
    "    new_h = 0\n",
    "    new_i = 0\n",
    "    new_j = 0\n",
    "    new_k = 0\n",
    "    new_l = 0\n",
    "    \n",
    "    \n",
    "    with warnings.catch_warnings():\n",
    "        warnings.simplefilter(\"ignore\", category=RuntimeWarning)\n",
    "    \n",
    "        index_a = list(run[run == 'a'].index)\n",
    "        new_a = np.average(X.ix[index_a], axis = 0)\n",
    "        \n",
    "        index_b = list(run[run == 'b'].index)\n",
    "        new_b = np.average(X.ix[index_b], axis = 0)\n",
    "        \n",
    "        index_c = list(run[run == 'c'].index)\n",
    "        new_c = np.average(X.ix[index_c], axis = 0)\n",
    "        \n",
    "        index_d = list(run[run == 'd'].index)\n",
    "        new_d = np.average(X.ix[index_d], axis = 0)\n",
    "        \n",
    "        index_e = list(run[run == 'e'].index)\n",
    "        new_e = np.average(X.ix[index_e], axis = 0)\n",
    "        \n",
    "        index_f = list(run[run == 'f'].index)\n",
    "        new_f = np.average(X.ix[index_f], axis = 0)\n",
    "        \n",
    "        index_g = list(run[run == 'g'].index)\n",
    "        new_g = np.average(X.ix[index_g], axis = 0)\n",
    "        \n",
    "        index_h = list(run[run == 'h'].index)\n",
    "        new_h = np.average(X.ix[index_h], axis = 0)\n",
    "        \n",
    "        index_i = list(run[run == 'i'].index)\n",
    "        new_i = np.average(X.ix[index_i], axis = 0)\n",
    "        \n",
    "        index_j = list(run[run == 'j'].index)\n",
    "        new_j = np.average(X.ix[index_j], axis = 0)\n",
    "        \n",
    "        index_k = list(run[run == 'k'].index)\n",
    "        new_k = np.average(X.ix[index_k], axis = 0)\n",
    "        \n",
    "        index_l = list(run[run == 'l'].index)\n",
    "        new_l = np.average(X.ix[index_l], axis = 0)\n",
    "\n",
    "        new_centroids = [new_a, new_b, new_c, new_d, new_e, new_f, new_g, \n",
    "                        new_h, new_i, new_j, new_k, new_l]\n",
    "        \n",
    "        new_centroids_sub = new_centroids[:end]\n",
    "        \n",
    "        return new_centroids_sub"
   ]
  },
  {
   "cell_type": "markdown",
   "metadata": {},
   "source": [
    "# K Means Cluster"
   ]
  },
  {
   "cell_type": "code",
   "execution_count": 11,
   "metadata": {
    "collapsed": false
   },
   "outputs": [],
   "source": [
    "def k_means_cluster(X,k,n): # add 0 for n argument\n",
    "    \n",
    "    initial_indices = assign_centroid(n,k) # replace 0 with n\n",
    "    first_run = class_membership(X, initial_indices, k)\n",
    "    first_recentering = center_centroid(X, first_run, k)\n",
    "    \n",
    "    centering = first_recentering\n",
    "    \n",
    "    centroid_movement = [centering]\n",
    "    \n",
    "    count = 0\n",
    "    \n",
    "    for i in range(49):\n",
    "        \n",
    "        run = class_membership(X, centering, k)\n",
    "        \n",
    "        centering = center_centroid(X, run, k)\n",
    "        \n",
    "\n",
    "        centroid_movement.append(centering)\n",
    "        \n",
    "        count = count + 1 \n",
    "        \n",
    "        if centroid_movement[i][0].tolist() == centroid_movement[i+1][0].tolist() or (count + 1) > 50:  \n",
    "            break\n",
    "            \n",
    "    print('algorithm ran ' + str(count) + ' times')       \n",
    "    return (centering, run)"
   ]
  },
  {
   "cell_type": "markdown",
   "metadata": {},
   "source": [
    "# SSE_Score"
   ]
  },
  {
   "cell_type": "code",
   "execution_count": 12,
   "metadata": {
    "collapsed": true
   },
   "outputs": [],
   "source": [
    "def SSE_SCORE(X, test):\n",
    "    \n",
    "    new_a = 0\n",
    "    new_b = 0\n",
    "    new_c = 0\n",
    "    new_d = 0\n",
    "    new_e = 0\n",
    "    new_f = 0\n",
    "    new_g = 0\n",
    "    new_h = 0\n",
    "    new_i = 0\n",
    "    new_j = 0\n",
    "    new_k = 0\n",
    "    new_l = 0\n",
    "    \n",
    "    \n",
    "    with warnings.catch_warnings():\n",
    "        warnings.simplefilter(\"ignore\", category=RuntimeWarning)\n",
    "        try:\n",
    "            \n",
    "            index_a = list(test[1][test[1] == 'a'].index)\n",
    "            new_a = np.nansum(np.square(np.abs(X.ix[index_a] - test[0][0])))\n",
    "\n",
    "            index_b = list(test[1][test[1] == 'b'].index)\n",
    "            new_b = np.nansum(np.square(np.abs(X.ix[index_b] - test[0][1])))\n",
    "\n",
    "            index_c = list(test[1][test[1] == 'c'].index)\n",
    "            new_c = np.nansum(np.square(np.abs(X.ix[index_c] - test[0][2])))\n",
    "\n",
    "            index_d = list(test[1][test[1] == 'd'].index)\n",
    "            new_d = np.nansum(np.square(np.abs(X.ix[index_d] - test[0][3])))\n",
    "\n",
    "            index_e = list(test[1][test[1] == 'e'].index)\n",
    "            new_e = np.nansum(np.square(np.abs(X.ix[index_e] - test[0][4])))\n",
    "\n",
    "            index_f = list(test[1][test[1] == 'f'].index)\n",
    "            new_f = np.nansum(np.square(np.abs(X.ix[index_f] - test[0][5])))\n",
    "\n",
    "            index_g = list(test[1][test[1] == 'g'].index)\n",
    "            new_g = np.nansum(np.square(np.abs(X.ix[index_g] - test[0][6])))\n",
    "\n",
    "            index_h = list(test[1][test[1] == 'h'].index)\n",
    "            new_h = np.nansum(np.square(np.abs(X.ix[index_h] - test[0][7])))\n",
    "\n",
    "            index_i = list(test[1][test[1] == 'i'].index)\n",
    "            new_i = np.nansum(np.square(np.abs(X.ix[index_i] - test[0][8])))\n",
    "\n",
    "            index_j = list(test[1][test[1] == 'j'].index)\n",
    "            new_j = np.nansum(np.square(np.abs(X.ix[index_j] - test[0][9])))\n",
    "\n",
    "            index_k = list(test[1][test[1] == 'k'].index)\n",
    "            new_k = np.nansum(np.square(np.abs(X.ix[index_k] - test[0][10])))\n",
    "\n",
    "            index_l = list(test[1][test[1] == 'l'].index)\n",
    "            new_l = np.nansum(np.square(np.abs(X.ix[index_l] - test[0][11])))\n",
    "            \n",
    "            distances = [new_a, new_b, new_c, new_d, new_e, new_f, new_g, \n",
    "                        new_h, new_i, new_j, new_k, new_l]\n",
    "            SSE_total = np.nansum(distances)\n",
    "        \n",
    "        except:\n",
    "            \n",
    "            distances = [new_a, new_b, new_c, new_d, new_e, new_f, new_g, \n",
    "                        new_h, new_i, new_j, new_k, new_l]\n",
    "            SSE_total = np.nansum(distances)\n",
    "        \n",
    "\n",
    "        return SSE_total"
   ]
  },
  {
   "cell_type": "markdown",
   "metadata": {},
   "source": [
    "# K means score"
   ]
  },
  {
   "cell_type": "code",
   "execution_count": 13,
   "metadata": {
    "collapsed": true
   },
   "outputs": [],
   "source": [
    "def k_means_score(X,k):\n",
    "\n",
    "    scores = []\n",
    "\n",
    "    for i in range(25):\n",
    "        index_iter = k_means_cluster(X,k,i)\n",
    "        score = SSE_SCORE(X, index_iter)\n",
    "\n",
    "        scores.append(score)    \n",
    "        print('index set number '+ str(i+1))  \n",
    "        \n",
    "    return scores"
   ]
  },
  {
   "cell_type": "markdown",
   "metadata": {},
   "source": [
    "# First Attempt"
   ]
  },
  {
   "cell_type": "markdown",
   "metadata": {},
   "source": [
    "### k = 1"
   ]
  },
  {
   "cell_type": "code",
   "execution_count": 21,
   "metadata": {
    "collapsed": false
   },
   "outputs": [
    {
     "name": "stdout",
     "output_type": "stream",
     "text": [
      "algorithm ran 1 times\n",
      "index set number 1\n",
      "algorithm ran 1 times\n",
      "index set number 2\n",
      "algorithm ran 1 times\n",
      "index set number 3\n",
      "algorithm ran 1 times\n",
      "index set number 4\n",
      "algorithm ran 1 times\n",
      "index set number 5\n",
      "algorithm ran 1 times\n",
      "index set number 6\n",
      "algorithm ran 1 times\n",
      "index set number 7\n",
      "algorithm ran 1 times\n",
      "index set number 8\n",
      "algorithm ran 1 times\n",
      "index set number 9\n",
      "algorithm ran 1 times\n",
      "index set number 10\n",
      "algorithm ran 1 times\n",
      "index set number 11\n",
      "algorithm ran 1 times\n",
      "index set number 12\n",
      "algorithm ran 1 times\n",
      "index set number 13\n",
      "algorithm ran 1 times\n",
      "index set number 14\n",
      "algorithm ran 1 times\n",
      "index set number 15\n",
      "algorithm ran 1 times\n",
      "index set number 16\n",
      "algorithm ran 1 times\n",
      "index set number 17\n",
      "algorithm ran 1 times\n",
      "index set number 18\n",
      "algorithm ran 1 times\n",
      "index set number 19\n",
      "algorithm ran 1 times\n",
      "index set number 20\n",
      "algorithm ran 1 times\n",
      "index set number 21\n",
      "algorithm ran 1 times\n",
      "index set number 22\n",
      "algorithm ran 1 times\n",
      "index set number 23\n",
      "algorithm ran 1 times\n",
      "index set number 24\n",
      "algorithm ran 1 times\n",
      "index set number 25\n"
     ]
    }
   ],
   "source": [
    "k1_scores = k_means_score(X,1)"
   ]
  },
  {
   "cell_type": "markdown",
   "metadata": {},
   "source": [
    "### k = 2"
   ]
  },
  {
   "cell_type": "code",
   "execution_count": 14,
   "metadata": {
    "collapsed": false
   },
   "outputs": [
    {
     "name": "stdout",
     "output_type": "stream",
     "text": [
      "algorithm ran 6 times\n",
      "index set number 1\n",
      "algorithm ran 18 times\n",
      "index set number 2\n",
      "algorithm ran 11 times\n",
      "index set number 3\n",
      "algorithm ran 15 times\n",
      "index set number 4\n",
      "algorithm ran 11 times\n",
      "index set number 5\n",
      "algorithm ran 11 times\n",
      "index set number 6\n",
      "algorithm ran 4 times\n",
      "index set number 7\n",
      "algorithm ran 8 times\n",
      "index set number 8\n",
      "algorithm ran 11 times\n",
      "index set number 9\n",
      "algorithm ran 10 times\n",
      "index set number 10\n",
      "algorithm ran 14 times\n",
      "index set number 11\n",
      "algorithm ran 8 times\n",
      "index set number 12\n",
      "algorithm ran 4 times\n",
      "index set number 13\n",
      "algorithm ran 9 times\n",
      "index set number 14\n",
      "algorithm ran 8 times\n",
      "index set number 15\n",
      "algorithm ran 9 times\n",
      "index set number 16\n",
      "algorithm ran 9 times\n",
      "index set number 17\n",
      "algorithm ran 18 times\n",
      "index set number 18\n",
      "algorithm ran 11 times\n",
      "index set number 19\n",
      "algorithm ran 42 times\n",
      "index set number 20\n",
      "algorithm ran 21 times\n",
      "index set number 21\n",
      "algorithm ran 5 times\n",
      "index set number 22\n",
      "algorithm ran 9 times\n",
      "index set number 23\n",
      "algorithm ran 29 times\n",
      "index set number 24\n",
      "algorithm ran 9 times\n",
      "index set number 25\n"
     ]
    }
   ],
   "source": [
    "k2_scores = k_means_score(X,2)"
   ]
  },
  {
   "cell_type": "code",
   "execution_count": 15,
   "metadata": {
    "collapsed": false
   },
   "outputs": [
    {
     "data": {
      "text/plain": [
       "(29523.884353138637, 2403.7209055247131)"
      ]
     },
     "execution_count": 15,
     "metadata": {},
     "output_type": "execute_result"
    }
   ],
   "source": [
    "(np.mean(k2_scores), np.std(k2_scores))"
   ]
  },
  {
   "cell_type": "markdown",
   "metadata": {
    "collapsed": true
   },
   "source": [
    "### k = 3"
   ]
  },
  {
   "cell_type": "code",
   "execution_count": 16,
   "metadata": {
    "collapsed": false
   },
   "outputs": [
    {
     "name": "stdout",
     "output_type": "stream",
     "text": [
      "algorithm ran 7 times\n",
      "index set number 1\n",
      "algorithm ran 49 times\n",
      "index set number 2\n",
      "algorithm ran 4 times\n",
      "index set number 3\n",
      "algorithm ran 9 times\n",
      "index set number 4\n",
      "algorithm ran 3 times\n",
      "index set number 5\n",
      "algorithm ran 12 times\n",
      "index set number 6\n",
      "algorithm ran 23 times\n",
      "index set number 7\n",
      "algorithm ran 7 times\n",
      "index set number 8\n",
      "algorithm ran 6 times\n",
      "index set number 9\n",
      "algorithm ran 48 times\n",
      "index set number 10\n",
      "algorithm ran 6 times\n",
      "index set number 11\n",
      "algorithm ran 7 times\n",
      "index set number 12\n",
      "algorithm ran 9 times\n",
      "index set number 13\n",
      "algorithm ran 8 times\n",
      "index set number 14\n",
      "algorithm ran 6 times\n",
      "index set number 15\n",
      "algorithm ran 9 times\n",
      "index set number 16\n",
      "algorithm ran 9 times\n",
      "index set number 17\n",
      "algorithm ran 5 times\n",
      "index set number 18\n",
      "algorithm ran 47 times\n",
      "index set number 19\n",
      "algorithm ran 11 times\n",
      "index set number 20\n",
      "algorithm ran 10 times\n",
      "index set number 21\n",
      "algorithm ran 12 times\n",
      "index set number 22\n",
      "algorithm ran 8 times\n",
      "index set number 23\n",
      "algorithm ran 10 times\n",
      "index set number 24\n",
      "algorithm ran 49 times\n",
      "index set number 25\n"
     ]
    }
   ],
   "source": [
    "k3_scores = k_means_score(X,3)"
   ]
  },
  {
   "cell_type": "code",
   "execution_count": 17,
   "metadata": {
    "collapsed": false
   },
   "outputs": [
    {
     "data": {
      "text/plain": [
       "(24123.361322865236, 577.59008440051593)"
      ]
     },
     "execution_count": 17,
     "metadata": {},
     "output_type": "execute_result"
    }
   ],
   "source": [
    "(np.mean(k3_scores), np.std(k3_scores))"
   ]
  },
  {
   "cell_type": "markdown",
   "metadata": {},
   "source": [
    "### k = 4"
   ]
  },
  {
   "cell_type": "code",
   "execution_count": 18,
   "metadata": {
    "collapsed": false
   },
   "outputs": [
    {
     "name": "stdout",
     "output_type": "stream",
     "text": [
      "algorithm ran 5 times\n",
      "index set number 1\n",
      "algorithm ran 8 times\n",
      "index set number 2\n",
      "algorithm ran 4 times\n",
      "index set number 3\n",
      "algorithm ran 5 times\n",
      "index set number 4\n",
      "algorithm ran 12 times\n",
      "index set number 5\n",
      "algorithm ran 12 times\n",
      "index set number 6\n",
      "algorithm ran 8 times\n",
      "index set number 7\n",
      "algorithm ran 13 times\n",
      "index set number 8\n",
      "algorithm ran 24 times\n",
      "index set number 9\n",
      "algorithm ran 26 times\n",
      "index set number 10\n",
      "algorithm ran 6 times\n",
      "index set number 11\n",
      "algorithm ran 20 times\n",
      "index set number 12\n",
      "algorithm ran 9 times\n",
      "index set number 13\n",
      "algorithm ran 12 times\n",
      "index set number 14\n",
      "algorithm ran 17 times\n",
      "index set number 15\n",
      "algorithm ran 7 times\n",
      "index set number 16\n",
      "algorithm ran 3 times\n",
      "index set number 17\n",
      "algorithm ran 11 times\n",
      "index set number 18\n",
      "algorithm ran 10 times\n",
      "index set number 19\n",
      "algorithm ran 5 times\n",
      "index set number 20\n",
      "algorithm ran 13 times\n",
      "index set number 21\n",
      "algorithm ran 14 times\n",
      "index set number 22\n",
      "algorithm ran 10 times\n",
      "index set number 23\n",
      "algorithm ran 11 times\n",
      "index set number 24\n",
      "algorithm ran 9 times\n",
      "index set number 25\n"
     ]
    }
   ],
   "source": [
    "k4_scores = k_means_score(X,4)"
   ]
  },
  {
   "cell_type": "code",
   "execution_count": 19,
   "metadata": {
    "collapsed": false
   },
   "outputs": [
    {
     "data": {
      "text/plain": [
       "(20982.806400672336, 1365.5723109077023)"
      ]
     },
     "execution_count": 19,
     "metadata": {},
     "output_type": "execute_result"
    }
   ],
   "source": [
    "(np.mean(k4_scores), np.std(k4_scores))"
   ]
  },
  {
   "cell_type": "markdown",
   "metadata": {},
   "source": [
    "### k = 5"
   ]
  },
  {
   "cell_type": "code",
   "execution_count": 20,
   "metadata": {
    "collapsed": false
   },
   "outputs": [
    {
     "name": "stdout",
     "output_type": "stream",
     "text": [
      "algorithm ran 7 times\n",
      "index set number 1\n",
      "algorithm ran 29 times\n",
      "index set number 2\n",
      "algorithm ran 13 times\n",
      "index set number 3\n",
      "algorithm ran 2 times\n",
      "index set number 4\n",
      "algorithm ran 16 times\n",
      "index set number 5\n",
      "algorithm ran 4 times\n",
      "index set number 6\n",
      "algorithm ran 8 times\n",
      "index set number 7\n",
      "algorithm ran 5 times\n",
      "index set number 8\n",
      "algorithm ran 9 times\n",
      "index set number 9\n",
      "algorithm ran 19 times\n",
      "index set number 10\n",
      "algorithm ran 10 times\n",
      "index set number 11\n",
      "algorithm ran 27 times\n",
      "index set number 12\n",
      "algorithm ran 5 times\n",
      "index set number 13\n",
      "algorithm ran 13 times\n",
      "index set number 14\n",
      "algorithm ran 24 times\n",
      "index set number 15\n",
      "algorithm ran 5 times\n",
      "index set number 16\n",
      "algorithm ran 8 times\n",
      "index set number 17\n",
      "algorithm ran 11 times\n",
      "index set number 18\n",
      "algorithm ran 3 times\n",
      "index set number 19\n",
      "algorithm ran 14 times\n",
      "index set number 20\n",
      "algorithm ran 16 times\n",
      "index set number 21\n",
      "algorithm ran 13 times\n",
      "index set number 22\n",
      "algorithm ran 5 times\n",
      "index set number 23\n",
      "algorithm ran 9 times\n",
      "index set number 24\n",
      "algorithm ran 7 times\n",
      "index set number 25\n"
     ]
    }
   ],
   "source": [
    "k5_scores = k_means_score(X,5)"
   ]
  },
  {
   "cell_type": "code",
   "execution_count": null,
   "metadata": {
    "collapsed": false
   },
   "outputs": [
    {
     "data": {
      "text/plain": [
       "(18744.775451774636, 1766.6961023329713)"
      ]
     },
     "execution_count": 21,
     "metadata": {},
     "output_type": "execute_result"
    }
   ],
   "source": [
    "(np.mean(k5_scores), np.std(k5_scores))"
   ]
  },
  {
   "cell_type": "markdown",
   "metadata": {},
   "source": [
    "### k = 6"
   ]
  },
  {
   "cell_type": "code",
   "execution_count": 18,
   "metadata": {
    "collapsed": false
   },
   "outputs": [
    {
     "name": "stdout",
     "output_type": "stream",
     "text": [
      "algorithm ran 7 times\n",
      "index set number 1\n",
      "algorithm ran 1 times\n",
      "index set number 2\n",
      "algorithm ran 5 times\n",
      "index set number 3\n",
      "algorithm ran 14 times\n",
      "index set number 4\n",
      "algorithm ran 10 times\n",
      "index set number 5\n",
      "algorithm ran 15 times\n",
      "index set number 6\n",
      "algorithm ran 9 times\n",
      "index set number 7\n",
      "algorithm ran 14 times\n",
      "index set number 8\n",
      "algorithm ran 8 times\n",
      "index set number 9\n",
      "algorithm ran 7 times\n",
      "index set number 10\n",
      "algorithm ran 3 times\n",
      "index set number 11\n",
      "algorithm ran 12 times\n",
      "index set number 12\n",
      "algorithm ran 15 times\n",
      "index set number 13\n",
      "algorithm ran 6 times\n",
      "index set number 14\n",
      "algorithm ran 8 times\n",
      "index set number 15\n",
      "algorithm ran 19 times\n",
      "index set number 16\n",
      "algorithm ran 11 times\n",
      "index set number 17\n",
      "algorithm ran 9 times\n",
      "index set number 18\n",
      "algorithm ran 11 times\n",
      "index set number 19\n",
      "algorithm ran 14 times\n",
      "index set number 20\n",
      "algorithm ran 6 times\n",
      "index set number 21\n",
      "algorithm ran 4 times\n",
      "index set number 22\n",
      "algorithm ran 12 times\n",
      "index set number 23\n",
      "algorithm ran 17 times\n",
      "index set number 24\n",
      "algorithm ran 3 times\n",
      "index set number 25\n"
     ]
    }
   ],
   "source": [
    "k6_scores = k_means_score(X,6)"
   ]
  },
  {
   "cell_type": "code",
   "execution_count": 19,
   "metadata": {
    "collapsed": false
   },
   "outputs": [
    {
     "data": {
      "text/plain": [
       "(17145.57921889894, 2102.39530567477)"
      ]
     },
     "execution_count": 19,
     "metadata": {},
     "output_type": "execute_result"
    }
   ],
   "source": [
    "(np.mean(k6_scores), np.std(k6_scores))"
   ]
  },
  {
   "cell_type": "markdown",
   "metadata": {},
   "source": [
    "### k = 7"
   ]
  },
  {
   "cell_type": "code",
   "execution_count": 14,
   "metadata": {
    "collapsed": false
   },
   "outputs": [
    {
     "name": "stdout",
     "output_type": "stream",
     "text": [
      "algorithm ran 7 times\n",
      "index set number 1\n",
      "algorithm ran 5 times\n",
      "index set number 2\n",
      "algorithm ran 20 times\n",
      "index set number 3\n",
      "algorithm ran 3 times\n",
      "index set number 4\n",
      "algorithm ran 9 times\n",
      "index set number 5\n",
      "algorithm ran 26 times\n",
      "index set number 6\n",
      "algorithm ran 3 times\n",
      "index set number 7\n",
      "algorithm ran 12 times\n",
      "index set number 8\n",
      "algorithm ran 4 times\n",
      "index set number 9\n",
      "algorithm ran 8 times\n",
      "index set number 10\n",
      "algorithm ran 16 times\n",
      "index set number 11\n",
      "algorithm ran 14 times\n",
      "index set number 12\n",
      "algorithm ran 7 times\n",
      "index set number 13\n",
      "algorithm ran 8 times\n",
      "index set number 14\n",
      "algorithm ran 3 times\n",
      "index set number 15\n",
      "algorithm ran 6 times\n",
      "index set number 16\n",
      "algorithm ran 5 times\n",
      "index set number 17\n",
      "algorithm ran 14 times\n",
      "index set number 18\n",
      "algorithm ran 16 times\n",
      "index set number 19\n",
      "algorithm ran 13 times\n",
      "index set number 20\n",
      "algorithm ran 11 times\n",
      "index set number 21\n",
      "algorithm ran 24 times\n",
      "index set number 22\n",
      "algorithm ran 11 times\n",
      "index set number 23\n",
      "algorithm ran 18 times\n",
      "index set number 24\n",
      "algorithm ran 29 times\n",
      "index set number 25\n"
     ]
    }
   ],
   "source": [
    "k7_scores = k_means_score(X,7)"
   ]
  },
  {
   "cell_type": "code",
   "execution_count": 15,
   "metadata": {
    "collapsed": false
   },
   "outputs": [
    {
     "data": {
      "text/plain": [
       "(15500.005922611766, 1846.0415637756296)"
      ]
     },
     "execution_count": 15,
     "metadata": {},
     "output_type": "execute_result"
    }
   ],
   "source": [
    "(np.mean(k7_scores), np.std(k7_scores))"
   ]
  },
  {
   "cell_type": "markdown",
   "metadata": {},
   "source": [
    "### k = 8"
   ]
  },
  {
   "cell_type": "code",
   "execution_count": 16,
   "metadata": {
    "collapsed": false
   },
   "outputs": [
    {
     "name": "stdout",
     "output_type": "stream",
     "text": [
      "algorithm ran 7 times\n",
      "index set number 1\n",
      "algorithm ran 3 times\n",
      "index set number 2\n",
      "algorithm ran 6 times\n",
      "index set number 3\n",
      "algorithm ran 16 times\n",
      "index set number 4\n",
      "algorithm ran 8 times\n",
      "index set number 5\n",
      "algorithm ran 3 times\n",
      "index set number 6\n",
      "algorithm ran 16 times\n",
      "index set number 7\n",
      "algorithm ran 4 times\n",
      "index set number 8\n",
      "algorithm ran 3 times\n",
      "index set number 9\n",
      "algorithm ran 13 times\n",
      "index set number 10\n",
      "algorithm ran 12 times\n",
      "index set number 11\n",
      "algorithm ran 26 times\n",
      "index set number 12\n",
      "algorithm ran 14 times\n",
      "index set number 13\n",
      "algorithm ran 3 times\n",
      "index set number 14\n",
      "algorithm ran 7 times\n",
      "index set number 15\n",
      "algorithm ran 7 times\n",
      "index set number 16\n",
      "algorithm ran 18 times\n",
      "index set number 17\n",
      "algorithm ran 4 times\n",
      "index set number 18\n",
      "algorithm ran 14 times\n",
      "index set number 19\n",
      "algorithm ran 15 times\n",
      "index set number 20\n",
      "algorithm ran 5 times\n",
      "index set number 21\n",
      "algorithm ran 25 times\n",
      "index set number 22\n",
      "algorithm ran 19 times\n",
      "index set number 23\n",
      "algorithm ran 7 times\n",
      "index set number 24\n",
      "algorithm ran 8 times\n",
      "index set number 25\n"
     ]
    }
   ],
   "source": [
    "k8_scores = k_means_score(X,8)"
   ]
  },
  {
   "cell_type": "code",
   "execution_count": 17,
   "metadata": {
    "collapsed": false
   },
   "outputs": [
    {
     "data": {
      "text/plain": [
       "(14379.661949730218, 1447.9948349638958)"
      ]
     },
     "execution_count": 17,
     "metadata": {},
     "output_type": "execute_result"
    }
   ],
   "source": [
    "(np.mean(k8_scores), np.std(k8_scores))"
   ]
  },
  {
   "cell_type": "markdown",
   "metadata": {},
   "source": [
    "### k = 9"
   ]
  },
  {
   "cell_type": "code",
   "execution_count": 17,
   "metadata": {
    "collapsed": false
   },
   "outputs": [
    {
     "name": "stdout",
     "output_type": "stream",
     "text": [
      "algorithm ran 7 times\n",
      "index set number 1\n",
      "algorithm ran 16 times\n",
      "index set number 2\n",
      "algorithm ran 19 times\n",
      "index set number 3\n",
      "algorithm ran 28 times\n",
      "index set number 4\n",
      "algorithm ran 11 times\n",
      "index set number 5\n",
      "algorithm ran 23 times\n",
      "index set number 6\n",
      "algorithm ran 26 times\n",
      "index set number 7\n",
      "algorithm ran 15 times\n",
      "index set number 8\n",
      "algorithm ran 19 times\n",
      "index set number 9\n",
      "algorithm ran 4 times\n",
      "index set number 10\n",
      "algorithm ran 11 times\n",
      "index set number 11\n",
      "algorithm ran 7 times\n",
      "index set number 12\n",
      "algorithm ran 18 times\n",
      "index set number 13\n",
      "algorithm ran 26 times\n",
      "index set number 14\n",
      "algorithm ran 7 times\n",
      "index set number 15\n",
      "algorithm ran 1 times\n",
      "index set number 16\n",
      "algorithm ran 16 times\n",
      "index set number 17\n",
      "algorithm ran 11 times\n",
      "index set number 18\n",
      "algorithm ran 20 times\n",
      "index set number 19\n",
      "algorithm ran 4 times\n",
      "index set number 20\n",
      "algorithm ran 28 times\n",
      "index set number 21\n",
      "algorithm ran 13 times\n",
      "index set number 22\n",
      "algorithm ran 3 times\n",
      "index set number 23\n",
      "algorithm ran 9 times\n",
      "index set number 24\n",
      "algorithm ran 8 times\n",
      "index set number 25\n"
     ]
    }
   ],
   "source": [
    "k9_scores = k_means_score(X,9)"
   ]
  },
  {
   "cell_type": "code",
   "execution_count": 18,
   "metadata": {
    "collapsed": false
   },
   "outputs": [
    {
     "data": {
      "text/plain": [
       "(12807.717491626676, 1514.0988492359422)"
      ]
     },
     "execution_count": 18,
     "metadata": {},
     "output_type": "execute_result"
    }
   ],
   "source": [
    "(np.mean(k9_scores), np.std(k9_scores))"
   ]
  },
  {
   "cell_type": "markdown",
   "metadata": {},
   "source": [
    "### k = 10"
   ]
  },
  {
   "cell_type": "code",
   "execution_count": 19,
   "metadata": {
    "collapsed": false
   },
   "outputs": [
    {
     "name": "stdout",
     "output_type": "stream",
     "text": [
      "algorithm ran 7 times\n",
      "index set number 1\n",
      "algorithm ran 31 times\n",
      "index set number 2\n",
      "algorithm ran 31 times\n",
      "index set number 3\n",
      "algorithm ran 30 times\n",
      "index set number 4\n",
      "algorithm ran 3 times\n",
      "index set number 5\n",
      "algorithm ran 36 times\n",
      "index set number 6\n",
      "algorithm ran 10 times\n",
      "index set number 7\n",
      "algorithm ran 14 times\n",
      "index set number 8\n",
      "algorithm ran 33 times\n",
      "index set number 9\n",
      "algorithm ran 12 times\n",
      "index set number 10\n",
      "algorithm ran 8 times\n",
      "index set number 11\n",
      "algorithm ran 6 times\n",
      "index set number 12\n",
      "algorithm ran 10 times\n",
      "index set number 13\n",
      "algorithm ran 7 times\n",
      "index set number 14\n",
      "algorithm ran 34 times\n",
      "index set number 15\n",
      "algorithm ran 10 times\n",
      "index set number 16\n",
      "algorithm ran 4 times\n",
      "index set number 17\n",
      "algorithm ran 7 times\n",
      "index set number 18\n",
      "algorithm ran 24 times\n",
      "index set number 19\n",
      "algorithm ran 20 times\n",
      "index set number 20\n",
      "algorithm ran 3 times\n",
      "index set number 21\n",
      "algorithm ran 16 times\n",
      "index set number 22\n",
      "algorithm ran 10 times\n",
      "index set number 23\n",
      "algorithm ran 23 times\n",
      "index set number 24\n",
      "algorithm ran 8 times\n",
      "index set number 25\n"
     ]
    }
   ],
   "source": [
    "k10_scores = k_means_score(X,10)"
   ]
  },
  {
   "cell_type": "code",
   "execution_count": 20,
   "metadata": {
    "collapsed": false
   },
   "outputs": [
    {
     "data": {
      "text/plain": [
       "(12212.127390800957, 1338.8366391639202)"
      ]
     },
     "execution_count": 20,
     "metadata": {},
     "output_type": "execute_result"
    }
   ],
   "source": [
    "(np.mean(k10_scores), np.std(k10_scores))"
   ]
  },
  {
   "cell_type": "markdown",
   "metadata": {},
   "source": [
    "### k = 11"
   ]
  },
  {
   "cell_type": "code",
   "execution_count": 21,
   "metadata": {
    "collapsed": false
   },
   "outputs": [
    {
     "name": "stdout",
     "output_type": "stream",
     "text": [
      "algorithm ran 7 times\n",
      "index set number 1\n",
      "algorithm ran 19 times\n",
      "index set number 2\n",
      "algorithm ran 10 times\n",
      "index set number 3\n",
      "algorithm ran 2 times\n",
      "index set number 4\n",
      "algorithm ran 4 times\n",
      "index set number 5\n",
      "algorithm ran 14 times\n",
      "index set number 6\n",
      "algorithm ran 10 times\n",
      "index set number 7\n",
      "algorithm ran 11 times\n",
      "index set number 8\n",
      "algorithm ran 14 times\n",
      "index set number 9\n",
      "algorithm ran 9 times\n",
      "index set number 10\n",
      "algorithm ran 7 times\n",
      "index set number 11\n",
      "algorithm ran 13 times\n",
      "index set number 12\n",
      "algorithm ran 16 times\n",
      "index set number 13\n",
      "algorithm ran 5 times\n",
      "index set number 14\n",
      "algorithm ran 15 times\n",
      "index set number 15\n",
      "algorithm ran 36 times\n",
      "index set number 16\n",
      "algorithm ran 10 times\n",
      "index set number 17\n",
      "algorithm ran 10 times\n",
      "index set number 18\n",
      "algorithm ran 2 times\n",
      "index set number 19\n",
      "algorithm ran 7 times\n",
      "index set number 20\n",
      "algorithm ran 21 times\n",
      "index set number 21\n",
      "algorithm ran 26 times\n",
      "index set number 22\n",
      "algorithm ran 19 times\n",
      "index set number 23\n",
      "algorithm ran 9 times\n",
      "index set number 24\n",
      "algorithm ran 20 times\n",
      "index set number 25\n"
     ]
    }
   ],
   "source": [
    "k11_scores = k_means_score(X,11)"
   ]
  },
  {
   "cell_type": "code",
   "execution_count": 22,
   "metadata": {
    "collapsed": false
   },
   "outputs": [
    {
     "data": {
      "text/plain": [
       "(11837.951284829069, 1194.2361242093366)"
      ]
     },
     "execution_count": 22,
     "metadata": {},
     "output_type": "execute_result"
    }
   ],
   "source": [
    "(np.mean(k11_scores), np.std(k11_scores))"
   ]
  },
  {
   "cell_type": "markdown",
   "metadata": {},
   "source": [
    "### k = 12"
   ]
  },
  {
   "cell_type": "code",
   "execution_count": 23,
   "metadata": {
    "collapsed": false
   },
   "outputs": [
    {
     "name": "stdout",
     "output_type": "stream",
     "text": [
      "algorithm ran 4 times\n",
      "index set number 1\n",
      "algorithm ran 9 times\n",
      "index set number 2\n",
      "algorithm ran 10 times\n",
      "index set number 3\n",
      "algorithm ran 12 times\n",
      "index set number 4\n",
      "algorithm ran 10 times\n",
      "index set number 5\n",
      "algorithm ran 10 times\n",
      "index set number 6\n",
      "algorithm ran 18 times\n",
      "index set number 7\n",
      "algorithm ran 8 times\n",
      "index set number 8\n",
      "algorithm ran 10 times\n",
      "index set number 9\n",
      "algorithm ran 11 times\n",
      "index set number 10\n",
      "algorithm ran 9 times\n",
      "index set number 11\n",
      "algorithm ran 6 times\n",
      "index set number 12\n",
      "algorithm ran 14 times\n",
      "index set number 13\n",
      "algorithm ran 18 times\n",
      "index set number 14\n",
      "algorithm ran 6 times\n",
      "index set number 15\n",
      "algorithm ran 25 times\n",
      "index set number 16\n",
      "algorithm ran 8 times\n",
      "index set number 17\n",
      "algorithm ran 9 times\n",
      "index set number 18\n",
      "algorithm ran 20 times\n",
      "index set number 19\n",
      "algorithm ran 16 times\n",
      "index set number 20\n",
      "algorithm ran 8 times\n",
      "index set number 21\n",
      "algorithm ran 4 times\n",
      "index set number 22\n",
      "algorithm ran 20 times\n",
      "index set number 23\n",
      "algorithm ran 5 times\n",
      "index set number 24\n",
      "algorithm ran 5 times\n",
      "index set number 25\n"
     ]
    }
   ],
   "source": [
    "k12_scores = k_means_score(X,12)"
   ]
  },
  {
   "cell_type": "code",
   "execution_count": 24,
   "metadata": {
    "collapsed": false
   },
   "outputs": [
    {
     "data": {
      "text/plain": [
       "(10995.354341982074, 1097.3352764297344)"
      ]
     },
     "execution_count": 24,
     "metadata": {},
     "output_type": "execute_result"
    }
   ],
   "source": [
    "(np.mean(k12_scores), np.std(k12_scores))"
   ]
  }
 ],
 "metadata": {
  "kernelspec": {
   "display_name": "Python 3",
   "language": "python",
   "name": "python3"
  },
  "language_info": {
   "codemirror_mode": {
    "name": "ipython",
    "version": 3
   },
   "file_extension": ".py",
   "mimetype": "text/x-python",
   "name": "python",
   "nbconvert_exporter": "python",
   "pygments_lexer": "ipython3",
   "version": "3.6.0"
  }
 },
 "nbformat": 4,
 "nbformat_minor": 2
}
