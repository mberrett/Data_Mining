{
 "cells": [
  {
   "cell_type": "markdown",
   "metadata": {},
   "source": [
    "# Import data and libraries"
   ]
  },
  {
   "cell_type": "code",
   "execution_count": 1,
   "metadata": {
    "collapsed": true
   },
   "outputs": [],
   "source": [
    "import pandas as pd, numpy as np\n",
    "from scipy.io import arff"
   ]
  },
  {
   "cell_type": "code",
   "execution_count": 2,
   "metadata": {
    "collapsed": false
   },
   "outputs": [
    {
     "data": {
      "text/html": [
       "<div>\n",
       "<table border=\"1\" class=\"dataframe\">\n",
       "  <thead>\n",
       "    <tr style=\"text-align: right;\">\n",
       "      <th></th>\n",
       "      <th>f0</th>\n",
       "      <th>f1</th>\n",
       "      <th>f2</th>\n",
       "      <th>f3</th>\n",
       "      <th>f4</th>\n",
       "      <th>f5</th>\n",
       "      <th>f6</th>\n",
       "      <th>f7</th>\n",
       "      <th>f8</th>\n",
       "      <th>f9</th>\n",
       "      <th>...</th>\n",
       "      <th>f27</th>\n",
       "      <th>f28</th>\n",
       "      <th>f29</th>\n",
       "      <th>f30</th>\n",
       "      <th>f31</th>\n",
       "      <th>f32</th>\n",
       "      <th>f33</th>\n",
       "      <th>f34</th>\n",
       "      <th>f35</th>\n",
       "      <th>CLASS</th>\n",
       "    </tr>\n",
       "  </thead>\n",
       "  <tbody>\n",
       "    <tr>\n",
       "      <th>0</th>\n",
       "      <td>0.063</td>\n",
       "      <td>0.160</td>\n",
       "      <td>0.509</td>\n",
       "      <td>-0.967</td>\n",
       "      <td>0.058</td>\n",
       "      <td>0.000</td>\n",
       "      <td>0.874</td>\n",
       "      <td>0.271</td>\n",
       "      <td>1.307</td>\n",
       "      <td>-0.011</td>\n",
       "      <td>...</td>\n",
       "      <td>-0.924</td>\n",
       "      <td>-0.077</td>\n",
       "      <td>0.108</td>\n",
       "      <td>-0.003</td>\n",
       "      <td>0.381</td>\n",
       "      <td>-0.314</td>\n",
       "      <td>0.929</td>\n",
       "      <td>0.184</td>\n",
       "      <td>-0.001</td>\n",
       "      <td>b'noncar'</td>\n",
       "    </tr>\n",
       "    <tr>\n",
       "      <th>1</th>\n",
       "      <td>-0.037</td>\n",
       "      <td>-0.325</td>\n",
       "      <td>-0.626</td>\n",
       "      <td>-0.029</td>\n",
       "      <td>0.121</td>\n",
       "      <td>-0.409</td>\n",
       "      <td>-0.002</td>\n",
       "      <td>-0.835</td>\n",
       "      <td>-0.595</td>\n",
       "      <td>-0.253</td>\n",
       "      <td>...</td>\n",
       "      <td>0.270</td>\n",
       "      <td>0.533</td>\n",
       "      <td>0.152</td>\n",
       "      <td>-0.978</td>\n",
       "      <td>0.157</td>\n",
       "      <td>0.011</td>\n",
       "      <td>-0.254</td>\n",
       "      <td>0.453</td>\n",
       "      <td>-0.621</td>\n",
       "      <td>b'noncar'</td>\n",
       "    </tr>\n",
       "    <tr>\n",
       "      <th>2</th>\n",
       "      <td>-0.000</td>\n",
       "      <td>1.253</td>\n",
       "      <td>0.833</td>\n",
       "      <td>-0.970</td>\n",
       "      <td>1.516</td>\n",
       "      <td>0.014</td>\n",
       "      <td>-0.378</td>\n",
       "      <td>1.197</td>\n",
       "      <td>0.546</td>\n",
       "      <td>-0.402</td>\n",
       "      <td>...</td>\n",
       "      <td>-0.408</td>\n",
       "      <td>1.550</td>\n",
       "      <td>0.010</td>\n",
       "      <td>-0.652</td>\n",
       "      <td>-0.403</td>\n",
       "      <td>-0.151</td>\n",
       "      <td>0.000</td>\n",
       "      <td>0.049</td>\n",
       "      <td>-0.113</td>\n",
       "      <td>b'car'</td>\n",
       "    </tr>\n",
       "    <tr>\n",
       "      <th>3</th>\n",
       "      <td>-0.743</td>\n",
       "      <td>-0.082</td>\n",
       "      <td>-0.626</td>\n",
       "      <td>0.723</td>\n",
       "      <td>-0.006</td>\n",
       "      <td>-0.000</td>\n",
       "      <td>-0.080</td>\n",
       "      <td>-0.297</td>\n",
       "      <td>0.166</td>\n",
       "      <td>0.311</td>\n",
       "      <td>...</td>\n",
       "      <td>0.819</td>\n",
       "      <td>-0.077</td>\n",
       "      <td>-0.099</td>\n",
       "      <td>-0.001</td>\n",
       "      <td>-0.291</td>\n",
       "      <td>1.633</td>\n",
       "      <td>0.686</td>\n",
       "      <td>1.528</td>\n",
       "      <td>-0.000</td>\n",
       "      <td>b'noncar'</td>\n",
       "    </tr>\n",
       "    <tr>\n",
       "      <th>4</th>\n",
       "      <td>-0.939</td>\n",
       "      <td>-1.054</td>\n",
       "      <td>-0.140</td>\n",
       "      <td>0.036</td>\n",
       "      <td>-0.766</td>\n",
       "      <td>0.000</td>\n",
       "      <td>-0.272</td>\n",
       "      <td>1.077</td>\n",
       "      <td>5.236</td>\n",
       "      <td>-0.366</td>\n",
       "      <td>...</td>\n",
       "      <td>0.676</td>\n",
       "      <td>0.533</td>\n",
       "      <td>-0.003</td>\n",
       "      <td>0.122</td>\n",
       "      <td>-0.179</td>\n",
       "      <td>-1.449</td>\n",
       "      <td>0.024</td>\n",
       "      <td>-1.698</td>\n",
       "      <td>0.083</td>\n",
       "      <td>b'noncar'</td>\n",
       "    </tr>\n",
       "  </tbody>\n",
       "</table>\n",
       "<p>5 rows × 37 columns</p>\n",
       "</div>"
      ],
      "text/plain": [
       "      f0     f1     f2     f3     f4     f5     f6     f7     f8     f9  \\\n",
       "0  0.063  0.160  0.509 -0.967  0.058  0.000  0.874  0.271  1.307 -0.011   \n",
       "1 -0.037 -0.325 -0.626 -0.029  0.121 -0.409 -0.002 -0.835 -0.595 -0.253   \n",
       "2 -0.000  1.253  0.833 -0.970  1.516  0.014 -0.378  1.197  0.546 -0.402   \n",
       "3 -0.743 -0.082 -0.626  0.723 -0.006 -0.000 -0.080 -0.297  0.166  0.311   \n",
       "4 -0.939 -1.054 -0.140  0.036 -0.766  0.000 -0.272  1.077  5.236 -0.366   \n",
       "\n",
       "     ...        f27    f28    f29    f30    f31    f32    f33    f34    f35  \\\n",
       "0    ...     -0.924 -0.077  0.108 -0.003  0.381 -0.314  0.929  0.184 -0.001   \n",
       "1    ...      0.270  0.533  0.152 -0.978  0.157  0.011 -0.254  0.453 -0.621   \n",
       "2    ...     -0.408  1.550  0.010 -0.652 -0.403 -0.151  0.000  0.049 -0.113   \n",
       "3    ...      0.819 -0.077 -0.099 -0.001 -0.291  1.633  0.686  1.528 -0.000   \n",
       "4    ...      0.676  0.533 -0.003  0.122 -0.179 -1.449  0.024 -1.698  0.083   \n",
       "\n",
       "       CLASS  \n",
       "0  b'noncar'  \n",
       "1  b'noncar'  \n",
       "2     b'car'  \n",
       "3  b'noncar'  \n",
       "4  b'noncar'  \n",
       "\n",
       "[5 rows x 37 columns]"
      ]
     },
     "execution_count": 2,
     "metadata": {},
     "output_type": "execute_result"
    }
   ],
   "source": [
    "data = arff.loadarff('veh-prime.arff')\n",
    "df = pd.DataFrame(data[0])\n",
    "df.head()"
   ]
  },
  {
   "cell_type": "code",
   "execution_count": 3,
   "metadata": {
    "collapsed": false
   },
   "outputs": [
    {
     "data": {
      "text/plain": [
       "(846, 37)"
      ]
     },
     "execution_count": 3,
     "metadata": {},
     "output_type": "execute_result"
    }
   ],
   "source": [
    "df.shape"
   ]
  },
  {
   "cell_type": "markdown",
   "metadata": {},
   "source": [
    "### Separate into X and y"
   ]
  },
  {
   "cell_type": "code",
   "execution_count": 4,
   "metadata": {
    "collapsed": false
   },
   "outputs": [
    {
     "data": {
      "text/plain": [
       "True"
      ]
     },
     "execution_count": 4,
     "metadata": {},
     "output_type": "execute_result"
    }
   ],
   "source": [
    "X = df.iloc[:,:-1]\n",
    "y_str = df.iloc[:,-1]\n",
    "y = pd.get_dummies(y_str).iloc[:,:1]\n",
    "\n",
    "y_clean = np.array(y.iloc[:,0])\n",
    "\n",
    "len(y) == len(X) # check"
   ]
  },
  {
   "cell_type": "markdown",
   "metadata": {},
   "source": [
    "# Z-score Normalization"
   ]
  },
  {
   "cell_type": "code",
   "execution_count": 5,
   "metadata": {
    "collapsed": true
   },
   "outputs": [],
   "source": [
    "X = (X - X.mean()) / X.std()"
   ]
  },
  {
   "cell_type": "markdown",
   "metadata": {},
   "source": [
    "# Functions"
   ]
  },
  {
   "cell_type": "markdown",
   "metadata": {},
   "source": [
    "### Pearson Coefficient"
   ]
  },
  {
   "cell_type": "code",
   "execution_count": 6,
   "metadata": {
    "collapsed": true
   },
   "outputs": [],
   "source": [
    "def pearson(x,y):\n",
    "    \n",
    "    sum_sq_x = 0\n",
    "    sum_sq_y = 0 \n",
    "    sum_coproduct = 0\n",
    "    mean_x = 0\n",
    "    mean_y = 0\n",
    "    \n",
    "    N = len(x)\n",
    "    \n",
    "    for i in range(N):\n",
    "        sum_sq_x += x[i] * x[i]\n",
    "        sum_sq_y += y[i] * y[i]\n",
    "        sum_coproduct += x[i] * y[i]\n",
    "        mean_x += x[i]\n",
    "        mean_y += y[i]\n",
    "        \n",
    "    mean_x = mean_x / N\n",
    "    mean_y = mean_y / N\n",
    "    pop_sd_x = np.sqrt((sum_sq_x/N) - (mean_x * mean_x))\n",
    "    pop_sd_y = np.sqrt((sum_sq_y / N) - (mean_y * mean_y))\n",
    "    cov_x_y = (sum_coproduct / N) - (mean_x * mean_y)\n",
    "    correlation = cov_x_y / (pop_sd_x * pop_sd_y)\n",
    "    \n",
    "    return correlation"
   ]
  },
  {
   "cell_type": "markdown",
   "metadata": {},
   "source": [
    "### Majority Vote"
   ]
  },
  {
   "cell_type": "code",
   "execution_count": 7,
   "metadata": {
    "collapsed": true
   },
   "outputs": [],
   "source": [
    "def majority_vote(categories_list):\n",
    "    \n",
    "    \"\"\"\n",
    "    Takes in a list of votes of length k.\n",
    "    Returns the value that consitutes the majority.\n",
    "    \"\"\"\n",
    "    \n",
    "    ones = categories_list.count(1)\n",
    "    zeroes = categories_list.count(0)\n",
    "\n",
    "    if ones > zeroes:\n",
    "        result = 1\n",
    "    else:\n",
    "        result = 0\n",
    "    \n",
    "    return result"
   ]
  },
  {
   "cell_type": "markdown",
   "metadata": {},
   "source": [
    "### Predict_Instance"
   ]
  },
  {
   "cell_type": "code",
   "execution_count": 8,
   "metadata": {
    "collapsed": true
   },
   "outputs": [],
   "source": [
    "def predict_instance(X_train, y_train, test_instance, k):\n",
    "    \n",
    "    \"\"\"\n",
    "    Takes in training features, training targets, testing features,\n",
    "    a value for k, and a value for n, an index value \n",
    "    that determines the testing instance against which \n",
    "    the training instances are measured in terms of Eucledian distance.\n",
    "    \n",
    "    Sorts the list of distances in ascending order,\n",
    "    keeping only the first k of the them in a new list,\n",
    "    with which it computes a majority vote. \n",
    "    \n",
    "    Returns the result of the majority vote. \n",
    "    \"\"\"\n",
    "    \n",
    "    distances = []\n",
    "    targets = []\n",
    "    \n",
    "    # Get the distances for one instance\n",
    "    test = np.array(y_train)\n",
    "    train = np.array(X_train)\n",
    "    instance = np.array(test_instance)\n",
    "    \n",
    "    #1st for loop\n",
    "    for i in range(len(train)):\n",
    "    \n",
    "        dist = np.sqrt(np.sum(np.square(instance - train[i]))) # removed [n] from after instance\n",
    "        distances.append([dist,i])\n",
    "     \n",
    "    distances = sorted(distances)\n",
    "    \n",
    "    #2nd for loop\n",
    "    for i in range(k):\n",
    "        index = distances[i][1]\n",
    "        targets.append(y_train[index])\n",
    "    \n",
    "    # majority vote\n",
    "    return majority_vote(targets)\n"
   ]
  },
  {
   "cell_type": "markdown",
   "metadata": {},
   "source": [
    "### Accuracy"
   ]
  },
  {
   "cell_type": "code",
   "execution_count": 9,
   "metadata": {
    "collapsed": true
   },
   "outputs": [],
   "source": [
    "def KNN_accuracy(pred_X, t_test):\n",
    "    \n",
    "    \"\"\"\n",
    "    Takes in predicted and actual values for test instances.\n",
    "    Returns an accuracy score.\n",
    "    \"\"\"\n",
    "    \n",
    "    test_target = np.array(t_test)\n",
    "    pred_target = np.array(pred_X)\n",
    "    \n",
    "    accuracy_score = 0\n",
    "    \n",
    "    for i in range(len(pred_X)):\n",
    "        if test_target[i] == pred_target[i]:\n",
    "            accuracy_score = accuracy_score + 1\n",
    "        else:\n",
    "            accuracy_score = accuracy_score + 0\n",
    "        \n",
    "    return (accuracy_score / len(pred_X))"
   ]
  },
  {
   "cell_type": "markdown",
   "metadata": {},
   "source": [
    "# Question 3"
   ]
  },
  {
   "cell_type": "markdown",
   "metadata": {},
   "source": [
    "### Get PCC scores for all features then sort them in descending order"
   ]
  },
  {
   "cell_type": "code",
   "execution_count": 10,
   "metadata": {
    "collapsed": false
   },
   "outputs": [],
   "source": [
    "a = y_clean\n",
    "filt_feat = []\n",
    "\n",
    "for i in range(X.shape[1]):\n",
    "    b = np.array(X.iloc[:,i])\n",
    "    val = np.abs(pearson(a,b)) # absolute value of R\n",
    "    filt_feat.append([val,i])\n",
    "\n",
    "filt_sort = sorted(filt_feat, reverse=True)"
   ]
  },
  {
   "cell_type": "markdown",
   "metadata": {},
   "source": [
    "### Turn results into Data Frame to display 3.a)"
   ]
  },
  {
   "cell_type": "code",
   "execution_count": 11,
   "metadata": {
    "collapsed": false
   },
   "outputs": [],
   "source": [
    "rank = np.array(list(range(1,37)))\n",
    "feat_n = []\n",
    "r_score = []\n",
    "for i in range(len(filt_sort)):\n",
    "    feat_n.append(filt_sort[i][1])\n",
    "    r_score.append(filt_sort[i][0])"
   ]
  },
  {
   "cell_type": "code",
   "execution_count": 12,
   "metadata": {
    "collapsed": false
   },
   "outputs": [],
   "source": [
    "Filter_Ranks = pd.DataFrame(data=np.column_stack((rank, feat_n, r_score)),columns=['Rank','Feature #','R_score'])\n",
    "Filter_Ranks[\"Feature #\"] = Filter_Ranks[\"Feature #\"].astype(int)\n",
    "Filter_Ranks[\"Rank\"] = Filter_Ranks[\"Rank\"].astype(int)"
   ]
  },
  {
   "cell_type": "markdown",
   "metadata": {},
   "source": [
    "# Answer for 3.a."
   ]
  },
  {
   "cell_type": "code",
   "execution_count": 13,
   "metadata": {
    "collapsed": false
   },
   "outputs": [
    {
     "data": {
      "text/html": [
       "<div>\n",
       "<table border=\"1\" class=\"dataframe\">\n",
       "  <thead>\n",
       "    <tr style=\"text-align: right;\">\n",
       "      <th></th>\n",
       "      <th>Rank</th>\n",
       "      <th>Feature #</th>\n",
       "      <th>R_score</th>\n",
       "    </tr>\n",
       "  </thead>\n",
       "  <tbody>\n",
       "    <tr>\n",
       "      <th>0</th>\n",
       "      <td>1</td>\n",
       "      <td>4</td>\n",
       "      <td>0.436922</td>\n",
       "    </tr>\n",
       "    <tr>\n",
       "      <th>1</th>\n",
       "      <td>2</td>\n",
       "      <td>13</td>\n",
       "      <td>0.368269</td>\n",
       "    </tr>\n",
       "    <tr>\n",
       "      <th>2</th>\n",
       "      <td>3</td>\n",
       "      <td>14</td>\n",
       "      <td>0.368224</td>\n",
       "    </tr>\n",
       "    <tr>\n",
       "      <th>3</th>\n",
       "      <td>4</td>\n",
       "      <td>16</td>\n",
       "      <td>0.366025</td>\n",
       "    </tr>\n",
       "    <tr>\n",
       "      <th>4</th>\n",
       "      <td>5</td>\n",
       "      <td>7</td>\n",
       "      <td>0.352141</td>\n",
       "    </tr>\n",
       "    <tr>\n",
       "      <th>5</th>\n",
       "      <td>6</td>\n",
       "      <td>22</td>\n",
       "      <td>0.351350</td>\n",
       "    </tr>\n",
       "    <tr>\n",
       "      <th>6</th>\n",
       "      <td>7</td>\n",
       "      <td>26</td>\n",
       "      <td>0.341043</td>\n",
       "    </tr>\n",
       "    <tr>\n",
       "      <th>7</th>\n",
       "      <td>8</td>\n",
       "      <td>1</td>\n",
       "      <td>0.308811</td>\n",
       "    </tr>\n",
       "    <tr>\n",
       "      <th>8</th>\n",
       "      <td>9</td>\n",
       "      <td>20</td>\n",
       "      <td>0.299049</td>\n",
       "    </tr>\n",
       "    <tr>\n",
       "      <th>9</th>\n",
       "      <td>10</td>\n",
       "      <td>31</td>\n",
       "      <td>0.290783</td>\n",
       "    </tr>\n",
       "    <tr>\n",
       "      <th>10</th>\n",
       "      <td>11</td>\n",
       "      <td>34</td>\n",
       "      <td>0.266093</td>\n",
       "    </tr>\n",
       "    <tr>\n",
       "      <th>11</th>\n",
       "      <td>12</td>\n",
       "      <td>2</td>\n",
       "      <td>0.195732</td>\n",
       "    </tr>\n",
       "    <tr>\n",
       "      <th>12</th>\n",
       "      <td>13</td>\n",
       "      <td>28</td>\n",
       "      <td>0.156904</td>\n",
       "    </tr>\n",
       "    <tr>\n",
       "      <th>13</th>\n",
       "      <td>14</td>\n",
       "      <td>25</td>\n",
       "      <td>0.153096</td>\n",
       "    </tr>\n",
       "    <tr>\n",
       "      <th>14</th>\n",
       "      <td>15</td>\n",
       "      <td>19</td>\n",
       "      <td>0.137636</td>\n",
       "    </tr>\n",
       "    <tr>\n",
       "      <th>15</th>\n",
       "      <td>16</td>\n",
       "      <td>17</td>\n",
       "      <td>0.113945</td>\n",
       "    </tr>\n",
       "    <tr>\n",
       "      <th>16</th>\n",
       "      <td>17</td>\n",
       "      <td>32</td>\n",
       "      <td>0.093174</td>\n",
       "    </tr>\n",
       "    <tr>\n",
       "      <th>17</th>\n",
       "      <td>18</td>\n",
       "      <td>8</td>\n",
       "      <td>0.087773</td>\n",
       "    </tr>\n",
       "    <tr>\n",
       "      <th>18</th>\n",
       "      <td>19</td>\n",
       "      <td>0</td>\n",
       "      <td>0.069795</td>\n",
       "    </tr>\n",
       "    <tr>\n",
       "      <th>19</th>\n",
       "      <td>20</td>\n",
       "      <td>10</td>\n",
       "      <td>0.056876</td>\n",
       "    </tr>\n",
       "    <tr>\n",
       "      <th>20</th>\n",
       "      <td>21</td>\n",
       "      <td>21</td>\n",
       "      <td>0.056605</td>\n",
       "    </tr>\n",
       "    <tr>\n",
       "      <th>21</th>\n",
       "      <td>22</td>\n",
       "      <td>11</td>\n",
       "      <td>0.042117</td>\n",
       "    </tr>\n",
       "    <tr>\n",
       "      <th>22</th>\n",
       "      <td>23</td>\n",
       "      <td>33</td>\n",
       "      <td>0.038810</td>\n",
       "    </tr>\n",
       "    <tr>\n",
       "      <th>23</th>\n",
       "      <td>24</td>\n",
       "      <td>6</td>\n",
       "      <td>0.035295</td>\n",
       "    </tr>\n",
       "    <tr>\n",
       "      <th>24</th>\n",
       "      <td>25</td>\n",
       "      <td>15</td>\n",
       "      <td>0.031478</td>\n",
       "    </tr>\n",
       "    <tr>\n",
       "      <th>25</th>\n",
       "      <td>26</td>\n",
       "      <td>35</td>\n",
       "      <td>0.030855</td>\n",
       "    </tr>\n",
       "    <tr>\n",
       "      <th>26</th>\n",
       "      <td>27</td>\n",
       "      <td>29</td>\n",
       "      <td>0.020829</td>\n",
       "    </tr>\n",
       "    <tr>\n",
       "      <th>27</th>\n",
       "      <td>28</td>\n",
       "      <td>18</td>\n",
       "      <td>0.017931</td>\n",
       "    </tr>\n",
       "    <tr>\n",
       "      <th>28</th>\n",
       "      <td>29</td>\n",
       "      <td>27</td>\n",
       "      <td>0.015606</td>\n",
       "    </tr>\n",
       "    <tr>\n",
       "      <th>29</th>\n",
       "      <td>30</td>\n",
       "      <td>9</td>\n",
       "      <td>0.013005</td>\n",
       "    </tr>\n",
       "    <tr>\n",
       "      <th>30</th>\n",
       "      <td>31</td>\n",
       "      <td>3</td>\n",
       "      <td>0.009214</td>\n",
       "    </tr>\n",
       "    <tr>\n",
       "      <th>31</th>\n",
       "      <td>32</td>\n",
       "      <td>30</td>\n",
       "      <td>0.008955</td>\n",
       "    </tr>\n",
       "    <tr>\n",
       "      <th>32</th>\n",
       "      <td>33</td>\n",
       "      <td>24</td>\n",
       "      <td>0.007780</td>\n",
       "    </tr>\n",
       "    <tr>\n",
       "      <th>33</th>\n",
       "      <td>34</td>\n",
       "      <td>23</td>\n",
       "      <td>0.005508</td>\n",
       "    </tr>\n",
       "    <tr>\n",
       "      <th>34</th>\n",
       "      <td>35</td>\n",
       "      <td>12</td>\n",
       "      <td>0.002179</td>\n",
       "    </tr>\n",
       "    <tr>\n",
       "      <th>35</th>\n",
       "      <td>36</td>\n",
       "      <td>5</td>\n",
       "      <td>0.000098</td>\n",
       "    </tr>\n",
       "  </tbody>\n",
       "</table>\n",
       "</div>"
      ],
      "text/plain": [
       "    Rank  Feature #   R_score\n",
       "0      1          4  0.436922\n",
       "1      2         13  0.368269\n",
       "2      3         14  0.368224\n",
       "3      4         16  0.366025\n",
       "4      5          7  0.352141\n",
       "5      6         22  0.351350\n",
       "6      7         26  0.341043\n",
       "7      8          1  0.308811\n",
       "8      9         20  0.299049\n",
       "9     10         31  0.290783\n",
       "10    11         34  0.266093\n",
       "11    12          2  0.195732\n",
       "12    13         28  0.156904\n",
       "13    14         25  0.153096\n",
       "14    15         19  0.137636\n",
       "15    16         17  0.113945\n",
       "16    17         32  0.093174\n",
       "17    18          8  0.087773\n",
       "18    19          0  0.069795\n",
       "19    20         10  0.056876\n",
       "20    21         21  0.056605\n",
       "21    22         11  0.042117\n",
       "22    23         33  0.038810\n",
       "23    24          6  0.035295\n",
       "24    25         15  0.031478\n",
       "25    26         35  0.030855\n",
       "26    27         29  0.020829\n",
       "27    28         18  0.017931\n",
       "28    29         27  0.015606\n",
       "29    30          9  0.013005\n",
       "30    31          3  0.009214\n",
       "31    32         30  0.008955\n",
       "32    33         24  0.007780\n",
       "33    34         23  0.005508\n",
       "34    35         12  0.002179\n",
       "35    36          5  0.000098"
      ]
     },
     "execution_count": 13,
     "metadata": {},
     "output_type": "execute_result"
    }
   ],
   "source": [
    "Filter_Ranks"
   ]
  },
  {
   "cell_type": "markdown",
   "metadata": {},
   "source": [
    "### Testing LOOCV"
   ]
  },
  {
   "cell_type": "markdown",
   "metadata": {},
   "source": [
    "Next Step is how to put more than one feature in there "
   ]
  },
  {
   "cell_type": "markdown",
   "metadata": {},
   "source": [
    "### LOOCV"
   ]
  },
  {
   "cell_type": "code",
   "execution_count": 14,
   "metadata": {
    "collapsed": false
   },
   "outputs": [],
   "source": [
    "def LOOCV(X,y,f):\n",
    "    \n",
    "    '''f for feature number'''\n",
    "    \n",
    "    pred = []\n",
    "    \n",
    "    for i in range(len(y)):\n",
    "        \n",
    "        bad_ix = X.index.isin([i])\n",
    "        \n",
    "        X_swept = X[~bad_ix]\n",
    "        y_swept = y[~bad_ix]\n",
    "        \n",
    "        y_clean = np.array(y.iloc[:,0])\n",
    "        y_swept_clean = np.array(y_swept.iloc[:,0])\n",
    "\n",
    "        Xtrain1 = X_swept.iloc[:,f] # z\n",
    "        ytrain1 = y_swept_clean # all but z\n",
    "        \n",
    "        Xtest1 = X.iloc[i,f]\n",
    "        ytest1 = y_clean[i] # all but z\n",
    "\n",
    "        y_pred = predict_instance(Xtrain1, ytrain1, Xtest1, 7)\n",
    "        \n",
    "        pred.append(y_pred)\n",
    "        \n",
    "    return pred\n",
    "    "
   ]
  },
  {
   "cell_type": "markdown",
   "metadata": {},
   "source": [
    "### m = 1 LOOCV"
   ]
  },
  {
   "cell_type": "code",
   "execution_count": 15,
   "metadata": {
    "collapsed": false
   },
   "outputs": [
    {
     "data": {
      "text/plain": [
       "0.7222222222222222"
      ]
     },
     "execution_count": 15,
     "metadata": {},
     "output_type": "execute_result"
    }
   ],
   "source": [
    "m1 = LOOCV(X,y,4)\n",
    "KNN_accuracy(m1,y_clean)"
   ]
  },
  {
   "cell_type": "markdown",
   "metadata": {},
   "source": [
    "### Iteratively"
   ]
  },
  {
   "cell_type": "code",
   "execution_count": 20,
   "metadata": {
    "collapsed": false
   },
   "outputs": [],
   "source": [
    "mlist = []\n",
    "for i in range(1,36):\n",
    "    m = LOOCV(X,y,Filter_Ranks[\"Feature #\"][:i])\n",
    "    a = KNN_accuracy(m,y_clean)\n",
    "    mlist.append([a,i])"
   ]
  },
  {
   "cell_type": "code",
   "execution_count": 21,
   "metadata": {
    "collapsed": false
   },
   "outputs": [
    {
     "data": {
      "text/plain": [
       "[[0.925531914893617, 20],\n",
       " [0.9243498817966903, 18],\n",
       " [0.91725768321513, 19],\n",
       " [0.9113475177304965, 21],\n",
       " [0.9101654846335697, 17],\n",
       " [0.9089834515366431, 15],\n",
       " [0.9042553191489362, 22],\n",
       " [0.9042553191489362, 12],\n",
       " [0.9018912529550828, 11],\n",
       " [0.8971631205673759, 16],\n",
       " [0.8947990543735225, 23],\n",
       " [0.8947990543735225, 9],\n",
       " [0.8912529550827423, 14],\n",
       " [0.8888888888888888, 13],\n",
       " [0.8853427895981087, 10],\n",
       " [0.8841607565011821, 24],\n",
       " [0.8794326241134752, 26],\n",
       " [0.8782505910165485, 25],\n",
       " [0.875886524822695, 27],\n",
       " [0.8747044917257684, 8],\n",
       " [0.8699763593380615, 28],\n",
       " [0.8617021276595744, 7],\n",
       " [0.8546099290780141, 29],\n",
       " [0.8498817966903073, 30],\n",
       " [0.8380614657210402, 31],\n",
       " [0.8368794326241135, 6],\n",
       " [0.83451536643026, 32],\n",
       " [0.83451536643026, 5],\n",
       " [0.83451536643026, 4],\n",
       " [0.8274231678486997, 34],\n",
       " [0.8262411347517731, 33],\n",
       " [0.8226950354609929, 3],\n",
       " [0.8108747044917257, 35],\n",
       " [0.7955082742316785, 2],\n",
       " [0.7222222222222222, 1]]"
      ]
     },
     "execution_count": 21,
     "metadata": {},
     "output_type": "execute_result"
    }
   ],
   "source": [
    "sorted(mlist, reverse=True)"
   ]
  },
  {
   "cell_type": "markdown",
   "metadata": {},
   "source": [
    "# Answer 3.b.\n",
    "\n",
    "### Optimal m = 20"
   ]
  },
  {
   "cell_type": "code",
   "execution_count": 22,
   "metadata": {
    "collapsed": false
   },
   "outputs": [
    {
     "data": {
      "text/plain": [
       "0.925531914893617"
      ]
     },
     "execution_count": 22,
     "metadata": {},
     "output_type": "execute_result"
    }
   ],
   "source": [
    "m20 = LOOCV(X,y,Filter_Ranks[\"Feature #\"][:20])\n",
    "KNN_accuracy(m20,y_clean)"
   ]
  },
  {
   "cell_type": "code",
   "execution_count": null,
   "metadata": {
    "collapsed": true
   },
   "outputs": [],
   "source": []
  }
 ],
 "metadata": {
  "kernelspec": {
   "display_name": "Python 3",
   "language": "python",
   "name": "python3"
  },
  "language_info": {
   "codemirror_mode": {
    "name": "ipython",
    "version": 3
   },
   "file_extension": ".py",
   "mimetype": "text/x-python",
   "name": "python",
   "nbconvert_exporter": "python",
   "pygments_lexer": "ipython3",
   "version": "3.6.0"
  }
 },
 "nbformat": 4,
 "nbformat_minor": 2
}
