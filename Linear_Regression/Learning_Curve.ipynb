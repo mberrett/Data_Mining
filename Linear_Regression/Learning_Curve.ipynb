{
 "cells": [
  {
   "cell_type": "markdown",
   "metadata": {},
   "source": [
    "# Import Necessary Packages, Training and Test Data"
   ]
  },
  {
   "cell_type": "code",
   "execution_count": 1,
   "metadata": {
    "collapsed": true
   },
   "outputs": [],
   "source": [
    "import pandas as pd, numpy as np, matplotlib.pyplot as plt, random"
   ]
  },
  {
   "cell_type": "code",
   "execution_count": 2,
   "metadata": {
    "collapsed": false
   },
   "outputs": [],
   "source": [
    "train_df = pd.read_csv('train-1000-100.csv')\n",
    "test_df = pd.read_csv('test-1000-100.csv')"
   ]
  },
  {
   "cell_type": "markdown",
   "metadata": {
    "collapsed": false
   },
   "source": [
    "# Functions"
   ]
  },
  {
   "cell_type": "code",
   "execution_count": 3,
   "metadata": {
    "collapsed": true
   },
   "outputs": [],
   "source": [
    "def feature_target(df, col):\n",
    "    \n",
    "    df_f = df.iloc[:,:col] # feature\n",
    "    df_t = df.iloc[:,col] # target\n",
    "    \n",
    "    return df_f, df_t"
   ]
  },
  {
   "cell_type": "code",
   "execution_count": 4,
   "metadata": {
    "collapsed": true
   },
   "outputs": [],
   "source": [
    "def get_w(features, target, lamb):\n",
    "        \n",
    "    X = np.matrix(features) # X\n",
    "    y = np.matrix(target) # y\n",
    "\n",
    "    X_squared_L2 = (X.T * X) + (lamb * np.identity(len((X.T * X)))) #removed dim parameter in favor of len()\n",
    "\n",
    "    X_dagger_L2 = X_squared_L2.I * X.T\n",
    "\n",
    "    w = X_dagger_L2 * y.T\n",
    "\n",
    "    return w"
   ]
  },
  {
   "cell_type": "code",
   "execution_count": 5,
   "metadata": {
    "collapsed": true
   },
   "outputs": [],
   "source": [
    "def mse_func(w, feature_col, target_col):\n",
    "    \"\"\"Returns Mean Squared Error\"\"\"\n",
    "    \n",
    "    w = w.T\n",
    "    l = list()\n",
    "    \n",
    "    for i in range(len(target_col)):\n",
    "        y_pred = np.sum(np.array(w) * np.array(feature_col.iloc[i,:]))\n",
    "        y = np.array(target_col.iloc[i])                \n",
    "        score = (y - y_pred)**2\n",
    "        l.append(score)\n",
    "        \n",
    "    mse = np.sum(l)/len(target_col)\n",
    "    return mse"
   ]
  },
  {
   "cell_type": "code",
   "execution_count": 6,
   "metadata": {
    "collapsed": false
   },
   "outputs": [],
   "source": [
    "def rand_sub(train_df, test_sub, sub_size, lamb):\n",
    "    \"\"\"Takes 20 random samples of size n\"\"\"\n",
    "    \n",
    "    list_train_subs = list()\n",
    "    list_test_subs = list()\n",
    "    for i in range(20):\n",
    "        start = random.sample([1,2,3,4,5,6,7,8,9,10], 1)[0]\n",
    "        stop =  start + sub_size \n",
    "        train_sub = train_df.iloc[start:stop,:]\n",
    "        test_sub = test_df.iloc[start:stop,:]\n",
    "        \n",
    "        f_train,t_train = feature_target(train_sub, 100)\n",
    "        f_test,t_test = feature_target(test_sub, 100)\n",
    "        \n",
    "        w = get_w(f_train,t_train, lamb)\n",
    "        \n",
    "        mse_train = mse_func(w, f_train,t_train) # get mse values for train data (In Error)\n",
    "        mse_test = mse_func(w, f_test,t_test) # get mse values for test data (Out Error)\n",
    "        \n",
    "        list_train_subs.append(mse_train)\n",
    "        list_test_subs.append(mse_test)\n",
    "        \n",
    "        mse_train_avg = np.average(list_train_subs)\n",
    "        mse_test_avg = np.average(list_test_subs)\n",
    "        \n",
    "    return mse_train_avg, mse_test_avg"
   ]
  },
  {
   "cell_type": "markdown",
   "metadata": {},
   "source": [
    "# First Graph $λ = 1$"
   ]
  },
  {
   "cell_type": "code",
   "execution_count": 15,
   "metadata": {
    "collapsed": true
   },
   "outputs": [],
   "source": [
    "levels = [10,15,30,50,75,100,150,250,350,500,750,1000]\n",
    "\n",
    "train_1 = list()\n",
    "test_1 = list()\n",
    "\n",
    "for i in levels:\n",
    "    train, test = rand_sub(train_df, train_df, i, 1)\n",
    "    train_1.append(train)\n",
    "    test_1.append(test)"
   ]
  },
  {
   "cell_type": "code",
   "execution_count": 16,
   "metadata": {
    "collapsed": false
   },
   "outputs": [
    {
     "data": {
      "image/png": "[encoded data removed]",
      "text/plain": [
       "<matplotlib.figure.Figure at 0x1069792b0>"
      ]
     },
     "metadata": {},
     "output_type": "display_data"
    }
   ],
   "source": [
    "plt.figure()\n",
    "plt.plot(levels, train_1)\n",
    "plt.plot(levels, test_1)\n",
    "plt.fill_between(levels, train_1,test_1, color = 'red', alpha='0.2')\n",
    "plt.legend(['train','test'])\n",
    "plt.xlabel('Sample Size')\n",
    "plt.ylabel('MSE value')\n",
    "plt.title('Learning Curve $λ = 1$', size = 20)\n",
    "#plt.savefig('Q3_plot_1.pdf')\n",
    "plt.show()"
   ]
  },
  {
   "cell_type": "markdown",
   "metadata": {
    "collapsed": false
   },
   "source": [
    "# Second Graph $λ = 25$"
   ]
  },
  {
   "cell_type": "code",
   "execution_count": 9,
   "metadata": {
    "collapsed": false
   },
   "outputs": [],
   "source": [
    "levels = [10,15,30,50,75,100,150,250,350,500,750,1000]\n",
    "\n",
    "train_25 = list()\n",
    "test_25 = list()\n",
    "\n",
    "for i in levels:\n",
    "    train, test = rand_sub(train_df, train_df, i, 25)\n",
    "    train_25.append(train)\n",
    "    test_25.append(test)"
   ]
  },
  {
   "cell_type": "code",
   "execution_count": 10,
   "metadata": {
    "collapsed": false
   },
   "outputs": [
    {
     "data": {
      "image/png": "[encoded data removed]",
      "text/plain": [
       "<matplotlib.figure.Figure at 0x11104e0f0>"
      ]
     },
     "metadata": {},
     "output_type": "display_data"
    }
   ],
   "source": [
    "plt.figure()\n",
    "plt.plot(levels, train_25)\n",
    "plt.plot(levels, test_25)\n",
    "plt.fill_between(levels, train_25,test_25, color = 'red', alpha='0.2')\n",
    "plt.legend(['train','test'])\n",
    "plt.xlabel('Sample Size')\n",
    "plt.ylabel('MSE value')\n",
    "plt.title('Learning Curve $λ = 25$', size = 20)\n",
    "\n",
    "plt.savefig('Q3_plot_2.pdf')\n",
    "plt.show()"
   ]
  },
  {
   "cell_type": "markdown",
   "metadata": {
    "collapsed": false
   },
   "source": [
    "# Third Graph $λ = 150$"
   ]
  },
  {
   "cell_type": "code",
   "execution_count": 11,
   "metadata": {
    "collapsed": false
   },
   "outputs": [],
   "source": [
    "levels = [10,15,30,50,75,100,150,250,350,500,750,1000]\n",
    "\n",
    "train_150 = list()\n",
    "test_150 = list()\n",
    "\n",
    "for i in levels:\n",
    "    train, test = rand_sub(train_df, train_df, i, 150)\n",
    "    train_150.append(train)\n",
    "    test_150.append(test)"
   ]
  },
  {
   "cell_type": "code",
   "execution_count": 12,
   "metadata": {
    "collapsed": false
   },
   "outputs": [
    {
     "data": {
      "image/png": "[encoded data removed]",
      "text/plain": [
       "<matplotlib.figure.Figure at 0x1110562b0>"
      ]
     },
     "metadata": {},
     "output_type": "display_data"
    }
   ],
   "source": [
    "plt.figure()\n",
    "plt.plot(levels, train_150)\n",
    "plt.plot(levels, test_150)\n",
    "plt.fill_between(levels, train_150,test_150, color = 'red', alpha='0.2')\n",
    "plt.legend(['train','test'])\n",
    "plt.xlabel('Sample Size')\n",
    "plt.ylabel('MSE value')\n",
    "plt.title('Learning Curve $λ = 150$', size = 20)\n",
    "#plt.savefig('Q3_plot_3.pdf')\n",
    "plt.show()"
   ]
  },
  {
   "cell_type": "code",
   "execution_count": null,
   "metadata": {
    "collapsed": true
   },
   "outputs": [],
   "source": []
  }
 ],
 "metadata": {
  "kernelspec": {
   "display_name": "Python 3",
   "language": "python",
   "name": "python3"
  },
  "language_info": {
   "codemirror_mode": {
    "name": "ipython",
    "version": 3
   },
   "file_extension": ".py",
   "mimetype": "text/x-python",
   "name": "python",
   "nbconvert_exporter": "python",
   "pygments_lexer": "ipython3",
   "version": "3.6.0"
  }
 },
 "nbformat": 4,
 "nbformat_minor": 2
}
