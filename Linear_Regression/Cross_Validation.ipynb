{
 "cells": [
  {
   "cell_type": "markdown",
   "metadata": {},
   "source": [
    "# Import Necessary Packages and Training Data"
   ]
  },
  {
   "cell_type": "code",
   "execution_count": 19,
   "metadata": {
    "collapsed": true
   },
   "outputs": [],
   "source": [
    "import pandas as pd, numpy as np, matplotlib.pyplot as plt"
   ]
  },
  {
   "cell_type": "code",
   "execution_count": 20,
   "metadata": {
    "collapsed": true
   },
   "outputs": [],
   "source": [
    "train_df1 = pd.read_csv('train-100-10.csv').iloc[:,:11]\n",
    "train_df2 = pd.read_csv('train-100-100.csv')\n",
    "train_df3 = pd.read_csv('train-1000-100.csv')\n",
    "train_df4 = pd.read_csv('train-50(1000)-100.csv', index_col = 0)\n",
    "train_df5 = pd.read_csv('train-100(1000)-100.csv', index_col = 0)\n",
    "train_df6 = pd.read_csv('train-150(1000)-100.csv', index_col = 0)"
   ]
  },
  {
   "cell_type": "markdown",
   "metadata": {},
   "source": [
    "# Functions\n",
    "\n",
    "### Bits and pieces (Internal Work)"
   ]
  },
  {
   "cell_type": "code",
   "execution_count": 21,
   "metadata": {
    "collapsed": false
   },
   "outputs": [],
   "source": [
    "def cv_split_10(df):\n",
    "    \"\"\"Returns a list of 10 test and train datasets\n",
    "    by taking in a Data Set\"\"\"\n",
    "    dim = int(len(df)/10)\n",
    "    \n",
    "    cv1 = df.iloc[:dim,:]\n",
    "    cv2 = df.iloc[dim:dim*2,:]\n",
    "    cv3 = df.iloc[dim*2:dim*3,:]\n",
    "    cv4 = df.iloc[dim*3:dim*4,:]\n",
    "    cv5 = df.iloc[dim*4:dim*5,:]\n",
    "    cv6 = df.iloc[dim*5:dim*6,:]\n",
    "    cv7 = df.iloc[dim*6:dim*7,:]\n",
    "    cv8 = df.iloc[dim*7:dim*8,:]\n",
    "    cv9 = df.iloc[dim*8:dim*9,:]\n",
    "    cv10 = df.iloc[dim*9:dim*10,:]\n",
    "    \n",
    "    list_cv = list([cv1, cv2, cv3, cv4, cv5, cv6, cv7, cv8, cv9, cv10])\n",
    "    \n",
    "    list_train = list()\n",
    "    list_test = list()\n",
    "    \n",
    "    for i in range(0,10):\n",
    "        df_test = list_cv[i]\n",
    "        df_train = df[~df.isin(df_test)].dropna()\n",
    "        \n",
    "        list_train.append(df_train)\n",
    "        list_test.append(df_test)\n",
    "    \n",
    "    return list_train, list_test "
   ]
  },
  {
   "cell_type": "code",
   "execution_count": 22,
   "metadata": {
    "collapsed": true
   },
   "outputs": [],
   "source": [
    "def feature_target(df, col):\n",
    "    \n",
    "    df_f = df.iloc[:,:col] # feature\n",
    "    df_t = df.iloc[:,col] # target\n",
    "    \n",
    "    return df_f, df_t"
   ]
  },
  {
   "cell_type": "code",
   "execution_count": 23,
   "metadata": {
    "collapsed": true
   },
   "outputs": [],
   "source": [
    "def split_ft(list_train, list_test, dim):\n",
    "    \"\"\"Returns df in partitions of 10, split by features and targets\"\"\"\n",
    "    \n",
    "    mse_value_list = list()\n",
    "    \n",
    "    list_train_f = list()\n",
    "    list_train_t = list()\n",
    "    list_test_f = list()\n",
    "    list_test_t = list()\n",
    "    \n",
    "    for i in range(0,10):\n",
    "        train_f, train_t = feature_target(list_train[i], dim)\n",
    "        list_train_f.append(train_f)\n",
    "        list_train_t.append(train_t)\n",
    "        \n",
    "        test_f, test_t = feature_target(list_test[i], dim)\n",
    "        list_test_f.append(test_f)\n",
    "        list_test_t.append(test_t)\n",
    "    \n",
    "    return list_train_f, list_train_t, list_test_f, list_test_t"
   ]
  },
  {
   "cell_type": "code",
   "execution_count": 24,
   "metadata": {
    "collapsed": true
   },
   "outputs": [],
   "source": [
    "def train_w_list(list_train_f, list_train_t, lamb):\n",
    "    \"\"\"Returns list of 150 w's for 150 lambda levels ranging from 0 to 150 \n",
    "    Takes in X and y matrices, as well as feature (f), and target (t) columns\"\"\"\n",
    "    \n",
    "    w_list = list()\n",
    "\n",
    "    for i in range(0, 10):\n",
    "        \n",
    "        X = np.matrix(list_train_f[i]) # X\n",
    "        y = np.matrix(list_train_t[i]) # y\n",
    "\n",
    "        X_squared_L2 = (X.T * X) + (lamb * np.identity(len((X.T * X)))) #removed dim parameter in favor of len()\n",
    "\n",
    "        X_dagger_L2 = X_squared_L2.I * X.T\n",
    "\n",
    "        w_L2 = X_dagger_L2 * y.T\n",
    "\n",
    "        w_list.append(w_L2)\n",
    "\n",
    "    return w_list "
   ]
  },
  {
   "cell_type": "code",
   "execution_count": 25,
   "metadata": {
    "collapsed": true
   },
   "outputs": [],
   "source": [
    "def mse_func(w, feature_col, target_col):\n",
    "    \"\"\"Returns Mean Squared Error\"\"\"\n",
    "    \n",
    "    w = w.T\n",
    "    l = list()\n",
    "    \n",
    "    for i in range(len(target_col)):\n",
    "        y_pred = np.sum(np.array(w) * np.array(feature_col.iloc[i,:]))\n",
    "        y = np.array(target_col.iloc[i])                \n",
    "        score = (y - y_pred)**2\n",
    "        l.append(score)\n",
    "        \n",
    "    mse = np.sum(l)/len(target_col)\n",
    "    return mse"
   ]
  },
  {
   "cell_type": "code",
   "execution_count": 26,
   "metadata": {
    "collapsed": true
   },
   "outputs": [],
   "source": [
    "def test_mses(w_list, list_test_f, list_test_t):\n",
    "    \"\"\"takes training lamb list and test feature and target\"\"\"\n",
    "    \n",
    "    mse_list = list()\n",
    "    \n",
    "    for i in range(0,10):\n",
    "        mse_score = mse_func(w_list[i], list_test_f[i], list_test_t[i])\n",
    "        mse_list.append(mse_score)\n",
    "        \n",
    "    return mse_list"
   ]
  },
  {
   "cell_type": "code",
   "execution_count": 27,
   "metadata": {
    "collapsed": false
   },
   "outputs": [
    {
     "data": {
      "text/plain": [
       "4.161169985675464"
      ]
     },
     "execution_count": 27,
     "metadata": {},
     "output_type": "execute_result"
    }
   ],
   "source": [
    "list_train_df1, list_test_df1 = cv_split_10(train_df1)\n",
    "\n",
    "list_train_f, list_train_t, list_test_f, list_test_t = split_ft(list_train_df1, list_test_df1, 10)\n",
    "\n",
    "w_list = train_w_list(list_train_f, list_train_t, 10) # used to have extra 10\n",
    "\n",
    "mse_list = test_mses(w_list, list_test_f, list_test_t)\n",
    "\n",
    "np.average(mse_list)"
   ]
  },
  {
   "cell_type": "markdown",
   "metadata": {},
   "source": [
    "### Penultimate Function: Run CV"
   ]
  },
  {
   "cell_type": "code",
   "execution_count": 28,
   "metadata": {
    "collapsed": false
   },
   "outputs": [],
   "source": [
    "def run_cv(train_df, lamb, dim):\n",
    "    \"\"\"returns CV mse values for individual lambda values\"\"\"\n",
    "    list_train_df, list_test_df = cv_split_10(train_df)\n",
    "        \n",
    "    list_train_f, list_train_t, list_test_f, list_test_t = split_ft(list_train_df, list_test_df, 10)\n",
    "\n",
    "    w_list = train_w_list(list_train_f, list_train_t, lamb)\n",
    "\n",
    "    mse_list = test_mses(w_list, list_test_f, list_test_t)\n",
    "\n",
    "    CV_avg = np.average(mse_list)\n",
    "    \n",
    "    return CV_avg\n"
   ]
  },
  {
   "cell_type": "markdown",
   "metadata": {},
   "source": [
    "### Final Function: run_lambdas"
   ]
  },
  {
   "cell_type": "code",
   "execution_count": 29,
   "metadata": {
    "collapsed": true
   },
   "outputs": [],
   "source": [
    "def run_lambdas(train_df, dim):\n",
    "    \"\"\"Returns plotabble lambda list\"\"\"\n",
    "    mse_lamb_list = list()\n",
    "    for i in range(0,151):\n",
    "        one_lamb = run_cv(train_df, i, dim)\n",
    "        mse_lamb_list.append(one_lamb)\n",
    "        \n",
    "    return mse_lamb_list"
   ]
  },
  {
   "cell_type": "markdown",
   "metadata": {},
   "source": [
    "# Data Set 1"
   ]
  },
  {
   "cell_type": "code",
   "execution_count": 30,
   "metadata": {
    "collapsed": false
   },
   "outputs": [],
   "source": [
    "df1_CV_lambdas = run_lambdas(train_df1, 10)"
   ]
  },
  {
   "cell_type": "code",
   "execution_count": 31,
   "metadata": {
    "collapsed": false
   },
   "outputs": [
    {
     "data": {
      "image/png": "[encoded data removed]",
      "text/plain": [
       "<matplotlib.figure.Figure at 0x11229cf98>"
      ]
     },
     "metadata": {},
     "output_type": "display_data"
    }
   ],
   "source": [
    "plt.figure()\n",
    "plt.plot(df1_CV_lambdas)\n",
    "plt.ylabel('MSE value')\n",
    "plt.xlabel('Lambda value')\n",
    "plt.show()"
   ]
  },
  {
   "cell_type": "code",
   "execution_count": 32,
   "metadata": {
    "collapsed": false
   },
   "outputs": [
    {
     "name": "stdout",
     "output_type": "stream",
     "text": [
      "The best lambda value for Data Set 1 (100-10) is 12\n"
     ]
    }
   ],
   "source": [
    "print('The best lambda value for Data Set 1 (100-10) is {}'.format(np.argmin(df1_CV_lambdas)))"
   ]
  },
  {
   "cell_type": "markdown",
   "metadata": {
    "collapsed": true
   },
   "source": [
    "# Data Set 2"
   ]
  },
  {
   "cell_type": "code",
   "execution_count": 33,
   "metadata": {
    "collapsed": false
   },
   "outputs": [],
   "source": [
    "df2_CV_lambdas = run_lambdas(train_df2, 100)"
   ]
  },
  {
   "cell_type": "code",
   "execution_count": 34,
   "metadata": {
    "collapsed": false
   },
   "outputs": [
    {
     "data": {
      "image/png": "[encoded data removed]",
      "text/plain": [
       "<matplotlib.figure.Figure at 0x111b28be0>"
      ]
     },
     "metadata": {},
     "output_type": "display_data"
    }
   ],
   "source": [
    "plt.figure()\n",
    "plt.plot(df2_CV_lambdas)\n",
    "plt.ylabel('MSE value')\n",
    "plt.xlabel('Lambda value')\n",
    "plt.show()"
   ]
  },
  {
   "cell_type": "code",
   "execution_count": 35,
   "metadata": {
    "collapsed": false
   },
   "outputs": [
    {
     "name": "stdout",
     "output_type": "stream",
     "text": [
      "The best lambda value for Data Set 2 (100-100) is 16\n"
     ]
    }
   ],
   "source": [
    "print('The best lambda value for Data Set 2 (100-100) is {}'.format(np.argmin(df2_CV_lambdas)))"
   ]
  },
  {
   "cell_type": "markdown",
   "metadata": {
    "collapsed": true
   },
   "source": [
    "# Data Set 3"
   ]
  },
  {
   "cell_type": "code",
   "execution_count": 36,
   "metadata": {
    "collapsed": true
   },
   "outputs": [],
   "source": [
    "df3_CV_lambdas = run_lambdas(train_df3, 100)"
   ]
  },
  {
   "cell_type": "code",
   "execution_count": 37,
   "metadata": {
    "collapsed": false
   },
   "outputs": [
    {
     "data": {
      "image/png": "[encoded data removed]",
      "text/plain": [
       "<matplotlib.figure.Figure at 0x111fd1ef0>"
      ]
     },
     "metadata": {},
     "output_type": "display_data"
    }
   ],
   "source": [
    "plt.figure()\n",
    "plt.plot(df3_CV_lambdas)\n",
    "plt.ylabel('MSE value')\n",
    "plt.xlabel('Lambda value')\n",
    "plt.show()"
   ]
  },
  {
   "cell_type": "code",
   "execution_count": 38,
   "metadata": {
    "collapsed": false
   },
   "outputs": [
    {
     "name": "stdout",
     "output_type": "stream",
     "text": [
      "The best lambda value for Data Set 3 (100-100) is 48\n"
     ]
    }
   ],
   "source": [
    "print('The best lambda value for Data Set 3 (100-100) is {}'.format(np.argmin(df3_CV_lambdas)))"
   ]
  },
  {
   "cell_type": "markdown",
   "metadata": {
    "collapsed": true
   },
   "source": [
    "# Data Set 4"
   ]
  },
  {
   "cell_type": "code",
   "execution_count": 39,
   "metadata": {
    "collapsed": true
   },
   "outputs": [],
   "source": [
    "df4_CV_lambdas = run_lambdas(train_df4, 100)"
   ]
  },
  {
   "cell_type": "code",
   "execution_count": 40,
   "metadata": {
    "collapsed": false
   },
   "outputs": [
    {
     "data": {
      "image/png": "[encoded data removed]",
      "text/plain": [
       "<matplotlib.figure.Figure at 0x1122e17b8>"
      ]
     },
     "metadata": {},
     "output_type": "display_data"
    }
   ],
   "source": [
    "plt.figure()\n",
    "plt.plot(df4_CV_lambdas)\n",
    "plt.ylabel('MSE value')\n",
    "plt.xlabel('Lambda value')\n",
    "plt.show()"
   ]
  },
  {
   "cell_type": "code",
   "execution_count": 45,
   "metadata": {
    "collapsed": false
   },
   "outputs": [
    {
     "name": "stdout",
     "output_type": "stream",
     "text": [
      "The best lambda value for Data Set 4 50(100-100) is 8\n"
     ]
    }
   ],
   "source": [
    "print('The best lambda value for Data Set 4 50(100-100) is {}'.format(np.argmin(df4_CV_lambdas)))"
   ]
  },
  {
   "cell_type": "markdown",
   "metadata": {},
   "source": [
    "# Data Set 5"
   ]
  },
  {
   "cell_type": "code",
   "execution_count": 46,
   "metadata": {
    "collapsed": false
   },
   "outputs": [],
   "source": [
    "df5_CV_lambdas = run_lambdas(train_df5, 100)"
   ]
  },
  {
   "cell_type": "code",
   "execution_count": 47,
   "metadata": {
    "collapsed": false
   },
   "outputs": [
    {
     "data": {
      "image/png": "[encoded data removed]",
      "text/plain": [
       "<matplotlib.figure.Figure at 0x1119d3e10>"
      ]
     },
     "metadata": {},
     "output_type": "display_data"
    }
   ],
   "source": [
    "plt.figure()\n",
    "plt.plot(df4_CV_lambdas)\n",
    "plt.ylabel('MSE value')\n",
    "plt.xlabel('Lambda value')\n",
    "plt.show()"
   ]
  },
  {
   "cell_type": "code",
   "execution_count": 48,
   "metadata": {
    "collapsed": false
   },
   "outputs": [
    {
     "name": "stdout",
     "output_type": "stream",
     "text": [
      "The best lambda value for Data Set 5 100(1000-100) is 8\n"
     ]
    }
   ],
   "source": [
    "print('The best lambda value for Data Set 5 100(1000-100) is {}'.format(np.argmin(df5_CV_lambdas)))"
   ]
  },
  {
   "cell_type": "markdown",
   "metadata": {},
   "source": [
    "# Data Set 6"
   ]
  },
  {
   "cell_type": "code",
   "execution_count": 49,
   "metadata": {
    "collapsed": true
   },
   "outputs": [],
   "source": [
    "df6_CV_lambdas = run_lambdas(train_df6, 100)"
   ]
  },
  {
   "cell_type": "code",
   "execution_count": 50,
   "metadata": {
    "collapsed": false
   },
   "outputs": [
    {
     "data": {
      "image/png": "[encoded data removed]",
      "text/plain": [
       "<matplotlib.figure.Figure at 0x111b16e80>"
      ]
     },
     "metadata": {},
     "output_type": "display_data"
    }
   ],
   "source": [
    "plt.figure()\n",
    "plt.plot(df6_CV_lambdas)\n",
    "plt.ylabel('MSE value')\n",
    "plt.xlabel('Lambda value')\n",
    "plt.show()"
   ]
  },
  {
   "cell_type": "code",
   "execution_count": 51,
   "metadata": {
    "collapsed": false
   },
   "outputs": [
    {
     "name": "stdout",
     "output_type": "stream",
     "text": [
      "The best lambda value for Data Set 6 150(100-100) is 8\n"
     ]
    }
   ],
   "source": [
    "print('The best lambda value for Data Set 6 150(100-100) is {}'.format(np.argmin(df6_CV_lambdas)))"
   ]
  }
 ],
 "metadata": {
  "kernelspec": {
   "display_name": "Python 3",
   "language": "python",
   "name": "python3"
  },
  "language_info": {
   "codemirror_mode": {
    "name": "ipython",
    "version": 3
   },
   "file_extension": ".py",
   "mimetype": "text/x-python",
   "name": "python",
   "nbconvert_exporter": "python",
   "pygments_lexer": "ipython3",
   "version": "3.6.0"
  }
 },
 "nbformat": 4,
 "nbformat_minor": 2
}
