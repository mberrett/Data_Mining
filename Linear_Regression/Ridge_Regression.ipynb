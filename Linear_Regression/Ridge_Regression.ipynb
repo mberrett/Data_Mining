{
 "cells": [
  {
   "cell_type": "markdown",
   "metadata": {},
   "source": [
    "# Import Necessary Packages\n",
    "\n",
    "Also divided train-1000-100 into three training datasets"
   ]
  },
  {
   "cell_type": "code",
   "execution_count": 1,
   "metadata": {
    "collapsed": true
   },
   "outputs": [],
   "source": [
    "import pandas as pd, numpy as np, matplotlib.pyplot as plt"
   ]
  },
  {
   "cell_type": "code",
   "execution_count": 2,
   "metadata": {
    "collapsed": true
   },
   "outputs": [],
   "source": [
    "#df1 = pd.read_csv('train-1000-100.csv')\n",
    "\n",
    "#df1 = df1.iloc[:50,:]\n",
    "#df2 = df1.iloc[:100,:]\n",
    "#df3 = df1.iloc[:150,:]\n",
    "\n",
    "#df1.to_csv('train-50(1000)-100.csv')\n",
    "#df2.to_csv('train-100(1000)-100.csv')\n",
    "#df3.to_csv('train-150(1000)-100.csv')"
   ]
  },
  {
   "cell_type": "markdown",
   "metadata": {},
   "source": [
    "# Import Data\n",
    "\n",
    "### Training Data Sets\n",
    "\n",
    "Import first dataset (test-100-10.csv) as pandas dataframe"
   ]
  },
  {
   "cell_type": "code",
   "execution_count": 3,
   "metadata": {
    "collapsed": false
   },
   "outputs": [],
   "source": [
    "train_df1 = pd.read_csv('train-100-10.csv').iloc[:,:11]\n",
    "train_df2 = pd.read_csv('train-100-100.csv')\n",
    "train_df3 = pd.read_csv('train-1000-100.csv')\n",
    "train_df4 = pd.read_csv('train-50(1000)-100.csv', index_col = 0)\n",
    "train_df5 = pd.read_csv('train-100(1000)-100.csv', index_col = 0)\n",
    "train_df6 = pd.read_csv('train-150(1000)-100.csv', index_col = 0)"
   ]
  },
  {
   "cell_type": "markdown",
   "metadata": {},
   "source": [
    "### Testing Data Sets"
   ]
  },
  {
   "cell_type": "code",
   "execution_count": 4,
   "metadata": {
    "collapsed": true
   },
   "outputs": [],
   "source": [
    "test_df1 = pd.read_csv('test-100-10.csv')\n",
    "test_df2 = pd.read_csv('test-100-100.csv')\n",
    "test_df3456 = pd.read_csv('test-1000-100.csv')"
   ]
  },
  {
   "cell_type": "markdown",
   "metadata": {},
   "source": [
    "# Functions\n",
    "\n",
    "### Separate into features and target"
   ]
  },
  {
   "cell_type": "code",
   "execution_count": 5,
   "metadata": {
    "collapsed": false
   },
   "outputs": [],
   "source": [
    "def feature_target(df, col):\n",
    "    \n",
    "    df_f = df.iloc[:,:col] # feature\n",
    "    df_t = df.iloc[:,col] # target\n",
    "    \n",
    "    return df_f, df_t"
   ]
  },
  {
   "cell_type": "code",
   "execution_count": 6,
   "metadata": {
    "collapsed": false
   },
   "outputs": [],
   "source": [
    "f,t = feature_target(train_df1, 10)\n"
   ]
  },
  {
   "cell_type": "markdown",
   "metadata": {
    "collapsed": true
   },
   "source": [
    "### MSE function"
   ]
  },
  {
   "cell_type": "code",
   "execution_count": 7,
   "metadata": {
    "collapsed": false
   },
   "outputs": [],
   "source": [
    "def mse_func(w, feature_col, target_col):\n",
    "    \n",
    "    \"\"\"Returns Mean Squared Error\"\"\"\n",
    "    \n",
    "    w = w.T\n",
    "    l = list()\n",
    "    \n",
    "    for i in range(len(target_col)):\n",
    "        y_pred = np.sum(np.array(w) * np.array(feature_col.iloc[i,:]))\n",
    "        y = np.array(target_col.iloc[i])                \n",
    "        score = (y - y_pred)**2\n",
    "        l.append(score)\n",
    "        \n",
    "    mse = np.sum(l)/len(target_col)\n",
    "    return mse"
   ]
  },
  {
   "cell_type": "markdown",
   "metadata": {},
   "source": [
    "### Ridge MSE list for training data (lambda included)"
   ]
  },
  {
   "cell_type": "code",
   "execution_count": 8,
   "metadata": {
    "collapsed": false
   },
   "outputs": [],
   "source": [
    "# Ridge for train\n",
    "def train_mse(feature_col, target_col, dim):\n",
    "    \"\"\"Returns list of 150 mse scores for 150 lambda levels ranging from 1 to 150 \n",
    "    Takes in X and y matrices, as well as feature (f), and target (t) columns\"\"\"\n",
    "    \n",
    "    X = np.matrix(feature_col.as_matrix()) # X\n",
    "    y = np.matrix(target_col.as_matrix()) # y\n",
    "    \n",
    "    lamb_list = list()\n",
    "\n",
    "    for lamb in range(0, 151):\n",
    "\n",
    "        X_squared_L2 = (X.T * X) + (lamb * np.identity(dim))\n",
    "\n",
    "        X_dagger_L2 = X_squared_L2.I * X.T\n",
    "\n",
    "        w_L2 = X_dagger_L2 * y.T\n",
    "\n",
    "        lamb_list.append(w_L2)\n",
    "        \n",
    "    mse_list = list()\n",
    "\n",
    "    for i in lamb_list:\n",
    "        mse_score = mse_func(i, feature_col, target_col)\n",
    "        mse_list.append(mse_score)\n",
    "\n",
    "    return mse_list\n"
   ]
  },
  {
   "cell_type": "markdown",
   "metadata": {},
   "source": [
    "### Ridge lambda list for test data -- could maybe condense into one function with 5 inputs"
   ]
  },
  {
   "cell_type": "code",
   "execution_count": 9,
   "metadata": {
    "collapsed": true
   },
   "outputs": [],
   "source": [
    "def test_list(train_feature_col, train_target_col, dim):\n",
    "    \"\"\"Returns list of 150 mse scores for 150 lambda levels ranging from 1 to 150 \n",
    "    Takes in X and y matrices, as well as feature (f), and target (t) columns\"\"\"\n",
    "    \n",
    "    X = np.matrix(train_feature_col.as_matrix()) # X\n",
    "    y = np.matrix(train_target_col.as_matrix()) # y\n",
    "    \n",
    "    lamb_list = list()\n",
    "\n",
    "    for lamb in range(0, 151):\n",
    "\n",
    "        X_squared_L2 = (X.T * X) + (lamb * np.identity(dim))\n",
    "\n",
    "        X_dagger_L2 = X_squared_L2.I * X.T\n",
    "\n",
    "        w_L2 = X_dagger_L2 * y.T\n",
    "\n",
    "        lamb_list.append(w_L2)\n",
    "\n",
    "    return lamb_list\n"
   ]
  },
  {
   "cell_type": "markdown",
   "metadata": {},
   "source": [
    "### Ridge MSE list for test data"
   ]
  },
  {
   "cell_type": "code",
   "execution_count": 10,
   "metadata": {
    "collapsed": true
   },
   "outputs": [],
   "source": [
    "def test_mses(lamb, test_feature_col, test_target_col):\n",
    "    \"\"\"takes training lamb list and test feature and target\"\"\"\n",
    "    \n",
    "    mse_list = list()\n",
    "    \n",
    "    for i in lamb:\n",
    "        mse_score = mse_func(i, test_feature_col, test_target_col)\n",
    "        mse_list.append(mse_score)\n",
    "        \n",
    "    return mse_list"
   ]
  },
  {
   "cell_type": "markdown",
   "metadata": {},
   "source": [
    "# 1st DataSet (100-10)\n",
    "\n",
    "train-100-10.csv\n",
    "test-100-10.csv\n",
    "\n",
    "### Data Set 1 Training Data"
   ]
  },
  {
   "cell_type": "code",
   "execution_count": 11,
   "metadata": {
    "collapsed": false
   },
   "outputs": [],
   "source": [
    "train_df1_f, train_df1_t = feature_target(train_df1, 10) # separate df1 into features and columns"
   ]
  },
  {
   "cell_type": "code",
   "execution_count": 12,
   "metadata": {
    "collapsed": false
   },
   "outputs": [],
   "source": [
    "train_df1_mse_list = train_mse(train_df1_f, train_df1_t, 10) # generate training data mse scores for lambda range"
   ]
  },
  {
   "cell_type": "code",
   "execution_count": 13,
   "metadata": {
    "collapsed": false
   },
   "outputs": [
    {
     "name": "stdout",
     "output_type": "stream",
     "text": [
      "Optimal lambda train_df1 = 0, MSE = 3.569429987197442; Worst lambda train_df1 = 150, MSE = 5.020475922027094\n"
     ]
    }
   ],
   "source": [
    "print('Optimal lambda train_df1 = {},'.format(np.argmin(train_df1_mse_list)), 'MSE = {};'.format(np.min(train_df1_mse_list)), \n",
    "      \n",
    "      'Worst lambda train_df1 = {},'.format(np.argmax(train_df1_mse_list)), 'MSE = {}'.format(np.max(train_df1_mse_list)))"
   ]
  },
  {
   "cell_type": "markdown",
   "metadata": {},
   "source": [
    "### Data Set 1 Test Data"
   ]
  },
  {
   "cell_type": "code",
   "execution_count": 14,
   "metadata": {
    "collapsed": false
   },
   "outputs": [],
   "source": [
    "test_df1 = pd.read_csv('test-100-10.csv')\n",
    "\n",
    "test_df1_f, test_df1_t = feature_target(test_df1, 10)"
   ]
  },
  {
   "cell_type": "code",
   "execution_count": 15,
   "metadata": {
    "collapsed": false
   },
   "outputs": [],
   "source": [
    "train_w_list = test_list(train_df1_f, train_df1_t, 10)\n",
    "\n",
    "test_df1_mse_list = test_mses(train_w_list, test_df1_f, test_df1_t,)"
   ]
  },
  {
   "cell_type": "code",
   "execution_count": 16,
   "metadata": {
    "collapsed": false
   },
   "outputs": [
    {
     "name": "stdout",
     "output_type": "stream",
     "text": [
      "Optimal lambda test_df1 = 8, MSE = 4.159678509482879; Worst lambda test_df1 = 150, MSE = 5.92969408967808\n"
     ]
    }
   ],
   "source": [
    "print('Optimal lambda test_df1 = {},'.format(np.argmin(test_df1_mse_list)), 'MSE = {};'.format(np.min(test_df1_mse_list)), \n",
    "      \n",
    "      'Worst lambda test_df1 = {},'.format(np.argmax(test_df1_mse_list)), 'MSE = {}'.format(np.max(test_df1_mse_list)))"
   ]
  },
  {
   "cell_type": "markdown",
   "metadata": {},
   "source": [
    "### Visualize Data Set 1 "
   ]
  },
  {
   "cell_type": "code",
   "execution_count": 161,
   "metadata": {
    "collapsed": false
   },
   "outputs": [
    {
     "data": {
      "image/png": "[encoded data removed]",
      "text/plain": [
       "<matplotlib.figure.Figure at 0x1154c5828>"
      ]
     },
     "metadata": {},
     "output_type": "display_data"
    }
   ],
   "source": [
    "plt.figure()\n",
    "plt.plot(train_df1_mse_list)\n",
    "plt.plot(test_df1_mse_list) \n",
    "plt.ylabel('MSE value')\n",
    "plt.xlabel('Lambda value')\n",
    "plt.title('MSE vs. Lambda \\n Data Set 1 (100-10)')\n",
    "plt.legend(['Training', 'Test'])\n",
    "\n",
    "#plt.savefig(\"Q1_plot_1.pdf\")\n",
    "\n",
    "plt.show()"
   ]
  },
  {
   "cell_type": "markdown",
   "metadata": {},
   "source": [
    "# 2nd DataSet (100-100)\n",
    "\n",
    "train and test 100-100\n",
    "\n",
    "### Data Set 2 Train Data"
   ]
  },
  {
   "cell_type": "code",
   "execution_count": 18,
   "metadata": {
    "collapsed": true
   },
   "outputs": [],
   "source": [
    "train_df2_f, train_df2_t = feature_target(train_df2, 100) # separate df2 into features and columns"
   ]
  },
  {
   "cell_type": "code",
   "execution_count": 19,
   "metadata": {
    "collapsed": false
   },
   "outputs": [],
   "source": [
    "train_df2_mse_list = train_mse(train_df2_f, train_df2_t, 100) # generate training data mse scores for lambda range"
   ]
  },
  {
   "cell_type": "code",
   "execution_count": 20,
   "metadata": {
    "collapsed": false
   },
   "outputs": [
    {
     "name": "stdout",
     "output_type": "stream",
     "text": [
      "Optimal lambda train_df2 = 0, MSE = 1.0463400588531212e-20; Worst lambda train_df2 = 150, MSE = 5.596313555031677\n"
     ]
    }
   ],
   "source": [
    "print('Optimal lambda train_df2 = {},'.format(np.argmin(train_df2_mse_list)), 'MSE = {};'.format(np.min(train_df2_mse_list)), \n",
    "      \n",
    "      'Worst lambda train_df2 = {},'.format(np.argmax(train_df2_mse_list)), 'MSE = {}'.format(np.max(train_df2_mse_list)))"
   ]
  },
  {
   "cell_type": "markdown",
   "metadata": {},
   "source": [
    "### Data Set 2 Test Data"
   ]
  },
  {
   "cell_type": "code",
   "execution_count": 21,
   "metadata": {
    "collapsed": false
   },
   "outputs": [],
   "source": [
    "test_df2 = pd.read_csv('test-100-100.csv')\n",
    "\n",
    "test_df2_f, test_df2_t = feature_target(test_df2, 100)"
   ]
  },
  {
   "cell_type": "code",
   "execution_count": 22,
   "metadata": {
    "collapsed": false
   },
   "outputs": [],
   "source": [
    "train_w_list = test_list(train_df2_f, train_df2_t, 100)\n",
    "\n",
    "test_df2_mse_list = test_mses(train_w_list, test_df2_f, test_df2_t)"
   ]
  },
  {
   "cell_type": "code",
   "execution_count": 23,
   "metadata": {
    "collapsed": false
   },
   "outputs": [
    {
     "name": "stdout",
     "output_type": "stream",
     "text": [
      "Optimal lambda test_df2 = 22, MSE = 5.078299800742613; Worst lambda test_df2 = 0, MSE = 259.5997814663774\n"
     ]
    }
   ],
   "source": [
    "print('Optimal lambda test_df2 = {},'.format(np.argmin(test_df2_mse_list)), 'MSE = {};'.format(np.min(test_df2_mse_list)), \n",
    "      \n",
    "      'Worst lambda test_df2 = {},'.format(np.argmax(test_df2_mse_list)), 'MSE = {}'.format(np.max(test_df2_mse_list)))"
   ]
  },
  {
   "cell_type": "markdown",
   "metadata": {},
   "source": [
    "### Visualize Data Set 2"
   ]
  },
  {
   "cell_type": "code",
   "execution_count": 160,
   "metadata": {
    "collapsed": false
   },
   "outputs": [
    {
     "data": {
      "image/png": "[encoded data removed]",
      "text/plain": [
       "<matplotlib.figure.Figure at 0x117b486d8>"
      ]
     },
     "metadata": {},
     "output_type": "display_data"
    }
   ],
   "source": [
    "plt.figure()\n",
    "plt.plot(train_df2_mse_list)\n",
    "plt.plot(test_df2_mse_list) \n",
    "plt.ylabel('MSE value')\n",
    "plt.xlabel('Lambda value')\n",
    "plt.title('MSE vs. Lambda \\n Data Set 2 (100-100)')\n",
    "plt.legend(['Training', 'Test'])\n",
    "\n",
    "\n",
    "plt.show()"
   ]
  },
  {
   "cell_type": "markdown",
   "metadata": {},
   "source": [
    "### Additional Plot 1-150 1b"
   ]
  },
  {
   "cell_type": "code",
   "execution_count": 159,
   "metadata": {
    "collapsed": false
   },
   "outputs": [
    {
     "data": {
      "image/png": "[encoded data removed]",
      "text/plain": [
       "<matplotlib.figure.Figure at 0x1181801d0>"
      ]
     },
     "metadata": {},
     "output_type": "display_data"
    }
   ],
   "source": [
    "plt.figure()\n",
    "plt.plot(train_df2_mse_list[1:])\n",
    "plt.plot(test_df2_mse_list[1:]) \n",
    "plt.ylabel('MSE value')\n",
    "plt.xlabel('Lambda value')\n",
    "plt.title('MSE vs. Lambda \\n Data Set 2 (100-100)')\n",
    "plt.legend(['Training', 'Test'])\n",
    "\n",
    "#plt.savefig(\"Q1b_plot_1.pdf\")\n",
    "\n",
    "plt.show()"
   ]
  },
  {
   "cell_type": "markdown",
   "metadata": {},
   "source": [
    "# 3rd Dataset (1000-100)\n",
    "\n",
    "train and test 1000-100"
   ]
  },
  {
   "cell_type": "markdown",
   "metadata": {
    "collapsed": true
   },
   "source": [
    "### 3rd Data Set Train"
   ]
  },
  {
   "cell_type": "code",
   "execution_count": 26,
   "metadata": {
    "collapsed": true
   },
   "outputs": [],
   "source": [
    "train_df3_f, train_df3_t = feature_target(train_df3, 100) # separate df into features and columns"
   ]
  },
  {
   "cell_type": "code",
   "execution_count": 27,
   "metadata": {
    "collapsed": true
   },
   "outputs": [],
   "source": [
    "train_df3_mse_list = train_mse(train_df3_f, train_df3_t, 100) # generate training data mse scores for lambda range"
   ]
  },
  {
   "cell_type": "code",
   "execution_count": 28,
   "metadata": {
    "collapsed": false
   },
   "outputs": [
    {
     "name": "stdout",
     "output_type": "stream",
     "text": [
      "Optimal lambda train_df3 = 0, MSE = 3.4349413977066816; Worst lambda train_df3 = 150, MSE = 3.9487467755101586\n"
     ]
    }
   ],
   "source": [
    "print('Optimal lambda train_df3 = {},'.format(np.argmin(train_df3_mse_list)), 'MSE = {};'.format(np.min(train_df3_mse_list)), \n",
    "      \n",
    "      'Worst lambda train_df3 = {},'.format(np.argmax(train_df3_mse_list)), 'MSE = {}'.format(np.max(train_df3_mse_list)))"
   ]
  },
  {
   "cell_type": "markdown",
   "metadata": {
    "collapsed": false
   },
   "source": [
    "### 3rd Data Set Test"
   ]
  },
  {
   "cell_type": "code",
   "execution_count": 29,
   "metadata": {
    "collapsed": false
   },
   "outputs": [],
   "source": [
    "test_df3 = pd.read_csv('test-1000-100.csv')\n",
    "\n",
    "test_df3_f, test_df3_t = feature_target(test_df3, 100)"
   ]
  },
  {
   "cell_type": "code",
   "execution_count": 30,
   "metadata": {
    "collapsed": true
   },
   "outputs": [],
   "source": [
    "train_w_list = test_list(train_df3_f, train_df3_t, 100)\n",
    "\n",
    "test_df3_mse_list = test_mses(train_w_list, test_df3_f, test_df3_t)"
   ]
  },
  {
   "cell_type": "code",
   "execution_count": 31,
   "metadata": {
    "collapsed": false
   },
   "outputs": [
    {
     "name": "stdout",
     "output_type": "stream",
     "text": [
      "Optimal lambda test_df3 = 27, MSE = 4.315570630282882; Worst lambda test_df3 = 150, MSE = 4.5056244441483395\n"
     ]
    }
   ],
   "source": [
    "print('Optimal lambda test_df3 = {},'.format(np.argmin(test_df3_mse_list)), 'MSE = {};'.format(np.min(test_df3_mse_list)), \n",
    "      \n",
    "      'Worst lambda test_df3 = {},'.format(np.argmax(test_df3_mse_list)), 'MSE = {}'.format(np.max(test_df3_mse_list)))"
   ]
  },
  {
   "cell_type": "markdown",
   "metadata": {},
   "source": [
    "### Visualize Data Set 3 "
   ]
  },
  {
   "cell_type": "code",
   "execution_count": 158,
   "metadata": {
    "collapsed": false
   },
   "outputs": [
    {
     "data": {
      "image/png": "[encoded data removed]",
      "text/plain": [
       "<matplotlib.figure.Figure at 0x11814de10>"
      ]
     },
     "metadata": {},
     "output_type": "display_data"
    }
   ],
   "source": [
    "plt.figure()\n",
    "plt.plot(train_df3_mse_list)\n",
    "plt.plot(test_df3_mse_list)  \n",
    "plt.ylabel('MSE value')\n",
    "plt.xlabel('Lambda value')\n",
    "plt.title('MSE vs. Lambda \\n Data Set 3 (1000-100)')\n",
    "plt.legend(['Training', 'Test'])\n",
    "\n",
    "#plt.savefig(\"Q1_plot_3.pdf\")\n",
    "\n",
    "plt.show()"
   ]
  },
  {
   "cell_type": "markdown",
   "metadata": {},
   "source": [
    "# 4th Data Set Test (50(1000)-100)\n",
    "\n",
    "train 50(1000)-100; test 1000-100\n",
    "\n",
    "### 4th Data Set Training "
   ]
  },
  {
   "cell_type": "code",
   "execution_count": 33,
   "metadata": {
    "collapsed": true
   },
   "outputs": [],
   "source": [
    "train_df4_f, train_df4_t = feature_target(train_df4, 100) # separate df into features and columns"
   ]
  },
  {
   "cell_type": "code",
   "execution_count": 34,
   "metadata": {
    "collapsed": true
   },
   "outputs": [],
   "source": [
    "train_df4_mse_list = train_mse(train_df4_f, train_df4_t, 100) # generate training data mse scores for lambda range"
   ]
  },
  {
   "cell_type": "code",
   "execution_count": 35,
   "metadata": {
    "collapsed": false
   },
   "outputs": [
    {
     "name": "stdout",
     "output_type": "stream",
     "text": [
      "Optimal lambda train_df4 = 1, MSE = 0.3847245139232377; Worst lambda train_df4 = 0, MSE = 13302.209226419604\n"
     ]
    }
   ],
   "source": [
    "print('Optimal lambda train_df4 = {},'.format(np.argmin(train_df4_mse_list)), 'MSE = {};'.format(np.min(train_df4_mse_list)), \n",
    "      \n",
    "      'Worst lambda train_df4 = {},'.format(np.argmax(train_df4_mse_list)), 'MSE = {}'.format(np.max(train_df4_mse_list)))"
   ]
  },
  {
   "cell_type": "markdown",
   "metadata": {},
   "source": [
    "### 4th Data Set Test"
   ]
  },
  {
   "cell_type": "code",
   "execution_count": 36,
   "metadata": {
    "collapsed": true
   },
   "outputs": [],
   "source": [
    "test_df4 = pd.read_csv('test-1000-100.csv')\n",
    "\n",
    "test_df4_f, test_df4_t = feature_target(test_df4, 100)"
   ]
  },
  {
   "cell_type": "code",
   "execution_count": 37,
   "metadata": {
    "collapsed": true
   },
   "outputs": [],
   "source": [
    "train_w_list = test_list(train_df4_f, train_df4_t, 100)\n",
    "\n",
    "test_df4_mse_list = test_mses(train_w_list, test_df4_f, test_df4_t)"
   ]
  },
  {
   "cell_type": "code",
   "execution_count": 38,
   "metadata": {
    "collapsed": false
   },
   "outputs": [
    {
     "name": "stdout",
     "output_type": "stream",
     "text": [
      "Optimal lambda test_df4 = 8, MSE = 5.540902229344904; Worst lambda test_df4 = 0, MSE = 231033.69751443178\n"
     ]
    }
   ],
   "source": [
    "print('Optimal lambda test_df4 = {},'.format(np.argmin(test_df4_mse_list)), 'MSE = {};'.format(np.min(test_df4_mse_list)), \n",
    "      \n",
    "      'Worst lambda test_df4 = {},'.format(np.argmax(test_df4_mse_list)), 'MSE = {}'.format(np.max(test_df4_mse_list)))"
   ]
  },
  {
   "cell_type": "markdown",
   "metadata": {},
   "source": [
    "### Visualize Data Set 4 "
   ]
  },
  {
   "cell_type": "code",
   "execution_count": 157,
   "metadata": {
    "collapsed": false
   },
   "outputs": [
    {
     "data": {
      "image/png": "[encoded data removed]",
      "text/plain": [
       "<matplotlib.figure.Figure at 0x117044518>"
      ]
     },
     "metadata": {},
     "output_type": "display_data"
    }
   ],
   "source": [
    "plt.figure()\n",
    "plt.plot(train_df4_mse_list)\n",
    "plt.plot(test_df4_mse_list)  \n",
    "plt.ylabel('MSE value')\n",
    "plt.xlabel('Lambda value')\n",
    "plt.title('MSE vs. Lambda \\n Data Set 4 (50(1000)-100)')\n",
    "plt.legend(['Training', 'Test'])\n",
    "\n",
    "#plt.savefig(\"Q1_plot_4.pdf\")\n",
    "\n",
    "plt.show()"
   ]
  },
  {
   "cell_type": "markdown",
   "metadata": {},
   "source": [
    "### Additional Plot 1b"
   ]
  },
  {
   "cell_type": "code",
   "execution_count": 156,
   "metadata": {
    "collapsed": false
   },
   "outputs": [
    {
     "data": {
      "image/png": "[encoded data removed]",
      "text/plain": [
       "<matplotlib.figure.Figure at 0x117fb87b8>"
      ]
     },
     "metadata": {},
     "output_type": "display_data"
    }
   ],
   "source": [
    "plt.figure()\n",
    "plt.plot(train_df4_mse_list[1:])\n",
    "plt.plot(test_df4_mse_list[1:])  \n",
    "plt.ylabel('MSE value')\n",
    "plt.xlabel('Lambda value')\n",
    "plt.title('MSE vs. Lambda \\n Data Set 4 (50(1000)-100)')\n",
    "plt.legend(['Training', 'Test'])\n",
    "\n",
    "#plt.savefig(\"Q1b_plot_2.pdf\")\n",
    "\n",
    "plt.show()"
   ]
  },
  {
   "cell_type": "markdown",
   "metadata": {},
   "source": [
    "# 5th Data Set Test (100(1000)-100)\n",
    "\n",
    "train 100(1000)-100; test 1000-100\n",
    "\n",
    "### 5th Data Set Training "
   ]
  },
  {
   "cell_type": "code",
   "execution_count": 41,
   "metadata": {
    "collapsed": true
   },
   "outputs": [],
   "source": [
    "train_df5_f, train_df5_t = feature_target(train_df5, 100) # separate df into features and columns"
   ]
  },
  {
   "cell_type": "code",
   "execution_count": 42,
   "metadata": {
    "collapsed": true
   },
   "outputs": [],
   "source": [
    "train_df5_mse_list = train_mse(train_df5_f, train_df5_t, 100) # generate training data mse scores for lambda range"
   ]
  },
  {
   "cell_type": "code",
   "execution_count": 43,
   "metadata": {
    "collapsed": false
   },
   "outputs": [
    {
     "name": "stdout",
     "output_type": "stream",
     "text": [
      "Optimal lambda train_df5 = 1, MSE = 0.384724513923247; Worst lambda train_df5 = 0, MSE = 111329.04494344193\n"
     ]
    }
   ],
   "source": [
    "print('Optimal lambda train_df5 = {},'.format(np.argmin(train_df5_mse_list)), 'MSE = {};'.format(np.min(train_df5_mse_list)), \n",
    "      \n",
    "      'Worst lambda train_df5 = {},'.format(np.argmax(train_df5_mse_list)), 'MSE = {}'.format(np.max(train_df5_mse_list)))"
   ]
  },
  {
   "cell_type": "markdown",
   "metadata": {},
   "source": [
    "### 5th Data Set Test"
   ]
  },
  {
   "cell_type": "code",
   "execution_count": 44,
   "metadata": {
    "collapsed": true
   },
   "outputs": [],
   "source": [
    "test_df5 = pd.read_csv('test-1000-100.csv')\n",
    "\n",
    "test_df5_f, test_df5_t = feature_target(test_df5, 100)"
   ]
  },
  {
   "cell_type": "code",
   "execution_count": 45,
   "metadata": {
    "collapsed": true
   },
   "outputs": [],
   "source": [
    "train_w_list = test_list(train_df5_f, train_df5_t, 100)\n",
    "\n",
    "test_df5_mse_list = test_mses(train_w_list, test_df5_f, test_df5_t)"
   ]
  },
  {
   "cell_type": "code",
   "execution_count": 46,
   "metadata": {
    "collapsed": false
   },
   "outputs": [
    {
     "name": "stdout",
     "output_type": "stream",
     "text": [
      "Optimal lambda test_df5 = 8, MSE = 5.540902229344963; Worst lambda test_df5 = 0, MSE = 7197443.424593119\n"
     ]
    }
   ],
   "source": [
    "print('Optimal lambda test_df5 = {},'.format(np.argmin(test_df5_mse_list)), 'MSE = {};'.format(np.min(test_df5_mse_list)), \n",
    "      \n",
    "      'Worst lambda test_df5 = {},'.format(np.argmax(test_df5_mse_list)), 'MSE = {}'.format(np.max(test_df5_mse_list)))"
   ]
  },
  {
   "cell_type": "markdown",
   "metadata": {},
   "source": [
    "### Visualize Data Set 5 "
   ]
  },
  {
   "cell_type": "code",
   "execution_count": 152,
   "metadata": {
    "collapsed": false
   },
   "outputs": [
    {
     "data": {
      "image/png": "[encoded data removed]",
      "text/plain": [
       "<matplotlib.figure.Figure at 0x117fe76a0>"
      ]
     },
     "metadata": {},
     "output_type": "display_data"
    }
   ],
   "source": [
    "plt.figure()\n",
    "plt.plot(train_df5_mse_list)\n",
    "plt.plot(test_df5_mse_list)  \n",
    "plt.ylabel('MSE value')\n",
    "plt.xlabel('Lambda value')\n",
    "plt.title('MSE vs. Lambda \\n Data Set 5 (100(1000)-100)')\n",
    "plt.legend(['Training', 'Test'])\n",
    "\n",
    "plt.savefig(\"Q1_plot_5.pdf\")\n",
    "\n",
    "plt.show()"
   ]
  },
  {
   "cell_type": "markdown",
   "metadata": {},
   "source": [
    "### Additional Plot 1b "
   ]
  },
  {
   "cell_type": "code",
   "execution_count": 155,
   "metadata": {
    "collapsed": false
   },
   "outputs": [
    {
     "data": {
      "image/png": "[encoded data removed]",
      "text/plain": [
       "<matplotlib.figure.Figure at 0x1152283c8>"
      ]
     },
     "metadata": {},
     "output_type": "display_data"
    }
   ],
   "source": [
    "plt.figure()\n",
    "plt.plot(train_df5_mse_list[1:])\n",
    "plt.plot(test_df5_mse_list[1:])  \n",
    "plt.ylabel('MSE value')\n",
    "plt.xlabel('Lambda value')\n",
    "plt.title('MSE vs. Lambda \\n Data Set 5 (100(1000)-100)')\n",
    "plt.legend(['Training', 'Test'])\n",
    "\n",
    "#plt.savefig(\"Q1b_plot_3.pdf\")\n",
    "\n",
    "plt.show()"
   ]
  },
  {
   "cell_type": "markdown",
   "metadata": {},
   "source": [
    "# 6th Data Set Test (100(1000)-100)\n",
    "\n",
    "train 150(1000)-100; test 1000-100\n",
    "\n",
    "### 6th Data Set Training "
   ]
  },
  {
   "cell_type": "code",
   "execution_count": 49,
   "metadata": {
    "collapsed": true
   },
   "outputs": [],
   "source": [
    "train_df6_f, train_df6_t = feature_target(train_df6, 100) # separate df into features and columns"
   ]
  },
  {
   "cell_type": "code",
   "execution_count": 50,
   "metadata": {
    "collapsed": true
   },
   "outputs": [],
   "source": [
    "train_df6_mse_list = train_mse(train_df6_f, train_df6_t, 100) # generate training data mse scores for lambda range"
   ]
  },
  {
   "cell_type": "code",
   "execution_count": 51,
   "metadata": {
    "collapsed": false
   },
   "outputs": [
    {
     "name": "stdout",
     "output_type": "stream",
     "text": [
      "Optimal lambda train_df6 = 1, MSE = 0.384724513923247; Worst lambda train_df6 = 0, MSE = 111329.04494344193\n"
     ]
    }
   ],
   "source": [
    "print('Optimal lambda train_df6 = {},'.format(np.argmin(train_df6_mse_list)), 'MSE = {};'.format(np.min(train_df6_mse_list)), \n",
    "      \n",
    "      'Worst lambda train_df6 = {},'.format(np.argmax(train_df6_mse_list)), 'MSE = {}'.format(np.max(train_df6_mse_list)))"
   ]
  },
  {
   "cell_type": "markdown",
   "metadata": {},
   "source": [
    "### 6th Data Set Test"
   ]
  },
  {
   "cell_type": "code",
   "execution_count": 52,
   "metadata": {
    "collapsed": true
   },
   "outputs": [],
   "source": [
    "test_df6 = pd.read_csv('test-1000-100.csv')\n",
    "\n",
    "test_df6_f, test_df6_t = feature_target(test_df6, 100)"
   ]
  },
  {
   "cell_type": "code",
   "execution_count": 53,
   "metadata": {
    "collapsed": true
   },
   "outputs": [],
   "source": [
    "train_w_list = test_list(train_df6_f, train_df6_t, 100)\n",
    "\n",
    "test_df6_mse_list = test_mses(train_w_list, test_df6_f, test_df6_t)"
   ]
  },
  {
   "cell_type": "code",
   "execution_count": 54,
   "metadata": {
    "collapsed": false
   },
   "outputs": [
    {
     "name": "stdout",
     "output_type": "stream",
     "text": [
      "Optimal lambda test_df6 = 8, MSE = 5.540902229344963; Worst lambda test_df6 = 0, MSE = 7197443.424593119\n"
     ]
    }
   ],
   "source": [
    "print('Optimal lambda test_df6 = {},'.format(np.argmin(test_df6_mse_list)), 'MSE = {};'.format(np.min(test_df6_mse_list)), \n",
    "      \n",
    "      'Worst lambda test_df6 = {},'.format(np.argmax(test_df6_mse_list)), 'MSE = {}'.format(np.max(test_df6_mse_list)))"
   ]
  },
  {
   "cell_type": "markdown",
   "metadata": {},
   "source": [
    "### Visualize Data Set 6 "
   ]
  },
  {
   "cell_type": "code",
   "execution_count": 162,
   "metadata": {
    "collapsed": false
   },
   "outputs": [
    {
     "data": {
      "image/png": "[encoded data removed]",
      "text/plain": [
       "<matplotlib.figure.Figure at 0x117db10f0>"
      ]
     },
     "metadata": {},
     "output_type": "display_data"
    }
   ],
   "source": [
    "plt.figure()\n",
    "plt.plot(train_df6_mse_list[1:])\n",
    "plt.plot(test_df6_mse_list[1:])  \n",
    "plt.ylabel('MSE value')\n",
    "plt.xlabel('Lambda value')\n",
    "plt.title('MSE vs. Lambda \\n Data Set 6 (150(1000)-100)')\n",
    "plt.legend(['Training', 'Test'])\n",
    "\n",
    "#plt.savefig(\"Q1_plot_6.pdf\")\n",
    "\n",
    "plt.show()"
   ]
  },
  {
   "cell_type": "markdown",
   "metadata": {},
   "source": []
  },
  {
   "cell_type": "code",
   "execution_count": null,
   "metadata": {
    "collapsed": false
   },
   "outputs": [],
   "source": []
  },
  {
   "cell_type": "markdown",
   "metadata": {
    "collapsed": true
   },
   "source": []
  },
  {
   "cell_type": "code",
   "execution_count": null,
   "metadata": {
    "collapsed": false
   },
   "outputs": [],
   "source": []
  },
  {
   "cell_type": "code",
   "execution_count": null,
   "metadata": {
    "collapsed": true
   },
   "outputs": [],
   "source": []
  }
 ],
 "metadata": {
  "kernelspec": {
   "display_name": "Python 3",
   "language": "python",
   "name": "python3"
  },
  "language_info": {
   "codemirror_mode": {
    "name": "ipython",
    "version": 3
   },
   "file_extension": ".py",
   "mimetype": "text/x-python",
   "name": "python",
   "nbconvert_exporter": "python",
   "pygments_lexer": "ipython3",
   "version": "3.6.0"
  }
 },
 "nbformat": 4,
 "nbformat_minor": 2
}
