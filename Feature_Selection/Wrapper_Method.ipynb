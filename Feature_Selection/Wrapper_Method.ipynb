{
 "cells": [
  {
   "cell_type": "markdown",
   "metadata": {},
   "source": [
    "# HW3_Q4"
   ]
  },
  {
   "cell_type": "code",
   "execution_count": 1,
   "metadata": {
    "collapsed": true
   },
   "outputs": [],
   "source": [
    "import pandas as pd, numpy as np\n",
    "from scipy.io import arff"
   ]
  },
  {
   "cell_type": "code",
   "execution_count": 2,
   "metadata": {
    "collapsed": false
   },
   "outputs": [
    {
     "data": {
      "text/html": [
       "<div>\n",
       "<table border=\"1\" class=\"dataframe\">\n",
       "  <thead>\n",
       "    <tr style=\"text-align: right;\">\n",
       "      <th></th>\n",
       "      <th>f0</th>\n",
       "      <th>f1</th>\n",
       "      <th>f2</th>\n",
       "      <th>f3</th>\n",
       "      <th>f4</th>\n",
       "      <th>f5</th>\n",
       "      <th>f6</th>\n",
       "      <th>f7</th>\n",
       "      <th>f8</th>\n",
       "      <th>f9</th>\n",
       "      <th>...</th>\n",
       "      <th>f27</th>\n",
       "      <th>f28</th>\n",
       "      <th>f29</th>\n",
       "      <th>f30</th>\n",
       "      <th>f31</th>\n",
       "      <th>f32</th>\n",
       "      <th>f33</th>\n",
       "      <th>f34</th>\n",
       "      <th>f35</th>\n",
       "      <th>CLASS</th>\n",
       "    </tr>\n",
       "  </thead>\n",
       "  <tbody>\n",
       "    <tr>\n",
       "      <th>0</th>\n",
       "      <td>0.063</td>\n",
       "      <td>0.160</td>\n",
       "      <td>0.509</td>\n",
       "      <td>-0.967</td>\n",
       "      <td>0.058</td>\n",
       "      <td>0.000</td>\n",
       "      <td>0.874</td>\n",
       "      <td>0.271</td>\n",
       "      <td>1.307</td>\n",
       "      <td>-0.011</td>\n",
       "      <td>...</td>\n",
       "      <td>-0.924</td>\n",
       "      <td>-0.077</td>\n",
       "      <td>0.108</td>\n",
       "      <td>-0.003</td>\n",
       "      <td>0.381</td>\n",
       "      <td>-0.314</td>\n",
       "      <td>0.929</td>\n",
       "      <td>0.184</td>\n",
       "      <td>-0.001</td>\n",
       "      <td>b'noncar'</td>\n",
       "    </tr>\n",
       "    <tr>\n",
       "      <th>1</th>\n",
       "      <td>-0.037</td>\n",
       "      <td>-0.325</td>\n",
       "      <td>-0.626</td>\n",
       "      <td>-0.029</td>\n",
       "      <td>0.121</td>\n",
       "      <td>-0.409</td>\n",
       "      <td>-0.002</td>\n",
       "      <td>-0.835</td>\n",
       "      <td>-0.595</td>\n",
       "      <td>-0.253</td>\n",
       "      <td>...</td>\n",
       "      <td>0.270</td>\n",
       "      <td>0.533</td>\n",
       "      <td>0.152</td>\n",
       "      <td>-0.978</td>\n",
       "      <td>0.157</td>\n",
       "      <td>0.011</td>\n",
       "      <td>-0.254</td>\n",
       "      <td>0.453</td>\n",
       "      <td>-0.621</td>\n",
       "      <td>b'noncar'</td>\n",
       "    </tr>\n",
       "    <tr>\n",
       "      <th>2</th>\n",
       "      <td>-0.000</td>\n",
       "      <td>1.253</td>\n",
       "      <td>0.833</td>\n",
       "      <td>-0.970</td>\n",
       "      <td>1.516</td>\n",
       "      <td>0.014</td>\n",
       "      <td>-0.378</td>\n",
       "      <td>1.197</td>\n",
       "      <td>0.546</td>\n",
       "      <td>-0.402</td>\n",
       "      <td>...</td>\n",
       "      <td>-0.408</td>\n",
       "      <td>1.550</td>\n",
       "      <td>0.010</td>\n",
       "      <td>-0.652</td>\n",
       "      <td>-0.403</td>\n",
       "      <td>-0.151</td>\n",
       "      <td>0.000</td>\n",
       "      <td>0.049</td>\n",
       "      <td>-0.113</td>\n",
       "      <td>b'car'</td>\n",
       "    </tr>\n",
       "    <tr>\n",
       "      <th>3</th>\n",
       "      <td>-0.743</td>\n",
       "      <td>-0.082</td>\n",
       "      <td>-0.626</td>\n",
       "      <td>0.723</td>\n",
       "      <td>-0.006</td>\n",
       "      <td>-0.000</td>\n",
       "      <td>-0.080</td>\n",
       "      <td>-0.297</td>\n",
       "      <td>0.166</td>\n",
       "      <td>0.311</td>\n",
       "      <td>...</td>\n",
       "      <td>0.819</td>\n",
       "      <td>-0.077</td>\n",
       "      <td>-0.099</td>\n",
       "      <td>-0.001</td>\n",
       "      <td>-0.291</td>\n",
       "      <td>1.633</td>\n",
       "      <td>0.686</td>\n",
       "      <td>1.528</td>\n",
       "      <td>-0.000</td>\n",
       "      <td>b'noncar'</td>\n",
       "    </tr>\n",
       "    <tr>\n",
       "      <th>4</th>\n",
       "      <td>-0.939</td>\n",
       "      <td>-1.054</td>\n",
       "      <td>-0.140</td>\n",
       "      <td>0.036</td>\n",
       "      <td>-0.766</td>\n",
       "      <td>0.000</td>\n",
       "      <td>-0.272</td>\n",
       "      <td>1.077</td>\n",
       "      <td>5.236</td>\n",
       "      <td>-0.366</td>\n",
       "      <td>...</td>\n",
       "      <td>0.676</td>\n",
       "      <td>0.533</td>\n",
       "      <td>-0.003</td>\n",
       "      <td>0.122</td>\n",
       "      <td>-0.179</td>\n",
       "      <td>-1.449</td>\n",
       "      <td>0.024</td>\n",
       "      <td>-1.698</td>\n",
       "      <td>0.083</td>\n",
       "      <td>b'noncar'</td>\n",
       "    </tr>\n",
       "  </tbody>\n",
       "</table>\n",
       "<p>5 rows × 37 columns</p>\n",
       "</div>"
      ],
      "text/plain": [
       "      f0     f1     f2     f3     f4     f5     f6     f7     f8     f9  \\\n",
       "0  0.063  0.160  0.509 -0.967  0.058  0.000  0.874  0.271  1.307 -0.011   \n",
       "1 -0.037 -0.325 -0.626 -0.029  0.121 -0.409 -0.002 -0.835 -0.595 -0.253   \n",
       "2 -0.000  1.253  0.833 -0.970  1.516  0.014 -0.378  1.197  0.546 -0.402   \n",
       "3 -0.743 -0.082 -0.626  0.723 -0.006 -0.000 -0.080 -0.297  0.166  0.311   \n",
       "4 -0.939 -1.054 -0.140  0.036 -0.766  0.000 -0.272  1.077  5.236 -0.366   \n",
       "\n",
       "     ...        f27    f28    f29    f30    f31    f32    f33    f34    f35  \\\n",
       "0    ...     -0.924 -0.077  0.108 -0.003  0.381 -0.314  0.929  0.184 -0.001   \n",
       "1    ...      0.270  0.533  0.152 -0.978  0.157  0.011 -0.254  0.453 -0.621   \n",
       "2    ...     -0.408  1.550  0.010 -0.652 -0.403 -0.151  0.000  0.049 -0.113   \n",
       "3    ...      0.819 -0.077 -0.099 -0.001 -0.291  1.633  0.686  1.528 -0.000   \n",
       "4    ...      0.676  0.533 -0.003  0.122 -0.179 -1.449  0.024 -1.698  0.083   \n",
       "\n",
       "       CLASS  \n",
       "0  b'noncar'  \n",
       "1  b'noncar'  \n",
       "2     b'car'  \n",
       "3  b'noncar'  \n",
       "4  b'noncar'  \n",
       "\n",
       "[5 rows x 37 columns]"
      ]
     },
     "execution_count": 2,
     "metadata": {},
     "output_type": "execute_result"
    }
   ],
   "source": [
    "data = arff.loadarff('veh-prime.arff')\n",
    "df = pd.DataFrame(data[0])\n",
    "df.head()"
   ]
  },
  {
   "cell_type": "code",
   "execution_count": 3,
   "metadata": {
    "collapsed": false
   },
   "outputs": [
    {
     "data": {
      "text/plain": [
       "(846, 37)"
      ]
     },
     "execution_count": 3,
     "metadata": {},
     "output_type": "execute_result"
    }
   ],
   "source": [
    "df.shape"
   ]
  },
  {
   "cell_type": "code",
   "execution_count": 4,
   "metadata": {
    "collapsed": false
   },
   "outputs": [
    {
     "data": {
      "text/plain": [
       "True"
      ]
     },
     "execution_count": 4,
     "metadata": {},
     "output_type": "execute_result"
    }
   ],
   "source": [
    "X_un = df.iloc[:,:-1]\n",
    "y_str = df.iloc[:,-1]\n",
    "y = pd.get_dummies(y_str).iloc[:,:1]\n",
    "\n",
    "y_clean = np.array(y.iloc[:,0])\n",
    "\n",
    "len(y) == len(X_un) # check"
   ]
  },
  {
   "cell_type": "markdown",
   "metadata": {},
   "source": [
    "# Z-score Normalize"
   ]
  },
  {
   "cell_type": "code",
   "execution_count": 5,
   "metadata": {
    "collapsed": true
   },
   "outputs": [],
   "source": [
    "X = (X_un - X_un.mean()) / X_un.std()"
   ]
  },
  {
   "cell_type": "code",
   "execution_count": 6,
   "metadata": {
    "collapsed": false
   },
   "outputs": [
    {
     "data": {
      "text/html": [
       "<div>\n",
       "<table border=\"1\" class=\"dataframe\">\n",
       "  <thead>\n",
       "    <tr style=\"text-align: right;\">\n",
       "      <th></th>\n",
       "      <th>f0</th>\n",
       "      <th>f1</th>\n",
       "      <th>f2</th>\n",
       "      <th>f3</th>\n",
       "      <th>f4</th>\n",
       "      <th>f5</th>\n",
       "      <th>f6</th>\n",
       "      <th>f7</th>\n",
       "      <th>f8</th>\n",
       "      <th>f9</th>\n",
       "      <th>...</th>\n",
       "      <th>f26</th>\n",
       "      <th>f27</th>\n",
       "      <th>f28</th>\n",
       "      <th>f29</th>\n",
       "      <th>f30</th>\n",
       "      <th>f31</th>\n",
       "      <th>f32</th>\n",
       "      <th>f33</th>\n",
       "      <th>f34</th>\n",
       "      <th>f35</th>\n",
       "    </tr>\n",
       "  </thead>\n",
       "  <tbody>\n",
       "    <tr>\n",
       "      <th>0</th>\n",
       "      <td>0.122985</td>\n",
       "      <td>0.159990</td>\n",
       "      <td>0.509079</td>\n",
       "      <td>-2.539525</td>\n",
       "      <td>0.057933</td>\n",
       "      <td>0.054440</td>\n",
       "      <td>2.234571</td>\n",
       "      <td>0.270975</td>\n",
       "      <td>1.307035</td>\n",
       "      <td>-0.043243</td>\n",
       "      <td>...</td>\n",
       "      <td>-0.328991</td>\n",
       "      <td>-2.340529</td>\n",
       "      <td>-0.076986</td>\n",
       "      <td>0.299813</td>\n",
       "      <td>-0.059698</td>\n",
       "      <td>0.380980</td>\n",
       "      <td>-0.314029</td>\n",
       "      <td>2.463273</td>\n",
       "      <td>0.183995</td>\n",
       "      <td>0.066622</td>\n",
       "    </tr>\n",
       "    <tr>\n",
       "      <th>1</th>\n",
       "      <td>-0.142390</td>\n",
       "      <td>-0.325026</td>\n",
       "      <td>-0.626000</td>\n",
       "      <td>-0.081220</td>\n",
       "      <td>0.120933</td>\n",
       "      <td>-1.083403</td>\n",
       "      <td>0.004844</td>\n",
       "      <td>-0.835001</td>\n",
       "      <td>-0.594944</td>\n",
       "      <td>-0.687021</td>\n",
       "      <td>...</td>\n",
       "      <td>-0.061992</td>\n",
       "      <td>0.662641</td>\n",
       "      <td>0.532987</td>\n",
       "      <td>0.419432</td>\n",
       "      <td>-2.581561</td>\n",
       "      <td>0.156995</td>\n",
       "      <td>0.010974</td>\n",
       "      <td>-0.691686</td>\n",
       "      <td>0.452991</td>\n",
       "      <td>-1.573437</td>\n",
       "    </tr>\n",
       "    <tr>\n",
       "      <th>2</th>\n",
       "      <td>-0.044201</td>\n",
       "      <td>1.253025</td>\n",
       "      <td>0.833102</td>\n",
       "      <td>-2.547387</td>\n",
       "      <td>1.515941</td>\n",
       "      <td>0.093388</td>\n",
       "      <td>-0.952208</td>\n",
       "      <td>1.196956</td>\n",
       "      <td>0.546044</td>\n",
       "      <td>-1.083396</td>\n",
       "      <td>...</td>\n",
       "      <td>0.072008</td>\n",
       "      <td>-1.042676</td>\n",
       "      <td>1.549942</td>\n",
       "      <td>0.033388</td>\n",
       "      <td>-1.738354</td>\n",
       "      <td>-0.402969</td>\n",
       "      <td>-0.151027</td>\n",
       "      <td>-0.014290</td>\n",
       "      <td>0.048997</td>\n",
       "      <td>-0.229646</td>\n",
       "    </tr>\n",
       "    <tr>\n",
       "      <th>3</th>\n",
       "      <td>-2.015936</td>\n",
       "      <td>-0.082018</td>\n",
       "      <td>-0.626000</td>\n",
       "      <td>1.889617</td>\n",
       "      <td>-0.006067</td>\n",
       "      <td>0.054440</td>\n",
       "      <td>-0.193693</td>\n",
       "      <td>-0.297013</td>\n",
       "      <td>0.166048</td>\n",
       "      <td>0.813354</td>\n",
       "      <td>...</td>\n",
       "      <td>-1.263990</td>\n",
       "      <td>2.043495</td>\n",
       "      <td>-0.076986</td>\n",
       "      <td>-0.262941</td>\n",
       "      <td>-0.054525</td>\n",
       "      <td>-0.290976</td>\n",
       "      <td>1.632990</td>\n",
       "      <td>1.815213</td>\n",
       "      <td>1.527976</td>\n",
       "      <td>0.069268</td>\n",
       "    </tr>\n",
       "    <tr>\n",
       "      <th>4</th>\n",
       "      <td>-2.536071</td>\n",
       "      <td>-1.054049</td>\n",
       "      <td>-0.139966</td>\n",
       "      <td>0.089132</td>\n",
       "      <td>-0.766071</td>\n",
       "      <td>0.054440</td>\n",
       "      <td>-0.682401</td>\n",
       "      <td>1.076958</td>\n",
       "      <td>5.235993</td>\n",
       "      <td>-0.987627</td>\n",
       "      <td>...</td>\n",
       "      <td>7.283997</td>\n",
       "      <td>1.683819</td>\n",
       "      <td>0.532987</td>\n",
       "      <td>-0.001954</td>\n",
       "      <td>0.263618</td>\n",
       "      <td>-0.178984</td>\n",
       "      <td>-1.449040</td>\n",
       "      <td>0.049716</td>\n",
       "      <td>-1.697978</td>\n",
       "      <td>0.288824</td>\n",
       "    </tr>\n",
       "  </tbody>\n",
       "</table>\n",
       "<p>5 rows × 36 columns</p>\n",
       "</div>"
      ],
      "text/plain": [
       "         f0        f1        f2        f3        f4        f5        f6  \\\n",
       "0  0.122985  0.159990  0.509079 -2.539525  0.057933  0.054440  2.234571   \n",
       "1 -0.142390 -0.325026 -0.626000 -0.081220  0.120933 -1.083403  0.004844   \n",
       "2 -0.044201  1.253025  0.833102 -2.547387  1.515941  0.093388 -0.952208   \n",
       "3 -2.015936 -0.082018 -0.626000  1.889617 -0.006067  0.054440 -0.193693   \n",
       "4 -2.536071 -1.054049 -0.139966  0.089132 -0.766071  0.054440 -0.682401   \n",
       "\n",
       "         f7        f8        f9    ...          f26       f27       f28  \\\n",
       "0  0.270975  1.307035 -0.043243    ...    -0.328991 -2.340529 -0.076986   \n",
       "1 -0.835001 -0.594944 -0.687021    ...    -0.061992  0.662641  0.532987   \n",
       "2  1.196956  0.546044 -1.083396    ...     0.072008 -1.042676  1.549942   \n",
       "3 -0.297013  0.166048  0.813354    ...    -1.263990  2.043495 -0.076986   \n",
       "4  1.076958  5.235993 -0.987627    ...     7.283997  1.683819  0.532987   \n",
       "\n",
       "        f29       f30       f31       f32       f33       f34       f35  \n",
       "0  0.299813 -0.059698  0.380980 -0.314029  2.463273  0.183995  0.066622  \n",
       "1  0.419432 -2.581561  0.156995  0.010974 -0.691686  0.452991 -1.573437  \n",
       "2  0.033388 -1.738354 -0.402969 -0.151027 -0.014290  0.048997 -0.229646  \n",
       "3 -0.262941 -0.054525 -0.290976  1.632990  1.815213  1.527976  0.069268  \n",
       "4 -0.001954  0.263618 -0.178984 -1.449040  0.049716 -1.697978  0.288824  \n",
       "\n",
       "[5 rows x 36 columns]"
      ]
     },
     "execution_count": 6,
     "metadata": {},
     "output_type": "execute_result"
    }
   ],
   "source": [
    "X.head()"
   ]
  },
  {
   "cell_type": "markdown",
   "metadata": {},
   "source": [
    "# Functions "
   ]
  },
  {
   "cell_type": "markdown",
   "metadata": {
    "collapsed": true
   },
   "source": [
    "### Majority Vote"
   ]
  },
  {
   "cell_type": "code",
   "execution_count": 7,
   "metadata": {
    "collapsed": true
   },
   "outputs": [],
   "source": [
    "def majority_vote(categories_list):\n",
    "    \n",
    "    \"\"\"\n",
    "    Takes in a list of votes of length k.\n",
    "    Returns the value that consitutes the majority.\n",
    "    \"\"\"\n",
    "    \n",
    "    ones = categories_list.count(1)\n",
    "    zeroes = categories_list.count(0)\n",
    "\n",
    "    if ones > zeroes:\n",
    "        result = 1\n",
    "    else:\n",
    "        result = 0\n",
    "    \n",
    "    return result"
   ]
  },
  {
   "cell_type": "markdown",
   "metadata": {
    "collapsed": true
   },
   "source": [
    "### Predict Instance"
   ]
  },
  {
   "cell_type": "code",
   "execution_count": 8,
   "metadata": {
    "collapsed": true
   },
   "outputs": [],
   "source": [
    "def predict_instance(X_train, y_train, test_instance, k):\n",
    "    \n",
    "    \"\"\"\n",
    "    Takes in training features, training targets, testing features,\n",
    "    a value for k, and a value for n, an index value \n",
    "    that determines the testing instance against which \n",
    "    the training instances are measured in terms of Eucledian distance.\n",
    "    \n",
    "    Sorts the list of distances in ascending order,\n",
    "    keeping only the first k of the them in a new list,\n",
    "    with which it computes a majority vote. \n",
    "    \n",
    "    Returns the result of the majority vote. \n",
    "    \"\"\"\n",
    "    \n",
    "    distances = []\n",
    "    targets = []\n",
    "    \n",
    "    # Get the distances for one instance\n",
    "    test = np.array(y_train)\n",
    "    train = np.array(X_train)\n",
    "    instance = np.array(test_instance)\n",
    "    \n",
    "    #1st for loop\n",
    "    for i in range(len(train)):\n",
    "    \n",
    "        dist = np.sqrt(np.sum(np.square(instance - train[i]))) # removed [n] from after instance\n",
    "        distances.append([dist,i])\n",
    "     \n",
    "    distances = sorted(distances)\n",
    "    \n",
    "    #2nd for loop\n",
    "    for i in range(k):\n",
    "        index = distances[i][1]\n",
    "        targets.append(y_train[index])\n",
    "    \n",
    "    # majority vote\n",
    "    return majority_vote(targets)\n"
   ]
  },
  {
   "cell_type": "markdown",
   "metadata": {
    "collapsed": true
   },
   "source": [
    "### KNN_accuracy"
   ]
  },
  {
   "cell_type": "code",
   "execution_count": 9,
   "metadata": {
    "collapsed": true
   },
   "outputs": [],
   "source": [
    "def KNN_accuracy(pred_X, t_test):\n",
    "    \n",
    "    \"\"\"\n",
    "    Takes in predicted and actual values for test instances.\n",
    "    Returns an accuracy score.\n",
    "    \"\"\"\n",
    "    \n",
    "    test_target = np.array(t_test)\n",
    "    pred_target = np.array(pred_X)\n",
    "    \n",
    "    accuracy_score = 0\n",
    "    \n",
    "    for i in range(len(pred_X)):\n",
    "        if test_target[i] == pred_target[i]:\n",
    "            accuracy_score = accuracy_score + 1\n",
    "        \n",
    "    return (accuracy_score / len(pred_X))"
   ]
  },
  {
   "cell_type": "markdown",
   "metadata": {},
   "source": [
    "# LOOCV (Leave-one-out Cross Validation)"
   ]
  },
  {
   "cell_type": "code",
   "execution_count": 10,
   "metadata": {
    "collapsed": true
   },
   "outputs": [],
   "source": [
    "def LOOCV(X,y,f):\n",
    "    \n",
    "    '''f for feature #, X for features; y for target column\n",
    "    '''\n",
    "    \n",
    "    pred = []\n",
    "    \n",
    "    for i in range(len(y)):\n",
    "        \n",
    "        bad_ix = X.index.isin([i])\n",
    "        \n",
    "        X_swept = X[~bad_ix]\n",
    "        y_swept = y[~bad_ix]\n",
    "        \n",
    "        y_clean = np.array(y.iloc[:,0])\n",
    "        y_swept_clean = np.array(y_swept.iloc[:,0])\n",
    "\n",
    "        Xtrain1 = X_swept.iloc[:,f] # z\n",
    "        ytrain1 = y_swept_clean # all but z\n",
    "        \n",
    "        Xtest1 = X.iloc[i,f]\n",
    "        ytest1 = y_clean[i] # all but z\n",
    "\n",
    "        y_pred = predict_instance(Xtrain1, ytrain1, Xtest1, 7)\n",
    "        \n",
    "        pred.append(y_pred)\n",
    "        \n",
    "    return pred\n",
    "    "
   ]
  },
  {
   "cell_type": "markdown",
   "metadata": {
    "collapsed": false
   },
   "source": [
    "### Wrapper Method"
   ]
  },
  {
   "cell_type": "code",
   "execution_count": 11,
   "metadata": {
    "collapsed": false
   },
   "outputs": [],
   "source": [
    "def wrapper_method(X,y):\n",
    "    \n",
    "    '''Takes in features (X) and target (y) \n",
    "    and iterates through all possible single-feature-based \n",
    "    predicitions of a KNN-based LOOCV, then returns sorted\n",
    "    list of LOOCV accuracy scores followed by the number\n",
    "    for each of the 36 features'''\n",
    "    \n",
    "    y_clean = np.array(y.iloc[:,0])\n",
    "    accuracy = []\n",
    "    for i in range(X.shape[1]):\n",
    "        res = LOOCV(X,y,i)\n",
    "        score = KNN_accuracy(res,y_clean)\n",
    "        accuracy.append([score, i])\n",
    "        \n",
    "    return sorted(accuracy, reverse = True)"
   ]
  },
  {
   "cell_type": "code",
   "execution_count": 12,
   "metadata": {
    "collapsed": true
   },
   "outputs": [],
   "source": [
    "def wrapper_method_add(X,y,f):\n",
    "    \n",
    "    '''Takes in features (X) and target (y)\n",
    "    and a list of pre-established features (f)\n",
    "    and iterates through all possible predictions based on \n",
    "    the pre established feature list + a new single feature\n",
    "    then returns sorted list of LOOCV accuracy scores\n",
    "    followed by the number of the newest, additional feature'''\n",
    "    \n",
    "    y_clean = np.array(y.iloc[:,0])\n",
    "    accuracy = []\n",
    "    for i in range(X.shape[1]):\n",
    "        feat = []\n",
    "        feat.append(i) # add new feature to feat list \n",
    "        j = i\n",
    "        for i in range(len(f)):\n",
    "            feat.append(f[i])\n",
    "        res = LOOCV(X,y,feat)\n",
    "        score = KNN_accuracy(res,y_clean)\n",
    "        accuracy.append([score, j])\n",
    "        \n",
    "    return sorted(accuracy, reverse = True)"
   ]
  },
  {
   "cell_type": "code",
   "execution_count": 13,
   "metadata": {
    "collapsed": true
   },
   "outputs": [],
   "source": [
    "def wrapper_method_old(X,y,f):\n",
    "    \n",
    "    y_clean = np.array(y.iloc[:,0])\n",
    "    accuracy = []\n",
    "    for i in range(X.shape[1]):\n",
    "        res = LOOCV(X,y,[f,i])\n",
    "        score = KNN_accuracy(res,y_clean)\n",
    "        accuracy.append([score, i])\n",
    "        \n",
    "    return sorted(accuracy, reverse = True)"
   ]
  },
  {
   "cell_type": "markdown",
   "metadata": {},
   "source": [
    "# 4.a)"
   ]
  },
  {
   "cell_type": "markdown",
   "metadata": {},
   "source": [
    "### 1st run: optimal feature = 14"
   ]
  },
  {
   "cell_type": "code",
   "execution_count": 14,
   "metadata": {
    "collapsed": false
   },
   "outputs": [],
   "source": [
    "first_run = wrapper_method(X,y)"
   ]
  },
  {
   "cell_type": "code",
   "execution_count": 15,
   "metadata": {
    "collapsed": false
   },
   "outputs": [
    {
     "data": {
      "text/plain": [
       "[[0.7635933806146572, 14],\n",
       " [0.7505910165484634, 20],\n",
       " [0.7411347517730497, 22],\n",
       " [0.7387706855791962, 13],\n",
       " [0.7222222222222222, 4],\n",
       " [0.710401891252955, 16],\n",
       " [0.6749408983451537, 2],\n",
       " [0.6572104018912529, 7],\n",
       " [0.6442080378250591, 19],\n",
       " [0.6418439716312057, 25],\n",
       " [0.6335697399527187, 1],\n",
       " [0.6134751773049646, 31],\n",
       " [0.599290780141844, 26],\n",
       " [0.5721040189125296, 8],\n",
       " [0.5697399527186762, 10],\n",
       " [0.5543735224586288, 32],\n",
       " [0.533096926713948, 29],\n",
       " [0.5319148936170213, 28],\n",
       " [0.5295508274231678, 34],\n",
       " [0.5283687943262412, 30],\n",
       " [0.5271867612293144, 15],\n",
       " [0.5189125295508275, 27],\n",
       " [0.5153664302600472, 5],\n",
       " [0.5141843971631206, 24],\n",
       " [0.5130023640661938, 33],\n",
       " [0.5130023640661938, 12],\n",
       " [0.5094562647754137, 9],\n",
       " [0.5070921985815603, 23],\n",
       " [0.5059101654846335, 21],\n",
       " [0.5047281323877069, 35],\n",
       " [0.5047281323877069, 18],\n",
       " [0.5011820330969267, 0],\n",
       " [0.49763593380614657, 17],\n",
       " [0.4858156028368794, 3],\n",
       " [0.4574468085106383, 11],\n",
       " [0.4574468085106383, 6]]"
      ]
     },
     "execution_count": 15,
     "metadata": {},
     "output_type": "execute_result"
    }
   ],
   "source": [
    "first_run"
   ]
  },
  {
   "cell_type": "markdown",
   "metadata": {},
   "source": [
    "### 2nd run: optimal feature = 10"
   ]
  },
  {
   "cell_type": "code",
   "execution_count": 18,
   "metadata": {
    "collapsed": false
   },
   "outputs": [],
   "source": [
    "second_run = wrapper_method_add(X,y,[14])"
   ]
  },
  {
   "cell_type": "code",
   "execution_count": 19,
   "metadata": {
    "collapsed": false
   },
   "outputs": [
    {
     "data": {
      "text/plain": [
       "[[0.8782505910165485, 10],\n",
       " [0.8274231678486997, 13],\n",
       " [0.8203309692671394, 4],\n",
       " [0.8167848699763594, 19],\n",
       " [0.8167848699763594, 8],\n",
       " [0.806146572104019, 2],\n",
       " [0.8014184397163121, 16],\n",
       " [0.7966903073286052, 26],\n",
       " [0.7777777777777778, 25],\n",
       " [0.7742316784869976, 20],\n",
       " [0.7742316784869976, 1],\n",
       " [0.7730496453900709, 32],\n",
       " [0.7683215130023641, 22],\n",
       " [0.7659574468085106, 34],\n",
       " [0.764775413711584, 31],\n",
       " [0.7635933806146572, 14],\n",
       " [0.7600472813238771, 7],\n",
       " [0.7411347517730497, 15],\n",
       " [0.7399527186761229, 30],\n",
       " [0.7399527186761229, 12],\n",
       " [0.7387706855791962, 11],\n",
       " [0.7375886524822695, 28],\n",
       " [0.7364066193853428, 24],\n",
       " [0.7340425531914894, 27],\n",
       " [0.7328605200945626, 35],\n",
       " [0.7293144208037825, 5],\n",
       " [0.7269503546099291, 29],\n",
       " [0.7269503546099291, 9],\n",
       " [0.7269503546099291, 0],\n",
       " [0.7257683215130024, 3],\n",
       " [0.7245862884160756, 17],\n",
       " [0.7222222222222222, 21],\n",
       " [0.7210401891252955, 18],\n",
       " [0.7198581560283688, 33],\n",
       " [0.7186761229314421, 6],\n",
       " [0.7163120567375887, 23]]"
      ]
     },
     "execution_count": 19,
     "metadata": {},
     "output_type": "execute_result"
    }
   ],
   "source": [
    "second_run"
   ]
  },
  {
   "cell_type": "markdown",
   "metadata": {
    "collapsed": true
   },
   "source": [
    "### 3rd run: optimal feature = 19"
   ]
  },
  {
   "cell_type": "code",
   "execution_count": 20,
   "metadata": {
    "collapsed": false
   },
   "outputs": [],
   "source": [
    "third_run = wrapper_method_add(X,y,[14,10])"
   ]
  },
  {
   "cell_type": "code",
   "execution_count": 21,
   "metadata": {
    "collapsed": false
   },
   "outputs": [
    {
     "data": {
      "text/plain": [
       "[[0.9030732860520094, 19],\n",
       " [0.892434988179669, 2],\n",
       " [0.8806146572104019, 25],\n",
       " [0.8794326241134752, 31],\n",
       " [0.8782505910165485, 14],\n",
       " [0.8770685579196218, 10],\n",
       " [0.8770685579196218, 8],\n",
       " [0.875886524822695, 4],\n",
       " [0.8747044917257684, 16],\n",
       " [0.8699763593380615, 1],\n",
       " [0.8676122931442081, 22],\n",
       " [0.8676122931442081, 13],\n",
       " [0.8652482269503546, 7],\n",
       " [0.8546099290780141, 34],\n",
       " [0.8546099290780141, 28],\n",
       " [0.8546099290780141, 20],\n",
       " [0.8498817966903073, 32],\n",
       " [0.8416075650118203, 26],\n",
       " [0.8416075650118203, 11],\n",
       " [0.8404255319148937, 27],\n",
       " [0.8368794326241135, 24],\n",
       " [0.8356973995271868, 3],\n",
       " [0.83451536643026, 35],\n",
       " [0.8274231678486997, 15],\n",
       " [0.8250591016548463, 18],\n",
       " [0.8238770685579196, 9],\n",
       " [0.8238770685579196, 5],\n",
       " [0.8226950354609929, 17],\n",
       " [0.8215130023640662, 21],\n",
       " [0.8215130023640662, 12],\n",
       " [0.8215130023640662, 0],\n",
       " [0.817966903073286, 23],\n",
       " [0.8156028368794326, 6],\n",
       " [0.8120567375886525, 33],\n",
       " [0.8096926713947991, 29],\n",
       " [0.8073286052009456, 30]]"
      ]
     },
     "execution_count": 21,
     "metadata": {},
     "output_type": "execute_result"
    }
   ],
   "source": [
    "third_run"
   ]
  },
  {
   "cell_type": "markdown",
   "metadata": {},
   "source": [
    "### 4th run: optimal feature = 8"
   ]
  },
  {
   "cell_type": "code",
   "execution_count": 22,
   "metadata": {
    "collapsed": true
   },
   "outputs": [],
   "source": [
    "fourth_run = wrapper_method_add(X,y,[14,10,19])"
   ]
  },
  {
   "cell_type": "code",
   "execution_count": 23,
   "metadata": {
    "collapsed": false
   },
   "outputs": [
    {
     "data": {
      "text/plain": [
       "[[0.9361702127659575, 8],\n",
       " [0.9231678486997635, 25],\n",
       " [0.9196217494089834, 4],\n",
       " [0.91725768321513, 7],\n",
       " [0.9160756501182034, 1],\n",
       " [0.9148936170212766, 32],\n",
       " [0.9125295508274232, 16],\n",
       " [0.9113475177304965, 2],\n",
       " [0.9101654846335697, 20],\n",
       " [0.9078014184397163, 26],\n",
       " [0.9054373522458629, 28],\n",
       " [0.9054373522458629, 22],\n",
       " [0.9054373522458629, 13],\n",
       " [0.9018912529550828, 14],\n",
       " [0.8995271867612293, 10],\n",
       " [0.8983451536643026, 34],\n",
       " [0.8971631205673759, 19],\n",
       " [0.8817966903073287, 27],\n",
       " [0.8806146572104019, 24],\n",
       " [0.8806146572104019, 18],\n",
       " [0.8806146572104019, 17],\n",
       " [0.8806146572104019, 0],\n",
       " [0.8782505910165485, 15],\n",
       " [0.8782505910165485, 11],\n",
       " [0.875886524822695, 31],\n",
       " [0.875886524822695, 12],\n",
       " [0.875886524822695, 9],\n",
       " [0.8711583924349882, 30],\n",
       " [0.8699763593380615, 33],\n",
       " [0.8699763593380615, 3],\n",
       " [0.8687943262411347, 6],\n",
       " [0.8652482269503546, 29],\n",
       " [0.8640661938534279, 21],\n",
       " [0.8628841607565012, 5],\n",
       " [0.8617021276595744, 35],\n",
       " [0.859338061465721, 23]]"
      ]
     },
     "execution_count": 23,
     "metadata": {},
     "output_type": "execute_result"
    }
   ],
   "source": [
    "fourth_run"
   ]
  },
  {
   "cell_type": "markdown",
   "metadata": {},
   "source": [
    "### 5th run: optimal feature = 7"
   ]
  },
  {
   "cell_type": "code",
   "execution_count": 24,
   "metadata": {
    "collapsed": true
   },
   "outputs": [],
   "source": [
    "fifth_run = wrapper_method_add(X,y,[14,10, 19, 8])"
   ]
  },
  {
   "cell_type": "code",
   "execution_count": 25,
   "metadata": {
    "collapsed": false
   },
   "outputs": [
    {
     "data": {
      "text/plain": [
       "[[0.9562647754137116, 7],\n",
       " [0.9456264775413712, 26],\n",
       " [0.9444444444444444, 34],\n",
       " [0.9432624113475178, 1],\n",
       " [0.9408983451536643, 32],\n",
       " [0.9373522458628841, 25],\n",
       " [0.9349881796690307, 20],\n",
       " [0.9349881796690307, 16],\n",
       " [0.9349881796690307, 14],\n",
       " [0.933806146572104, 4],\n",
       " [0.9326241134751773, 13],\n",
       " [0.9314420803782506, 10],\n",
       " [0.9302600472813238, 22],\n",
       " [0.9302600472813238, 2],\n",
       " [0.9290780141843972, 19],\n",
       " [0.925531914893617, 28],\n",
       " [0.9243498817966903, 8],\n",
       " [0.9160756501182034, 31],\n",
       " [0.9101654846335697, 18],\n",
       " [0.9101654846335697, 0],\n",
       " [0.9089834515366431, 17],\n",
       " [0.9089834515366431, 11],\n",
       " [0.9089834515366431, 5],\n",
       " [0.9089834515366431, 3],\n",
       " [0.9066193853427896, 21],\n",
       " [0.9054373522458629, 35],\n",
       " [0.9042553191489362, 29],\n",
       " [0.9030732860520094, 27],\n",
       " [0.9030732860520094, 12],\n",
       " [0.9030732860520094, 9],\n",
       " [0.900709219858156, 23],\n",
       " [0.8959810874704491, 24],\n",
       " [0.8947990543735225, 30],\n",
       " [0.8947990543735225, 15],\n",
       " [0.8936170212765957, 33],\n",
       " [0.892434988179669, 6]]"
      ]
     },
     "execution_count": 25,
     "metadata": {},
     "output_type": "execute_result"
    }
   ],
   "source": [
    "fifth_run"
   ]
  },
  {
   "cell_type": "markdown",
   "metadata": {},
   "source": [
    "### 6th run: optimal feature = 25"
   ]
  },
  {
   "cell_type": "code",
   "execution_count": 26,
   "metadata": {
    "collapsed": true
   },
   "outputs": [],
   "source": [
    "sixth_run = wrapper_method_add(X,y,[14,10, 19, 8, 7])"
   ]
  },
  {
   "cell_type": "code",
   "execution_count": 27,
   "metadata": {
    "collapsed": false
   },
   "outputs": [
    {
     "data": {
      "text/plain": [
       "[[0.958628841607565, 25],\n",
       " [0.9550827423167849, 14],\n",
       " [0.9550827423167849, 10],\n",
       " [0.9539007092198581, 1],\n",
       " [0.9527186761229315, 7],\n",
       " [0.9515366430260047, 20],\n",
       " [0.9515366430260047, 13],\n",
       " [0.9515366430260047, 2],\n",
       " [0.950354609929078, 22],\n",
       " [0.950354609929078, 19],\n",
       " [0.950354609929078, 16],\n",
       " [0.9491725768321513, 34],\n",
       " [0.9491725768321513, 32],\n",
       " [0.9479905437352246, 4],\n",
       " [0.9456264775413712, 8],\n",
       " [0.9432624113475178, 26],\n",
       " [0.9314420803782506, 31],\n",
       " [0.9314420803782506, 28],\n",
       " [0.9314420803782506, 5],\n",
       " [0.9302600472813238, 35],\n",
       " [0.9290780141843972, 30],\n",
       " [0.9267139479905437, 27],\n",
       " [0.9267139479905437, 17],\n",
       " [0.9243498817966903, 11],\n",
       " [0.9231678486997635, 3],\n",
       " [0.9219858156028369, 21],\n",
       " [0.9219858156028369, 0],\n",
       " [0.9184397163120568, 15],\n",
       " [0.9184397163120568, 9],\n",
       " [0.9160756501182034, 24],\n",
       " [0.9148936170212766, 29],\n",
       " [0.9137115839243499, 33],\n",
       " [0.9137115839243499, 18],\n",
       " [0.9113475177304965, 6],\n",
       " [0.9089834515366431, 12],\n",
       " [0.9042553191489362, 23]]"
      ]
     },
     "execution_count": 27,
     "metadata": {},
     "output_type": "execute_result"
    }
   ],
   "source": [
    "sixth_run"
   ]
  },
  {
   "cell_type": "markdown",
   "metadata": {},
   "source": [
    "### 7th run: optimal feature = 1"
   ]
  },
  {
   "cell_type": "code",
   "execution_count": 36,
   "metadata": {
    "collapsed": true
   },
   "outputs": [],
   "source": [
    "seventh_run = wrapper_method_add(X,y,[14,10, 19, 8, 7, 25])"
   ]
  },
  {
   "cell_type": "code",
   "execution_count": 37,
   "metadata": {
    "collapsed": false
   },
   "outputs": [
    {
     "data": {
      "text/plain": [
       "[[0.9621749408983451, 1],\n",
       " [0.9609929078014184, 16],\n",
       " [0.9609929078014184, 14],\n",
       " [0.958628841607565, 4],\n",
       " [0.9562647754137116, 7],\n",
       " [0.9550827423167849, 19],\n",
       " [0.9550827423167849, 10],\n",
       " [0.9539007092198581, 13],\n",
       " [0.9539007092198581, 8],\n",
       " [0.9539007092198581, 2],\n",
       " [0.9515366430260047, 25],\n",
       " [0.9515366430260047, 20],\n",
       " [0.950354609929078, 22],\n",
       " [0.9491725768321513, 32],\n",
       " [0.9456264775413712, 26],\n",
       " [0.9444444444444444, 34],\n",
       " [0.9349881796690307, 28],\n",
       " [0.9302600472813238, 35],\n",
       " [0.9290780141843972, 11],\n",
       " [0.9278959810874704, 31],\n",
       " [0.9278959810874704, 15],\n",
       " [0.9267139479905437, 3],\n",
       " [0.925531914893617, 30],\n",
       " [0.9243498817966903, 33],\n",
       " [0.9243498817966903, 17],\n",
       " [0.9231678486997635, 18],\n",
       " [0.9208037825059102, 29],\n",
       " [0.9208037825059102, 0],\n",
       " [0.9196217494089834, 12],\n",
       " [0.9196217494089834, 9],\n",
       " [0.91725768321513, 27],\n",
       " [0.91725768321513, 21],\n",
       " [0.9148936170212766, 6],\n",
       " [0.9148936170212766, 5],\n",
       " [0.9137115839243499, 24],\n",
       " [0.9125295508274232, 23]]"
      ]
     },
     "execution_count": 37,
     "metadata": {},
     "output_type": "execute_result"
    }
   ],
   "source": [
    "seventh_run"
   ]
  },
  {
   "cell_type": "markdown",
   "metadata": {},
   "source": [
    "### 8th run: optimal feature = N/A\n",
    "\n",
    "We stop the greedy algorithm because the first available feature for selection—that is, the features that weren't previously included (7,19,8,25)—is feature 22, the addition of which generates a lower LOOCV accuracy score than the score generated in the previous run \n",
    "\n",
    "Since 96.22 > 95.98 we halt the Wrapper Method Forward Selection Process"
   ]
  },
  {
   "cell_type": "code",
   "execution_count": 41,
   "metadata": {
    "collapsed": false
   },
   "outputs": [],
   "source": [
    "eighth_run = wrapper_method_add(X,y,[14,10, 19, 8, 7, 25, 1])"
   ]
  },
  {
   "cell_type": "code",
   "execution_count": 42,
   "metadata": {
    "collapsed": false
   },
   "outputs": [
    {
     "data": {
      "text/plain": [
       "[[0.9645390070921985, 7],\n",
       " [0.9609929078014184, 19],\n",
       " [0.9609929078014184, 8],\n",
       " [0.9598108747044918, 25],\n",
       " [0.9598108747044918, 22],\n",
       " [0.9598108747044918, 20],\n",
       " [0.958628841607565, 16],\n",
       " [0.958628841607565, 10],\n",
       " [0.958628841607565, 2],\n",
       " [0.9574468085106383, 13],\n",
       " [0.9562647754137116, 14],\n",
       " [0.9562647754137116, 4],\n",
       " [0.9539007092198581, 1],\n",
       " [0.9527186761229315, 34],\n",
       " [0.950354609929078, 32],\n",
       " [0.9456264775413712, 26],\n",
       " [0.9432624113475178, 28],\n",
       " [0.9432624113475178, 11],\n",
       " [0.9373522458628841, 15],\n",
       " [0.9361702127659575, 35],\n",
       " [0.9349881796690307, 12],\n",
       " [0.9326241134751773, 31],\n",
       " [0.9314420803782506, 33],\n",
       " [0.9314420803782506, 9],\n",
       " [0.9314420803782506, 3],\n",
       " [0.9243498817966903, 30],\n",
       " [0.9243498817966903, 29],\n",
       " [0.9231678486997635, 21],\n",
       " [0.9231678486997635, 18],\n",
       " [0.9208037825059102, 6],\n",
       " [0.9196217494089834, 24],\n",
       " [0.9196217494089834, 17],\n",
       " [0.9184397163120568, 0],\n",
       " [0.91725768321513, 23],\n",
       " [0.91725768321513, 5],\n",
       " [0.9148936170212766, 27]]"
      ]
     },
     "execution_count": 42,
     "metadata": {},
     "output_type": "execute_result"
    }
   ],
   "source": [
    "eighth_run"
   ]
  }
 ],
 "metadata": {
  "kernelspec": {
   "display_name": "Python 3",
   "language": "python",
   "name": "python3"
  },
  "language_info": {
   "codemirror_mode": {
    "name": "ipython",
    "version": 3
   },
   "file_extension": ".py",
   "mimetype": "text/x-python",
   "name": "python",
   "nbconvert_exporter": "python",
   "pygments_lexer": "ipython3",
   "version": "3.6.0"
  }
 },
 "nbformat": 4,
 "nbformat_minor": 2
}
